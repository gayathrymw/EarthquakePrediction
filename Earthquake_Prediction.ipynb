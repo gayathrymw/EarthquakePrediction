{
  "nbformat": 4,
  "nbformat_minor": 0,
  "metadata": {
    "colab": {
      "name": "Earthquake_Prediction.ipynb",
      "provenance": [],
      "collapsed_sections": [],
      "include_colab_link": true
    },
    "kernelspec": {
      "name": "python3",
      "display_name": "Python 3"
    },
    "language_info": {
      "name": "python"
    }
  },
  "cells": [
    {
      "cell_type": "markdown",
      "metadata": {
        "id": "view-in-github",
        "colab_type": "text"
      },
      "source": [
        "<a href=\"https://colab.research.google.com/github/gayathrymw/MathematicsProject-2/blob/main/Earthquake_Prediction.ipynb\" target=\"_parent\"><img src=\"https://colab.research.google.com/assets/colab-badge.svg\" alt=\"Open In Colab\"/></a>"
      ]
    },
    {
      "cell_type": "code",
      "source": [
        "from google.colab import drive\n",
        "drive.mount(\"/content/gdrive\")"
      ],
      "metadata": {
        "colab": {
          "base_uri": "https://localhost:8080/"
        },
        "id": "9keFF0eV1xPr",
        "outputId": "5fe1203c-e915-4a2a-9c5b-33b1fe8927bd"
      },
      "execution_count": null,
      "outputs": [
        {
          "output_type": "stream",
          "name": "stdout",
          "text": [
            "Drive already mounted at /content/gdrive; to attempt to forcibly remount, call drive.mount(\"/content/gdrive\", force_remount=True).\n"
          ]
        }
      ]
    },
    {
      "cell_type": "code",
      "source": [
        "import pandas as pd\n",
        "data=pd.read_csv(\"/content/gdrive/My Drive/input/earthquake.csv\",sep=\",\")\n",
        "print(data)"
      ],
      "metadata": {
        "colab": {
          "base_uri": "https://localhost:8080/"
        },
        "id": "vssgmPkY1zSG",
        "outputId": "996553e1-1b58-4c29-c2cf-65fa1b88f313"
      },
      "execution_count": null,
      "outputs": [
        {
          "output_type": "stream",
          "name": "stdout",
          "text": [
            "                 id        date         time    lat   long country      city  \\\n",
            "0      2.000000e+13  2003.05.20  12:17:44 AM  39.04  40.38  turkey    bingol   \n",
            "1      2.010000e+13  2007.08.01  12:03:08 AM  40.79  30.09  turkey   kocaeli   \n",
            "2      1.980000e+13  1978.05.07  12:41:37 AM  38.58  27.61  turkey    manisa   \n",
            "3      2.000000e+13  1997.03.22  12:31:45 AM  39.47  36.44  turkey     sivas   \n",
            "4      2.000000e+13  2000.04.02  12:57:38 AM  40.80  30.24  turkey   sakarya   \n",
            "...             ...         ...          ...    ...    ...     ...       ...   \n",
            "24002  2.020000e+13  2017.03.10  12:23:42 AM  37.50  38.48  turkey  adiyaman   \n",
            "24003  2.020000e+13  2017.03.10  12:42:44 AM  40.47  35.84  turkey    amasya   \n",
            "24004  2.020000e+13  2017.04.05  12:08:11 AM  38.63  27.57  turkey    manisa   \n",
            "24005  2.020000e+13  2017.04.05  12:35:09 AM  38.65  27.55  turkey    manisa   \n",
            "24006  2.020000e+13  2017.04.05  12:25:25 AM  38.63  27.58  turkey    manisa   \n",
            "\n",
            "                      area   direction  dist  depth   xm   md  richter   mw  \\\n",
            "0               baliklicay        west   0.1   10.0  4.1  4.1      0.0  NaN   \n",
            "1          bayraktar_izmit        west   0.1    5.2  4.0  3.8      4.0  NaN   \n",
            "2               hamzabeyli  south_west   0.1    0.0  3.7  0.0      0.0  NaN   \n",
            "3      kahvepinar_sarkisla  south_west   0.1   10.0  3.5  3.5      0.0  NaN   \n",
            "4          meseli_serdivan  south_west   0.1    7.0  4.3  4.3      0.0  NaN   \n",
            "...                    ...         ...   ...    ...  ...  ...      ...  ...   \n",
            "24002      kirmacik_samsat         NaN   NaN   13.0  4.2  0.0      4.2  4.0   \n",
            "24003              kizoglu         NaN   NaN    5.6  3.6  0.0      3.5  3.6   \n",
            "24004            cavusoglu         NaN   NaN   10.6  4.1  0.0      4.0  4.1   \n",
            "24005            cavusoglu         NaN   NaN    8.7  3.8  0.0      3.6  3.8   \n",
            "24006            cavusoglu         NaN   NaN    9.0  3.5  0.0      3.4  3.5   \n",
            "\n",
            "        ms   mb  \n",
            "0      0.0  0.0  \n",
            "1      0.0  0.0  \n",
            "2      0.0  3.7  \n",
            "3      0.0  0.0  \n",
            "4      0.0  0.0  \n",
            "...    ...  ...  \n",
            "24002  0.0  0.0  \n",
            "24003  0.0  0.0  \n",
            "24004  0.0  0.0  \n",
            "24005  0.0  0.0  \n",
            "24006  0.0  0.0  \n",
            "\n",
            "[24007 rows x 17 columns]\n"
          ]
        }
      ]
    },
    {
      "cell_type": "code",
      "source": [
        "data=data.info()\n",
        "print(data)"
      ],
      "metadata": {
        "colab": {
          "base_uri": "https://localhost:8080/"
        },
        "id": "78oAmrnZ2SUa",
        "outputId": "a681d54d-b595-409b-a1c9-b60b8740d7e1"
      },
      "execution_count": null,
      "outputs": [
        {
          "output_type": "stream",
          "name": "stdout",
          "text": [
            "<class 'pandas.core.frame.DataFrame'>\n",
            "RangeIndex: 24007 entries, 0 to 24006\n",
            "Data columns (total 17 columns):\n",
            " #   Column     Non-Null Count  Dtype  \n",
            "---  ------     --------------  -----  \n",
            " 0   id         24007 non-null  float64\n",
            " 1   date       24007 non-null  object \n",
            " 2   time       24007 non-null  object \n",
            " 3   lat        24007 non-null  float64\n",
            " 4   long       24007 non-null  float64\n",
            " 5   country    24007 non-null  object \n",
            " 6   city       11754 non-null  object \n",
            " 7   area       12977 non-null  object \n",
            " 8   direction  10062 non-null  object \n",
            " 9   dist       10062 non-null  float64\n",
            " 10  depth      24007 non-null  float64\n",
            " 11  xm         24007 non-null  float64\n",
            " 12  md         24007 non-null  float64\n",
            " 13  richter    24007 non-null  float64\n",
            " 14  mw         5003 non-null   float64\n",
            " 15  ms         24007 non-null  float64\n",
            " 16  mb         24007 non-null  float64\n",
            "dtypes: float64(11), object(6)\n",
            "memory usage: 3.1+ MB\n",
            "None\n"
          ]
        }
      ]
    },
    {
      "cell_type": "code",
      "source": [
        "import pandas as pd\n",
        "data=pd.read_csv(\"/content/gdrive/My Drive/input/earthquake.csv\",sep=\",\")\n",
        "data=data[['id','lat','long','dist','depth','xm','md','richter','ms','mb']]\n",
        "data=data.head(10)\n",
        "print(data)\n"
      ],
      "metadata": {
        "colab": {
          "base_uri": "https://localhost:8080/"
        },
        "id": "tAJ76z9d2cgc",
        "outputId": "fe5651f3-39a6-45fe-8bcc-a9a3a5550fb2"
      },
      "execution_count": null,
      "outputs": [
        {
          "output_type": "stream",
          "name": "stdout",
          "text": [
            "             id    lat   long  dist  depth   xm   md  richter   ms   mb\n",
            "0  2.000000e+13  39.04  40.38   0.1   10.0  4.1  4.1      0.0  0.0  0.0\n",
            "1  2.010000e+13  40.79  30.09   0.1    5.2  4.0  3.8      4.0  0.0  0.0\n",
            "2  1.980000e+13  38.58  27.61   0.1    0.0  3.7  0.0      0.0  0.0  3.7\n",
            "3  2.000000e+13  39.47  36.44   0.1   10.0  3.5  3.5      0.0  0.0  0.0\n",
            "4  2.000000e+13  40.80  30.24   0.1    7.0  4.3  4.3      0.0  0.0  0.0\n",
            "5  2.010000e+13  37.11  27.75   0.1   32.8  3.5  3.5      0.0  0.0  0.0\n",
            "6  2.010000e+13  38.75  43.61   0.1    9.4  4.5  0.0      4.5  0.0  0.0\n",
            "7  1.990000e+13  39.43  27.98   0.1   26.0  3.8  3.8      0.0  0.0  0.0\n",
            "8  2.000000e+13  40.05  34.07   0.1    1.0  3.8  3.8      0.0  0.0  0.0\n",
            "9  2.010000e+13  38.76  43.54   0.1    3.1  4.3  0.0      4.2  0.0  4.3\n"
          ]
        }
      ]
    },
    {
      "cell_type": "code",
      "source": [
        "import numpy as np # linear algebra\n",
        "import pandas as pd # data processing, CSV file I/O (e.g. pd.read_csv)\n",
        "import seaborn as sn\n",
        "import os\n",
        "print(os.listdir(\"/content/gdrive/My Drive/input\"))\n"
      ],
      "metadata": {
        "colab": {
          "base_uri": "https://localhost:8080/"
        },
        "id": "yGtUASJ_5ZBq",
        "outputId": "d215307e-1202-47a0-80ce-a4168bc07608"
      },
      "execution_count": null,
      "outputs": [
        {
          "output_type": "stream",
          "name": "stdout",
          "text": [
            "['earthquake.csv']\n"
          ]
        }
      ]
    },
    {
      "cell_type": "code",
      "source": [
        "from subprocess import check_output\n",
        "print(check_output([\"ls\", \"/content/gdrive/My Drive/input\"]).decode(\"utf8\"))"
      ],
      "metadata": {
        "colab": {
          "base_uri": "https://localhost:8080/"
        },
        "id": "ez09e3hd6xXZ",
        "outputId": "20c906ae-b7e7-4142-980d-f8a183f612f4"
      },
      "execution_count": null,
      "outputs": [
        {
          "output_type": "stream",
          "name": "stdout",
          "text": [
            "earthquake.csv\n",
            "\n"
          ]
        }
      ]
    },
    {
      "cell_type": "code",
      "source": [
        "veri=pd.read_csv(('/content/gdrive/My Drive/input/earthquake.csv'), encoding='utf-8', engine='python',sep=',',error_bad_lines=False)\n",
        "veri.describe()"
      ],
      "metadata": {
        "colab": {
          "base_uri": "https://localhost:8080/",
          "height": 392
        },
        "id": "-HFsQ2T97AeE",
        "outputId": "371461de-87b3-43c0-8bf5-d10f2f918dcc"
      },
      "execution_count": null,
      "outputs": [
        {
          "output_type": "stream",
          "name": "stderr",
          "text": [
            "/usr/local/lib/python3.7/dist-packages/IPython/core/interactiveshell.py:2882: FutureWarning: The error_bad_lines argument has been deprecated and will be removed in a future version.\n",
            "\n",
            "\n",
            "  exec(code_obj, self.user_global_ns, self.user_ns)\n"
          ]
        },
        {
          "output_type": "execute_result",
          "data": {
            "text/plain": [
              "                 id           lat          long          dist         depth  \\\n",
              "count  2.400700e+04  24007.000000  24007.000000  10062.000000  24007.000000   \n",
              "mean   1.991982e+13     37.929474     30.773229      3.175015     18.491773   \n",
              "std    2.060396e+11      2.205605      6.584596      4.715461     23.218553   \n",
              "min    1.910000e+13     29.740000     18.340000      0.100000      0.000000   \n",
              "25%    1.980000e+13     36.190000     26.195000      1.400000      5.000000   \n",
              "50%    2.000000e+13     38.200000     28.350000      2.300000     10.000000   \n",
              "75%    2.010000e+13     39.360000     33.855000      3.600000     22.400000   \n",
              "max    2.020000e+13     46.350000     48.000000     95.400000    225.000000   \n",
              "\n",
              "                 xm            md       richter           mw            ms  \\\n",
              "count  24007.000000  24007.000000  24007.000000  5003.000000  24007.000000   \n",
              "mean       4.056038      1.912346      2.196826     4.478973      0.677677   \n",
              "std        0.574085      2.059780      2.081417     1.048085      1.675708   \n",
              "min        3.500000      0.000000      0.000000     0.000000      0.000000   \n",
              "25%        3.600000      0.000000      0.000000     4.100000      0.000000   \n",
              "50%        3.900000      0.000000      3.500000     4.700000      0.000000   \n",
              "75%        4.400000      3.800000      4.000000     5.000000      0.000000   \n",
              "max        7.900000      7.400000      7.200000     7.700000      7.900000   \n",
              "\n",
              "                 mb  \n",
              "count  24007.000000  \n",
              "mean       1.690561  \n",
              "std        2.146108  \n",
              "min        0.000000  \n",
              "25%        0.000000  \n",
              "50%        0.000000  \n",
              "75%        4.100000  \n",
              "max        7.100000  "
            ],
            "text/html": [
              "\n",
              "  <div id=\"df-709f63c6-4eda-4351-bd49-c8005b3615ce\">\n",
              "    <div class=\"colab-df-container\">\n",
              "      <div>\n",
              "<style scoped>\n",
              "    .dataframe tbody tr th:only-of-type {\n",
              "        vertical-align: middle;\n",
              "    }\n",
              "\n",
              "    .dataframe tbody tr th {\n",
              "        vertical-align: top;\n",
              "    }\n",
              "\n",
              "    .dataframe thead th {\n",
              "        text-align: right;\n",
              "    }\n",
              "</style>\n",
              "<table border=\"1\" class=\"dataframe\">\n",
              "  <thead>\n",
              "    <tr style=\"text-align: right;\">\n",
              "      <th></th>\n",
              "      <th>id</th>\n",
              "      <th>lat</th>\n",
              "      <th>long</th>\n",
              "      <th>dist</th>\n",
              "      <th>depth</th>\n",
              "      <th>xm</th>\n",
              "      <th>md</th>\n",
              "      <th>richter</th>\n",
              "      <th>mw</th>\n",
              "      <th>ms</th>\n",
              "      <th>mb</th>\n",
              "    </tr>\n",
              "  </thead>\n",
              "  <tbody>\n",
              "    <tr>\n",
              "      <th>count</th>\n",
              "      <td>2.400700e+04</td>\n",
              "      <td>24007.000000</td>\n",
              "      <td>24007.000000</td>\n",
              "      <td>10062.000000</td>\n",
              "      <td>24007.000000</td>\n",
              "      <td>24007.000000</td>\n",
              "      <td>24007.000000</td>\n",
              "      <td>24007.000000</td>\n",
              "      <td>5003.000000</td>\n",
              "      <td>24007.000000</td>\n",
              "      <td>24007.000000</td>\n",
              "    </tr>\n",
              "    <tr>\n",
              "      <th>mean</th>\n",
              "      <td>1.991982e+13</td>\n",
              "      <td>37.929474</td>\n",
              "      <td>30.773229</td>\n",
              "      <td>3.175015</td>\n",
              "      <td>18.491773</td>\n",
              "      <td>4.056038</td>\n",
              "      <td>1.912346</td>\n",
              "      <td>2.196826</td>\n",
              "      <td>4.478973</td>\n",
              "      <td>0.677677</td>\n",
              "      <td>1.690561</td>\n",
              "    </tr>\n",
              "    <tr>\n",
              "      <th>std</th>\n",
              "      <td>2.060396e+11</td>\n",
              "      <td>2.205605</td>\n",
              "      <td>6.584596</td>\n",
              "      <td>4.715461</td>\n",
              "      <td>23.218553</td>\n",
              "      <td>0.574085</td>\n",
              "      <td>2.059780</td>\n",
              "      <td>2.081417</td>\n",
              "      <td>1.048085</td>\n",
              "      <td>1.675708</td>\n",
              "      <td>2.146108</td>\n",
              "    </tr>\n",
              "    <tr>\n",
              "      <th>min</th>\n",
              "      <td>1.910000e+13</td>\n",
              "      <td>29.740000</td>\n",
              "      <td>18.340000</td>\n",
              "      <td>0.100000</td>\n",
              "      <td>0.000000</td>\n",
              "      <td>3.500000</td>\n",
              "      <td>0.000000</td>\n",
              "      <td>0.000000</td>\n",
              "      <td>0.000000</td>\n",
              "      <td>0.000000</td>\n",
              "      <td>0.000000</td>\n",
              "    </tr>\n",
              "    <tr>\n",
              "      <th>25%</th>\n",
              "      <td>1.980000e+13</td>\n",
              "      <td>36.190000</td>\n",
              "      <td>26.195000</td>\n",
              "      <td>1.400000</td>\n",
              "      <td>5.000000</td>\n",
              "      <td>3.600000</td>\n",
              "      <td>0.000000</td>\n",
              "      <td>0.000000</td>\n",
              "      <td>4.100000</td>\n",
              "      <td>0.000000</td>\n",
              "      <td>0.000000</td>\n",
              "    </tr>\n",
              "    <tr>\n",
              "      <th>50%</th>\n",
              "      <td>2.000000e+13</td>\n",
              "      <td>38.200000</td>\n",
              "      <td>28.350000</td>\n",
              "      <td>2.300000</td>\n",
              "      <td>10.000000</td>\n",
              "      <td>3.900000</td>\n",
              "      <td>0.000000</td>\n",
              "      <td>3.500000</td>\n",
              "      <td>4.700000</td>\n",
              "      <td>0.000000</td>\n",
              "      <td>0.000000</td>\n",
              "    </tr>\n",
              "    <tr>\n",
              "      <th>75%</th>\n",
              "      <td>2.010000e+13</td>\n",
              "      <td>39.360000</td>\n",
              "      <td>33.855000</td>\n",
              "      <td>3.600000</td>\n",
              "      <td>22.400000</td>\n",
              "      <td>4.400000</td>\n",
              "      <td>3.800000</td>\n",
              "      <td>4.000000</td>\n",
              "      <td>5.000000</td>\n",
              "      <td>0.000000</td>\n",
              "      <td>4.100000</td>\n",
              "    </tr>\n",
              "    <tr>\n",
              "      <th>max</th>\n",
              "      <td>2.020000e+13</td>\n",
              "      <td>46.350000</td>\n",
              "      <td>48.000000</td>\n",
              "      <td>95.400000</td>\n",
              "      <td>225.000000</td>\n",
              "      <td>7.900000</td>\n",
              "      <td>7.400000</td>\n",
              "      <td>7.200000</td>\n",
              "      <td>7.700000</td>\n",
              "      <td>7.900000</td>\n",
              "      <td>7.100000</td>\n",
              "    </tr>\n",
              "  </tbody>\n",
              "</table>\n",
              "</div>\n",
              "      <button class=\"colab-df-convert\" onclick=\"convertToInteractive('df-709f63c6-4eda-4351-bd49-c8005b3615ce')\"\n",
              "              title=\"Convert this dataframe to an interactive table.\"\n",
              "              style=\"display:none;\">\n",
              "        \n",
              "  <svg xmlns=\"http://www.w3.org/2000/svg\" height=\"24px\"viewBox=\"0 0 24 24\"\n",
              "       width=\"24px\">\n",
              "    <path d=\"M0 0h24v24H0V0z\" fill=\"none\"/>\n",
              "    <path d=\"M18.56 5.44l.94 2.06.94-2.06 2.06-.94-2.06-.94-.94-2.06-.94 2.06-2.06.94zm-11 1L8.5 8.5l.94-2.06 2.06-.94-2.06-.94L8.5 2.5l-.94 2.06-2.06.94zm10 10l.94 2.06.94-2.06 2.06-.94-2.06-.94-.94-2.06-.94 2.06-2.06.94z\"/><path d=\"M17.41 7.96l-1.37-1.37c-.4-.4-.92-.59-1.43-.59-.52 0-1.04.2-1.43.59L10.3 9.45l-7.72 7.72c-.78.78-.78 2.05 0 2.83L4 21.41c.39.39.9.59 1.41.59.51 0 1.02-.2 1.41-.59l7.78-7.78 2.81-2.81c.8-.78.8-2.07 0-2.86zM5.41 20L4 18.59l7.72-7.72 1.47 1.35L5.41 20z\"/>\n",
              "  </svg>\n",
              "      </button>\n",
              "      \n",
              "  <style>\n",
              "    .colab-df-container {\n",
              "      display:flex;\n",
              "      flex-wrap:wrap;\n",
              "      gap: 12px;\n",
              "    }\n",
              "\n",
              "    .colab-df-convert {\n",
              "      background-color: #E8F0FE;\n",
              "      border: none;\n",
              "      border-radius: 50%;\n",
              "      cursor: pointer;\n",
              "      display: none;\n",
              "      fill: #1967D2;\n",
              "      height: 32px;\n",
              "      padding: 0 0 0 0;\n",
              "      width: 32px;\n",
              "    }\n",
              "\n",
              "    .colab-df-convert:hover {\n",
              "      background-color: #E2EBFA;\n",
              "      box-shadow: 0px 1px 2px rgba(60, 64, 67, 0.3), 0px 1px 3px 1px rgba(60, 64, 67, 0.15);\n",
              "      fill: #174EA6;\n",
              "    }\n",
              "\n",
              "    [theme=dark] .colab-df-convert {\n",
              "      background-color: #3B4455;\n",
              "      fill: #D2E3FC;\n",
              "    }\n",
              "\n",
              "    [theme=dark] .colab-df-convert:hover {\n",
              "      background-color: #434B5C;\n",
              "      box-shadow: 0px 1px 3px 1px rgba(0, 0, 0, 0.15);\n",
              "      filter: drop-shadow(0px 1px 2px rgba(0, 0, 0, 0.3));\n",
              "      fill: #FFFFFF;\n",
              "    }\n",
              "  </style>\n",
              "\n",
              "      <script>\n",
              "        const buttonEl =\n",
              "          document.querySelector('#df-709f63c6-4eda-4351-bd49-c8005b3615ce button.colab-df-convert');\n",
              "        buttonEl.style.display =\n",
              "          google.colab.kernel.accessAllowed ? 'block' : 'none';\n",
              "\n",
              "        async function convertToInteractive(key) {\n",
              "          const element = document.querySelector('#df-709f63c6-4eda-4351-bd49-c8005b3615ce');\n",
              "          const dataTable =\n",
              "            await google.colab.kernel.invokeFunction('convertToInteractive',\n",
              "                                                     [key], {});\n",
              "          if (!dataTable) return;\n",
              "\n",
              "          const docLinkHtml = 'Like what you see? Visit the ' +\n",
              "            '<a target=\"_blank\" href=https://colab.research.google.com/notebooks/data_table.ipynb>data table notebook</a>'\n",
              "            + ' to learn more about interactive tables.';\n",
              "          element.innerHTML = '';\n",
              "          dataTable['output_type'] = 'display_data';\n",
              "          await google.colab.output.renderOutput(dataTable, element);\n",
              "          const docLink = document.createElement('div');\n",
              "          docLink.innerHTML = docLinkHtml;\n",
              "          element.appendChild(docLink);\n",
              "        }\n",
              "      </script>\n",
              "    </div>\n",
              "  </div>\n",
              "  "
            ]
          },
          "metadata": {},
          "execution_count": 30
        }
      ]
    },
    {
      "cell_type": "code",
      "source": [
        "veri.corr()"
      ],
      "metadata": {
        "colab": {
          "base_uri": "https://localhost:8080/",
          "height": 394
        },
        "id": "0rMJn32W7Nma",
        "outputId": "1657a2d1-e37d-48ce-dcee-c47b75e3cb7b"
      },
      "execution_count": null,
      "outputs": [
        {
          "output_type": "execute_result",
          "data": {
            "text/plain": [
              "               id       lat      long      dist     depth        xm        md  \\\n",
              "id       1.000000 -0.071851  0.104695  0.005693 -0.201035 -0.535262 -0.379838   \n",
              "lat     -0.071851  1.000000  0.232346  0.079336 -0.241904 -0.010347  0.051100   \n",
              "long     0.104695  0.232346  1.000000  0.028332 -0.064886  0.071856  0.107302   \n",
              "dist     0.005693  0.079336  0.028332  1.000000  0.028694  0.004511 -0.004314   \n",
              "depth   -0.201035 -0.241904 -0.064886  0.028694  1.000000  0.302926  0.042542   \n",
              "xm      -0.535262 -0.010347  0.071856  0.004511  0.302926  1.000000  0.241432   \n",
              "md      -0.379838  0.051100  0.107302 -0.004314  0.042542  0.241432  1.000000   \n",
              "richter -0.152355 -0.032155 -0.140393  0.006295  0.150559  0.426653 -0.237586   \n",
              "mw      -0.613444  0.040614  0.103712 -0.011798  0.215900  0.781860  0.623224   \n",
              "ms      -0.672286  0.056228  0.043574 -0.009058  0.260246  0.699579  0.461104   \n",
              "mb      -0.611488  0.015019  0.003432 -0.000091  0.313953  0.628382 -0.022863   \n",
              "\n",
              "          richter        mw        ms        mb  \n",
              "id      -0.152355 -0.613444 -0.672286 -0.611488  \n",
              "lat     -0.032155  0.040614  0.056228  0.015019  \n",
              "long    -0.140393  0.103712  0.043574  0.003432  \n",
              "dist     0.006295 -0.011798 -0.009058 -0.000091  \n",
              "depth    0.150559  0.215900  0.260246  0.313953  \n",
              "xm       0.426653  0.781860  0.699579  0.628382  \n",
              "md      -0.237586  0.623224  0.461104 -0.022863  \n",
              "richter  1.000000  0.447001  0.419664  0.240694  \n",
              "mw       0.447001  1.000000  0.640529  0.628503  \n",
              "ms       0.419664  0.640529  1.000000  0.588919  \n",
              "mb       0.240694  0.628503  0.588919  1.000000  "
            ],
            "text/html": [
              "\n",
              "  <div id=\"df-af0348c4-724b-4131-ac01-6eccea540d10\">\n",
              "    <div class=\"colab-df-container\">\n",
              "      <div>\n",
              "<style scoped>\n",
              "    .dataframe tbody tr th:only-of-type {\n",
              "        vertical-align: middle;\n",
              "    }\n",
              "\n",
              "    .dataframe tbody tr th {\n",
              "        vertical-align: top;\n",
              "    }\n",
              "\n",
              "    .dataframe thead th {\n",
              "        text-align: right;\n",
              "    }\n",
              "</style>\n",
              "<table border=\"1\" class=\"dataframe\">\n",
              "  <thead>\n",
              "    <tr style=\"text-align: right;\">\n",
              "      <th></th>\n",
              "      <th>id</th>\n",
              "      <th>lat</th>\n",
              "      <th>long</th>\n",
              "      <th>dist</th>\n",
              "      <th>depth</th>\n",
              "      <th>xm</th>\n",
              "      <th>md</th>\n",
              "      <th>richter</th>\n",
              "      <th>mw</th>\n",
              "      <th>ms</th>\n",
              "      <th>mb</th>\n",
              "    </tr>\n",
              "  </thead>\n",
              "  <tbody>\n",
              "    <tr>\n",
              "      <th>id</th>\n",
              "      <td>1.000000</td>\n",
              "      <td>-0.071851</td>\n",
              "      <td>0.104695</td>\n",
              "      <td>0.005693</td>\n",
              "      <td>-0.201035</td>\n",
              "      <td>-0.535262</td>\n",
              "      <td>-0.379838</td>\n",
              "      <td>-0.152355</td>\n",
              "      <td>-0.613444</td>\n",
              "      <td>-0.672286</td>\n",
              "      <td>-0.611488</td>\n",
              "    </tr>\n",
              "    <tr>\n",
              "      <th>lat</th>\n",
              "      <td>-0.071851</td>\n",
              "      <td>1.000000</td>\n",
              "      <td>0.232346</td>\n",
              "      <td>0.079336</td>\n",
              "      <td>-0.241904</td>\n",
              "      <td>-0.010347</td>\n",
              "      <td>0.051100</td>\n",
              "      <td>-0.032155</td>\n",
              "      <td>0.040614</td>\n",
              "      <td>0.056228</td>\n",
              "      <td>0.015019</td>\n",
              "    </tr>\n",
              "    <tr>\n",
              "      <th>long</th>\n",
              "      <td>0.104695</td>\n",
              "      <td>0.232346</td>\n",
              "      <td>1.000000</td>\n",
              "      <td>0.028332</td>\n",
              "      <td>-0.064886</td>\n",
              "      <td>0.071856</td>\n",
              "      <td>0.107302</td>\n",
              "      <td>-0.140393</td>\n",
              "      <td>0.103712</td>\n",
              "      <td>0.043574</td>\n",
              "      <td>0.003432</td>\n",
              "    </tr>\n",
              "    <tr>\n",
              "      <th>dist</th>\n",
              "      <td>0.005693</td>\n",
              "      <td>0.079336</td>\n",
              "      <td>0.028332</td>\n",
              "      <td>1.000000</td>\n",
              "      <td>0.028694</td>\n",
              "      <td>0.004511</td>\n",
              "      <td>-0.004314</td>\n",
              "      <td>0.006295</td>\n",
              "      <td>-0.011798</td>\n",
              "      <td>-0.009058</td>\n",
              "      <td>-0.000091</td>\n",
              "    </tr>\n",
              "    <tr>\n",
              "      <th>depth</th>\n",
              "      <td>-0.201035</td>\n",
              "      <td>-0.241904</td>\n",
              "      <td>-0.064886</td>\n",
              "      <td>0.028694</td>\n",
              "      <td>1.000000</td>\n",
              "      <td>0.302926</td>\n",
              "      <td>0.042542</td>\n",
              "      <td>0.150559</td>\n",
              "      <td>0.215900</td>\n",
              "      <td>0.260246</td>\n",
              "      <td>0.313953</td>\n",
              "    </tr>\n",
              "    <tr>\n",
              "      <th>xm</th>\n",
              "      <td>-0.535262</td>\n",
              "      <td>-0.010347</td>\n",
              "      <td>0.071856</td>\n",
              "      <td>0.004511</td>\n",
              "      <td>0.302926</td>\n",
              "      <td>1.000000</td>\n",
              "      <td>0.241432</td>\n",
              "      <td>0.426653</td>\n",
              "      <td>0.781860</td>\n",
              "      <td>0.699579</td>\n",
              "      <td>0.628382</td>\n",
              "    </tr>\n",
              "    <tr>\n",
              "      <th>md</th>\n",
              "      <td>-0.379838</td>\n",
              "      <td>0.051100</td>\n",
              "      <td>0.107302</td>\n",
              "      <td>-0.004314</td>\n",
              "      <td>0.042542</td>\n",
              "      <td>0.241432</td>\n",
              "      <td>1.000000</td>\n",
              "      <td>-0.237586</td>\n",
              "      <td>0.623224</td>\n",
              "      <td>0.461104</td>\n",
              "      <td>-0.022863</td>\n",
              "    </tr>\n",
              "    <tr>\n",
              "      <th>richter</th>\n",
              "      <td>-0.152355</td>\n",
              "      <td>-0.032155</td>\n",
              "      <td>-0.140393</td>\n",
              "      <td>0.006295</td>\n",
              "      <td>0.150559</td>\n",
              "      <td>0.426653</td>\n",
              "      <td>-0.237586</td>\n",
              "      <td>1.000000</td>\n",
              "      <td>0.447001</td>\n",
              "      <td>0.419664</td>\n",
              "      <td>0.240694</td>\n",
              "    </tr>\n",
              "    <tr>\n",
              "      <th>mw</th>\n",
              "      <td>-0.613444</td>\n",
              "      <td>0.040614</td>\n",
              "      <td>0.103712</td>\n",
              "      <td>-0.011798</td>\n",
              "      <td>0.215900</td>\n",
              "      <td>0.781860</td>\n",
              "      <td>0.623224</td>\n",
              "      <td>0.447001</td>\n",
              "      <td>1.000000</td>\n",
              "      <td>0.640529</td>\n",
              "      <td>0.628503</td>\n",
              "    </tr>\n",
              "    <tr>\n",
              "      <th>ms</th>\n",
              "      <td>-0.672286</td>\n",
              "      <td>0.056228</td>\n",
              "      <td>0.043574</td>\n",
              "      <td>-0.009058</td>\n",
              "      <td>0.260246</td>\n",
              "      <td>0.699579</td>\n",
              "      <td>0.461104</td>\n",
              "      <td>0.419664</td>\n",
              "      <td>0.640529</td>\n",
              "      <td>1.000000</td>\n",
              "      <td>0.588919</td>\n",
              "    </tr>\n",
              "    <tr>\n",
              "      <th>mb</th>\n",
              "      <td>-0.611488</td>\n",
              "      <td>0.015019</td>\n",
              "      <td>0.003432</td>\n",
              "      <td>-0.000091</td>\n",
              "      <td>0.313953</td>\n",
              "      <td>0.628382</td>\n",
              "      <td>-0.022863</td>\n",
              "      <td>0.240694</td>\n",
              "      <td>0.628503</td>\n",
              "      <td>0.588919</td>\n",
              "      <td>1.000000</td>\n",
              "    </tr>\n",
              "  </tbody>\n",
              "</table>\n",
              "</div>\n",
              "      <button class=\"colab-df-convert\" onclick=\"convertToInteractive('df-af0348c4-724b-4131-ac01-6eccea540d10')\"\n",
              "              title=\"Convert this dataframe to an interactive table.\"\n",
              "              style=\"display:none;\">\n",
              "        \n",
              "  <svg xmlns=\"http://www.w3.org/2000/svg\" height=\"24px\"viewBox=\"0 0 24 24\"\n",
              "       width=\"24px\">\n",
              "    <path d=\"M0 0h24v24H0V0z\" fill=\"none\"/>\n",
              "    <path d=\"M18.56 5.44l.94 2.06.94-2.06 2.06-.94-2.06-.94-.94-2.06-.94 2.06-2.06.94zm-11 1L8.5 8.5l.94-2.06 2.06-.94-2.06-.94L8.5 2.5l-.94 2.06-2.06.94zm10 10l.94 2.06.94-2.06 2.06-.94-2.06-.94-.94-2.06-.94 2.06-2.06.94z\"/><path d=\"M17.41 7.96l-1.37-1.37c-.4-.4-.92-.59-1.43-.59-.52 0-1.04.2-1.43.59L10.3 9.45l-7.72 7.72c-.78.78-.78 2.05 0 2.83L4 21.41c.39.39.9.59 1.41.59.51 0 1.02-.2 1.41-.59l7.78-7.78 2.81-2.81c.8-.78.8-2.07 0-2.86zM5.41 20L4 18.59l7.72-7.72 1.47 1.35L5.41 20z\"/>\n",
              "  </svg>\n",
              "      </button>\n",
              "      \n",
              "  <style>\n",
              "    .colab-df-container {\n",
              "      display:flex;\n",
              "      flex-wrap:wrap;\n",
              "      gap: 12px;\n",
              "    }\n",
              "\n",
              "    .colab-df-convert {\n",
              "      background-color: #E8F0FE;\n",
              "      border: none;\n",
              "      border-radius: 50%;\n",
              "      cursor: pointer;\n",
              "      display: none;\n",
              "      fill: #1967D2;\n",
              "      height: 32px;\n",
              "      padding: 0 0 0 0;\n",
              "      width: 32px;\n",
              "    }\n",
              "\n",
              "    .colab-df-convert:hover {\n",
              "      background-color: #E2EBFA;\n",
              "      box-shadow: 0px 1px 2px rgba(60, 64, 67, 0.3), 0px 1px 3px 1px rgba(60, 64, 67, 0.15);\n",
              "      fill: #174EA6;\n",
              "    }\n",
              "\n",
              "    [theme=dark] .colab-df-convert {\n",
              "      background-color: #3B4455;\n",
              "      fill: #D2E3FC;\n",
              "    }\n",
              "\n",
              "    [theme=dark] .colab-df-convert:hover {\n",
              "      background-color: #434B5C;\n",
              "      box-shadow: 0px 1px 3px 1px rgba(0, 0, 0, 0.15);\n",
              "      filter: drop-shadow(0px 1px 2px rgba(0, 0, 0, 0.3));\n",
              "      fill: #FFFFFF;\n",
              "    }\n",
              "  </style>\n",
              "\n",
              "      <script>\n",
              "        const buttonEl =\n",
              "          document.querySelector('#df-af0348c4-724b-4131-ac01-6eccea540d10 button.colab-df-convert');\n",
              "        buttonEl.style.display =\n",
              "          google.colab.kernel.accessAllowed ? 'block' : 'none';\n",
              "\n",
              "        async function convertToInteractive(key) {\n",
              "          const element = document.querySelector('#df-af0348c4-724b-4131-ac01-6eccea540d10');\n",
              "          const dataTable =\n",
              "            await google.colab.kernel.invokeFunction('convertToInteractive',\n",
              "                                                     [key], {});\n",
              "          if (!dataTable) return;\n",
              "\n",
              "          const docLinkHtml = 'Like what you see? Visit the ' +\n",
              "            '<a target=\"_blank\" href=https://colab.research.google.com/notebooks/data_table.ipynb>data table notebook</a>'\n",
              "            + ' to learn more about interactive tables.';\n",
              "          element.innerHTML = '';\n",
              "          dataTable['output_type'] = 'display_data';\n",
              "          await google.colab.output.renderOutput(dataTable, element);\n",
              "          const docLink = document.createElement('div');\n",
              "          docLink.innerHTML = docLinkHtml;\n",
              "          element.appendChild(docLink);\n",
              "        }\n",
              "      </script>\n",
              "    </div>\n",
              "  </div>\n",
              "  "
            ]
          },
          "metadata": {},
          "execution_count": 31
        }
      ]
    },
    {
      "cell_type": "markdown",
      "source": [
        "## MODEL 1"
      ],
      "metadata": {
        "id": "CS7i8tcOVto9"
      }
    },
    {
      "cell_type": "code",
      "source": [
        "veri=pd.read_csv(('/content/gdrive/My Drive/input/earthquake.csv'), encoding='utf-8', engine='python',sep=',',error_bad_lines=False)\n",
        "veri.describe()"
      ],
      "metadata": {
        "colab": {
          "base_uri": "https://localhost:8080/",
          "height": 392
        },
        "id": "t8gIHMeBg4iv",
        "outputId": "3055c1ad-bd5c-4d2f-d68b-0dc2b8d4cb8d"
      },
      "execution_count": null,
      "outputs": [
        {
          "output_type": "stream",
          "name": "stderr",
          "text": [
            "/usr/local/lib/python3.7/dist-packages/IPython/core/interactiveshell.py:2882: FutureWarning: The error_bad_lines argument has been deprecated and will be removed in a future version.\n",
            "\n",
            "\n",
            "  exec(code_obj, self.user_global_ns, self.user_ns)\n"
          ]
        },
        {
          "output_type": "execute_result",
          "data": {
            "text/plain": [
              "                 id           lat          long          dist         depth  \\\n",
              "count  2.400700e+04  24007.000000  24007.000000  10062.000000  24007.000000   \n",
              "mean   1.991982e+13     37.929474     30.773229      3.175015     18.491773   \n",
              "std    2.060396e+11      2.205605      6.584596      4.715461     23.218553   \n",
              "min    1.910000e+13     29.740000     18.340000      0.100000      0.000000   \n",
              "25%    1.980000e+13     36.190000     26.195000      1.400000      5.000000   \n",
              "50%    2.000000e+13     38.200000     28.350000      2.300000     10.000000   \n",
              "75%    2.010000e+13     39.360000     33.855000      3.600000     22.400000   \n",
              "max    2.020000e+13     46.350000     48.000000     95.400000    225.000000   \n",
              "\n",
              "                 xm            md       richter           mw            ms  \\\n",
              "count  24007.000000  24007.000000  24007.000000  5003.000000  24007.000000   \n",
              "mean       4.056038      1.912346      2.196826     4.478973      0.677677   \n",
              "std        0.574085      2.059780      2.081417     1.048085      1.675708   \n",
              "min        3.500000      0.000000      0.000000     0.000000      0.000000   \n",
              "25%        3.600000      0.000000      0.000000     4.100000      0.000000   \n",
              "50%        3.900000      0.000000      3.500000     4.700000      0.000000   \n",
              "75%        4.400000      3.800000      4.000000     5.000000      0.000000   \n",
              "max        7.900000      7.400000      7.200000     7.700000      7.900000   \n",
              "\n",
              "                 mb  \n",
              "count  24007.000000  \n",
              "mean       1.690561  \n",
              "std        2.146108  \n",
              "min        0.000000  \n",
              "25%        0.000000  \n",
              "50%        0.000000  \n",
              "75%        4.100000  \n",
              "max        7.100000  "
            ],
            "text/html": [
              "\n",
              "  <div id=\"df-2e7e516e-c76b-4247-a7dc-995e7f16d8b2\">\n",
              "    <div class=\"colab-df-container\">\n",
              "      <div>\n",
              "<style scoped>\n",
              "    .dataframe tbody tr th:only-of-type {\n",
              "        vertical-align: middle;\n",
              "    }\n",
              "\n",
              "    .dataframe tbody tr th {\n",
              "        vertical-align: top;\n",
              "    }\n",
              "\n",
              "    .dataframe thead th {\n",
              "        text-align: right;\n",
              "    }\n",
              "</style>\n",
              "<table border=\"1\" class=\"dataframe\">\n",
              "  <thead>\n",
              "    <tr style=\"text-align: right;\">\n",
              "      <th></th>\n",
              "      <th>id</th>\n",
              "      <th>lat</th>\n",
              "      <th>long</th>\n",
              "      <th>dist</th>\n",
              "      <th>depth</th>\n",
              "      <th>xm</th>\n",
              "      <th>md</th>\n",
              "      <th>richter</th>\n",
              "      <th>mw</th>\n",
              "      <th>ms</th>\n",
              "      <th>mb</th>\n",
              "    </tr>\n",
              "  </thead>\n",
              "  <tbody>\n",
              "    <tr>\n",
              "      <th>count</th>\n",
              "      <td>2.400700e+04</td>\n",
              "      <td>24007.000000</td>\n",
              "      <td>24007.000000</td>\n",
              "      <td>10062.000000</td>\n",
              "      <td>24007.000000</td>\n",
              "      <td>24007.000000</td>\n",
              "      <td>24007.000000</td>\n",
              "      <td>24007.000000</td>\n",
              "      <td>5003.000000</td>\n",
              "      <td>24007.000000</td>\n",
              "      <td>24007.000000</td>\n",
              "    </tr>\n",
              "    <tr>\n",
              "      <th>mean</th>\n",
              "      <td>1.991982e+13</td>\n",
              "      <td>37.929474</td>\n",
              "      <td>30.773229</td>\n",
              "      <td>3.175015</td>\n",
              "      <td>18.491773</td>\n",
              "      <td>4.056038</td>\n",
              "      <td>1.912346</td>\n",
              "      <td>2.196826</td>\n",
              "      <td>4.478973</td>\n",
              "      <td>0.677677</td>\n",
              "      <td>1.690561</td>\n",
              "    </tr>\n",
              "    <tr>\n",
              "      <th>std</th>\n",
              "      <td>2.060396e+11</td>\n",
              "      <td>2.205605</td>\n",
              "      <td>6.584596</td>\n",
              "      <td>4.715461</td>\n",
              "      <td>23.218553</td>\n",
              "      <td>0.574085</td>\n",
              "      <td>2.059780</td>\n",
              "      <td>2.081417</td>\n",
              "      <td>1.048085</td>\n",
              "      <td>1.675708</td>\n",
              "      <td>2.146108</td>\n",
              "    </tr>\n",
              "    <tr>\n",
              "      <th>min</th>\n",
              "      <td>1.910000e+13</td>\n",
              "      <td>29.740000</td>\n",
              "      <td>18.340000</td>\n",
              "      <td>0.100000</td>\n",
              "      <td>0.000000</td>\n",
              "      <td>3.500000</td>\n",
              "      <td>0.000000</td>\n",
              "      <td>0.000000</td>\n",
              "      <td>0.000000</td>\n",
              "      <td>0.000000</td>\n",
              "      <td>0.000000</td>\n",
              "    </tr>\n",
              "    <tr>\n",
              "      <th>25%</th>\n",
              "      <td>1.980000e+13</td>\n",
              "      <td>36.190000</td>\n",
              "      <td>26.195000</td>\n",
              "      <td>1.400000</td>\n",
              "      <td>5.000000</td>\n",
              "      <td>3.600000</td>\n",
              "      <td>0.000000</td>\n",
              "      <td>0.000000</td>\n",
              "      <td>4.100000</td>\n",
              "      <td>0.000000</td>\n",
              "      <td>0.000000</td>\n",
              "    </tr>\n",
              "    <tr>\n",
              "      <th>50%</th>\n",
              "      <td>2.000000e+13</td>\n",
              "      <td>38.200000</td>\n",
              "      <td>28.350000</td>\n",
              "      <td>2.300000</td>\n",
              "      <td>10.000000</td>\n",
              "      <td>3.900000</td>\n",
              "      <td>0.000000</td>\n",
              "      <td>3.500000</td>\n",
              "      <td>4.700000</td>\n",
              "      <td>0.000000</td>\n",
              "      <td>0.000000</td>\n",
              "    </tr>\n",
              "    <tr>\n",
              "      <th>75%</th>\n",
              "      <td>2.010000e+13</td>\n",
              "      <td>39.360000</td>\n",
              "      <td>33.855000</td>\n",
              "      <td>3.600000</td>\n",
              "      <td>22.400000</td>\n",
              "      <td>4.400000</td>\n",
              "      <td>3.800000</td>\n",
              "      <td>4.000000</td>\n",
              "      <td>5.000000</td>\n",
              "      <td>0.000000</td>\n",
              "      <td>4.100000</td>\n",
              "    </tr>\n",
              "    <tr>\n",
              "      <th>max</th>\n",
              "      <td>2.020000e+13</td>\n",
              "      <td>46.350000</td>\n",
              "      <td>48.000000</td>\n",
              "      <td>95.400000</td>\n",
              "      <td>225.000000</td>\n",
              "      <td>7.900000</td>\n",
              "      <td>7.400000</td>\n",
              "      <td>7.200000</td>\n",
              "      <td>7.700000</td>\n",
              "      <td>7.900000</td>\n",
              "      <td>7.100000</td>\n",
              "    </tr>\n",
              "  </tbody>\n",
              "</table>\n",
              "</div>\n",
              "      <button class=\"colab-df-convert\" onclick=\"convertToInteractive('df-2e7e516e-c76b-4247-a7dc-995e7f16d8b2')\"\n",
              "              title=\"Convert this dataframe to an interactive table.\"\n",
              "              style=\"display:none;\">\n",
              "        \n",
              "  <svg xmlns=\"http://www.w3.org/2000/svg\" height=\"24px\"viewBox=\"0 0 24 24\"\n",
              "       width=\"24px\">\n",
              "    <path d=\"M0 0h24v24H0V0z\" fill=\"none\"/>\n",
              "    <path d=\"M18.56 5.44l.94 2.06.94-2.06 2.06-.94-2.06-.94-.94-2.06-.94 2.06-2.06.94zm-11 1L8.5 8.5l.94-2.06 2.06-.94-2.06-.94L8.5 2.5l-.94 2.06-2.06.94zm10 10l.94 2.06.94-2.06 2.06-.94-2.06-.94-.94-2.06-.94 2.06-2.06.94z\"/><path d=\"M17.41 7.96l-1.37-1.37c-.4-.4-.92-.59-1.43-.59-.52 0-1.04.2-1.43.59L10.3 9.45l-7.72 7.72c-.78.78-.78 2.05 0 2.83L4 21.41c.39.39.9.59 1.41.59.51 0 1.02-.2 1.41-.59l7.78-7.78 2.81-2.81c.8-.78.8-2.07 0-2.86zM5.41 20L4 18.59l7.72-7.72 1.47 1.35L5.41 20z\"/>\n",
              "  </svg>\n",
              "      </button>\n",
              "      \n",
              "  <style>\n",
              "    .colab-df-container {\n",
              "      display:flex;\n",
              "      flex-wrap:wrap;\n",
              "      gap: 12px;\n",
              "    }\n",
              "\n",
              "    .colab-df-convert {\n",
              "      background-color: #E8F0FE;\n",
              "      border: none;\n",
              "      border-radius: 50%;\n",
              "      cursor: pointer;\n",
              "      display: none;\n",
              "      fill: #1967D2;\n",
              "      height: 32px;\n",
              "      padding: 0 0 0 0;\n",
              "      width: 32px;\n",
              "    }\n",
              "\n",
              "    .colab-df-convert:hover {\n",
              "      background-color: #E2EBFA;\n",
              "      box-shadow: 0px 1px 2px rgba(60, 64, 67, 0.3), 0px 1px 3px 1px rgba(60, 64, 67, 0.15);\n",
              "      fill: #174EA6;\n",
              "    }\n",
              "\n",
              "    [theme=dark] .colab-df-convert {\n",
              "      background-color: #3B4455;\n",
              "      fill: #D2E3FC;\n",
              "    }\n",
              "\n",
              "    [theme=dark] .colab-df-convert:hover {\n",
              "      background-color: #434B5C;\n",
              "      box-shadow: 0px 1px 3px 1px rgba(0, 0, 0, 0.15);\n",
              "      filter: drop-shadow(0px 1px 2px rgba(0, 0, 0, 0.3));\n",
              "      fill: #FFFFFF;\n",
              "    }\n",
              "  </style>\n",
              "\n",
              "      <script>\n",
              "        const buttonEl =\n",
              "          document.querySelector('#df-2e7e516e-c76b-4247-a7dc-995e7f16d8b2 button.colab-df-convert');\n",
              "        buttonEl.style.display =\n",
              "          google.colab.kernel.accessAllowed ? 'block' : 'none';\n",
              "\n",
              "        async function convertToInteractive(key) {\n",
              "          const element = document.querySelector('#df-2e7e516e-c76b-4247-a7dc-995e7f16d8b2');\n",
              "          const dataTable =\n",
              "            await google.colab.kernel.invokeFunction('convertToInteractive',\n",
              "                                                     [key], {});\n",
              "          if (!dataTable) return;\n",
              "\n",
              "          const docLinkHtml = 'Like what you see? Visit the ' +\n",
              "            '<a target=\"_blank\" href=https://colab.research.google.com/notebooks/data_table.ipynb>data table notebook</a>'\n",
              "            + ' to learn more about interactive tables.';\n",
              "          element.innerHTML = '';\n",
              "          dataTable['output_type'] = 'display_data';\n",
              "          await google.colab.output.renderOutput(dataTable, element);\n",
              "          const docLink = document.createElement('div');\n",
              "          docLink.innerHTML = docLinkHtml;\n",
              "          element.appendChild(docLink);\n",
              "        }\n",
              "      </script>\n",
              "    </div>\n",
              "  </div>\n",
              "  "
            ]
          },
          "metadata": {},
          "execution_count": 32
        }
      ]
    },
    {
      "cell_type": "code",
      "source": [
        "veri=veri[['date','time','lat','city','long','depth','xm']]    #index 1: Kocaeli earthquake is our prediction \n",
        "data=veri.head(10)  \n",
        "print(data)"
      ],
      "metadata": {
        "colab": {
          "base_uri": "https://localhost:8080/"
        },
        "id": "z5lSR7SH7RWT",
        "outputId": "c6d501be-4376-48b2-9d58-5c8ea12b4c8d"
      },
      "execution_count": null,
      "outputs": [
        {
          "output_type": "stream",
          "name": "stdout",
          "text": [
            "         date         time    lat       city   long  depth   xm\n",
            "0  2003.05.20  12:17:44 AM  39.04     bingol  40.38   10.0  4.1\n",
            "1  2007.08.01  12:03:08 AM  40.79    kocaeli  30.09    5.2  4.0\n",
            "2  1978.05.07  12:41:37 AM  38.58     manisa  27.61    0.0  3.7\n",
            "3  1997.03.22  12:31:45 AM  39.47      sivas  36.44   10.0  3.5\n",
            "4  2000.04.02  12:57:38 AM  40.80    sakarya  30.24    7.0  4.3\n",
            "5  2005.01.21  12:04:03 AM  37.11      mugla  27.75   32.8  3.5\n",
            "6  2012.06.24  12:07:22 AM  38.75        van  43.61    9.4  4.5\n",
            "7  1987.12.31  12:49:54 AM  39.43  balikesir  27.98   26.0  3.8\n",
            "8  2000.02.07  12:11:45 AM  40.05  kirikkale  34.07    1.0  3.8\n",
            "9  2011.10.28  12:47:56 AM  38.76        van  43.54    3.1  4.3\n"
          ]
        }
      ]
    },
    {
      "cell_type": "code",
      "source": [
        "veri=veri[['lat','long','depth','xm']]    #index 1 is our prediction earthquake\n",
        "data=veri.head(10)  \n",
        "print(data)"
      ],
      "metadata": {
        "colab": {
          "base_uri": "https://localhost:8080/"
        },
        "id": "L6jOzA6H7U6I",
        "outputId": "d47448df-d460-42a3-ecb4-4bd04bf76377"
      },
      "execution_count": null,
      "outputs": [
        {
          "output_type": "stream",
          "name": "stdout",
          "text": [
            "     lat   long  depth   xm\n",
            "0  39.04  40.38   10.0  4.1\n",
            "1  40.79  30.09    5.2  4.0\n",
            "2  38.58  27.61    0.0  3.7\n",
            "3  39.47  36.44   10.0  3.5\n",
            "4  40.80  30.24    7.0  4.3\n",
            "5  37.11  27.75   32.8  3.5\n",
            "6  38.75  43.61    9.4  4.5\n",
            "7  39.43  27.98   26.0  3.8\n",
            "8  40.05  34.07    1.0  3.8\n",
            "9  38.76  43.54    3.1  4.3\n"
          ]
        }
      ]
    },
    {
      "cell_type": "code",
      "source": [
        "import numpy as np #use numpy for y variable for Linear Regression\n",
        "y=np.array(veri['xm'])"
      ],
      "metadata": {
        "id": "FLf6BX_y7aMP"
      },
      "execution_count": null,
      "outputs": []
    },
    {
      "cell_type": "code",
      "source": [
        "X=np.array(veri.drop('xm',axis=1)) #prepare attribute (X variable) and drop the predicted value"
      ],
      "metadata": {
        "id": "LDW3EtZL7j0L"
      },
      "execution_count": null,
      "outputs": []
    },
    {
      "cell_type": "code",
      "source": [
        "from sklearn.model_selection import train_test_split  #lets split data set\n",
        "X_train,X_test,y_train,y_test=train_test_split(X,y,test_size=0.2,random_state=2)"
      ],
      "metadata": {
        "id": "WeaRGj2t7nRb"
      },
      "execution_count": null,
      "outputs": []
    },
    {
      "cell_type": "code",
      "source": [
        "from sklearn.linear_model import LinearRegression  #lets set LR model"
      ],
      "metadata": {
        "id": "_2QhAWTS7qjW"
      },
      "execution_count": null,
      "outputs": []
    },
    {
      "cell_type": "code",
      "source": [
        "linear=LinearRegression() #taking an example"
      ],
      "metadata": {
        "id": "GqCJ8XE87t0h"
      },
      "execution_count": null,
      "outputs": []
    },
    {
      "cell_type": "code",
      "source": [
        "linear.fit(X_train,y_train) #training data"
      ],
      "metadata": {
        "colab": {
          "base_uri": "https://localhost:8080/"
        },
        "id": "kJAh9B4z7wzN",
        "outputId": "76dedf95-cece-4cc1-8f19-f4868a58b0b7"
      },
      "execution_count": null,
      "outputs": [
        {
          "output_type": "execute_result",
          "data": {
            "text/plain": [
              "LinearRegression()"
            ]
          },
          "metadata": {},
          "execution_count": 40
        }
      ]
    },
    {
      "cell_type": "code",
      "source": [
        "data=linear.score(X_test,y_test)  # score of test datas\n",
        "print(data)"
      ],
      "metadata": {
        "colab": {
          "base_uri": "https://localhost:8080/"
        },
        "id": "3mtwlaDq7zal",
        "outputId": "06dc028c-0cf3-4835-bdd2-9842e927a19f"
      },
      "execution_count": null,
      "outputs": [
        {
          "output_type": "stream",
          "name": "stdout",
          "text": [
            "0.09562603089277644\n"
          ]
        }
      ]
    },
    {
      "cell_type": "code",
      "source": [
        "data=linear.score(X_train,y_train) #score of training datas\n",
        "print(data)"
      ],
      "metadata": {
        "colab": {
          "base_uri": "https://localhost:8080/"
        },
        "id": "pD0sWcbI721X",
        "outputId": "f582d374-4f99-47cf-c24f-9c5d61379559"
      },
      "execution_count": null,
      "outputs": [
        {
          "output_type": "stream",
          "name": "stdout",
          "text": [
            "0.10377022877473485\n"
          ]
        }
      ]
    },
    {
      "cell_type": "code",
      "source": [
        "print('coefficients: \\n',linear.coef_) \n",
        "print('intercepts: \\n',linear.intercept_)"
      ],
      "metadata": {
        "colab": {
          "base_uri": "https://localhost:8080/"
        },
        "id": "5DWjKyNr76JE",
        "outputId": "05beb50a-3be1-4423-88ba-5e4b71d477b0"
      },
      "execution_count": null,
      "outputs": [
        {
          "output_type": "stream",
          "name": "stdout",
          "text": [
            "coefficients: \n",
            " [0.01261989 0.0073032  0.0080358 ]\n",
            "intercepts: \n",
            " 3.2067500382814664\n"
          ]
        }
      ]
    },
    {
      "cell_type": "code",
      "source": [
        "predict_data=np.array([[40.05,35.80,10.0]])   #kocaeli earthquake prediction is 4.05, quiet close to the real value\n",
        "data2=linear.predict(predict_data)\n",
        "print(data2)  "
      ],
      "metadata": {
        "colab": {
          "base_uri": "https://localhost:8080/"
        },
        "id": "6CftAPkR79fb",
        "outputId": "5f10fec6-3f99-4f49-b3c7-b20ef66faaab"
      },
      "execution_count": null,
      "outputs": [
        {
          "output_type": "stream",
          "name": "stdout",
          "text": [
            "[4.05398897]\n"
          ]
        }
      ]
    },
    {
      "cell_type": "code",
      "source": [
        "ans = linear.predict(X_test)\n",
        "print(ans)"
      ],
      "metadata": {
        "colab": {
          "base_uri": "https://localhost:8080/"
        },
        "id": "9A3Z_Jao7LHS",
        "outputId": "5519eaff-8d89-4522-c60a-1045fd64257a"
      },
      "execution_count": null,
      "outputs": [
        {
          "output_type": "stream",
          "name": "stdout",
          "text": [
            "[3.92791843 4.0976734  3.96371783 ... 4.000412   3.99316906 4.05822956]\n"
          ]
        }
      ]
    },
    {
      "cell_type": "code",
      "source": [
        "import matplotlib.pyplot as plt\n",
        "plt.plot(y_test, ans, 'o')\n",
        "m, b = np.polyfit(y_test,ans, 1)\n",
        "plt.plot(y_test, m*y_test + b)\n",
        "plt.xlabel(\"Actual Magnitude\")\n",
        "plt.ylabel(\"Predicted Magnitude\")"
      ],
      "metadata": {
        "colab": {
          "base_uri": "https://localhost:8080/",
          "height": 297
        },
        "id": "8-bAtflR4iLq",
        "outputId": "6578be63-bb06-4de3-e56a-cab1f54f73a4"
      },
      "execution_count": null,
      "outputs": [
        {
          "output_type": "execute_result",
          "data": {
            "text/plain": [
              "Text(0, 0.5, 'Predicted Magnitude')"
            ]
          },
          "metadata": {},
          "execution_count": 46
        },
        {
          "output_type": "display_data",
          "data": {
            "text/plain": [
              "<Figure size 432x288 with 1 Axes>"
            ],
            "image/png": "[encoded data removed]"
          },
          "metadata": {
            "needs_background": "light"
          }
        }
      ]
    },
    {
      "cell_type": "code",
      "source": [
        "import matplotlib.pyplot as plt\n",
        "import seaborn as sn\n",
        "f,ax = plt.subplots(figsize=(10, 10))\n",
        "sn.heatmap(veri.corr(), annot=True, linewidths=.9, fmt= '.2f',ax=ax)\n",
        "plt.show()"
      ],
      "metadata": {
        "id": "k6w4-CSm8BBM",
        "colab": {
          "base_uri": "https://localhost:8080/",
          "height": 595
        },
        "outputId": "13e330cb-9549-4681-e546-2b5578030dfa"
      },
      "execution_count": null,
      "outputs": [
        {
          "output_type": "display_data",
          "data": {
            "text/plain": [
              "<Figure size 720x720 with 2 Axes>"
            ],
            "image/png": "[encoded data removed]"
          },
          "metadata": {
            "needs_background": "light"
          }
        }
      ]
    },
    {
      "cell_type": "code",
      "source": [
        "veri.depth.plot(kind=\"line\",grid=True,label=\"depth\",linestyle=\":\",color=\"r\")\n",
        "veri.lat.plot(kind=\"line\",grid=True,label=\"latitude\",linestyle=\"-\",color=\"g\")\n",
        "veri.xm.plot(kind=\"line\",grid=True,label=\"magnitude\",linestyle=\"--\",color=\"b\")\n",
        "plt.legend(loc=\"best\")  \n",
        "plt.title(\"depth-lat-long-mag\")\n",
        "plt.show()"
      ],
      "metadata": {
        "id": "77tH88cU8EeQ",
        "colab": {
          "base_uri": "https://localhost:8080/",
          "height": 281
        },
        "outputId": "286f2404-162c-4386-f918-f25d32be2a51"
      },
      "execution_count": null,
      "outputs": [
        {
          "output_type": "display_data",
          "data": {
            "text/plain": [
              "<Figure size 432x288 with 1 Axes>"
            ],
            "image/png": "[encoded data removed]"
          },
          "metadata": {
            "needs_background": "light"
          }
        }
      ]
    },
    {
      "cell_type": "markdown",
      "source": [
        "## MODEL 2"
      ],
      "metadata": {
        "id": "0aADKAPkWCxL"
      }
    },
    {
      "cell_type": "code",
      "source": [
        "veri=pd.read_csv(('/content/gdrive/My Drive/input/earthquake.csv'), encoding='utf-8', engine='python',sep=',',error_bad_lines=False)\n",
        "veri.describe()"
      ],
      "metadata": {
        "id": "-EAPI5TNg-Lv",
        "colab": {
          "base_uri": "https://localhost:8080/",
          "height": 392
        },
        "outputId": "bfba39c1-380a-41d3-c80d-ed976d9b3fb4"
      },
      "execution_count": null,
      "outputs": [
        {
          "output_type": "stream",
          "name": "stderr",
          "text": [
            "/usr/local/lib/python3.7/dist-packages/IPython/core/interactiveshell.py:2882: FutureWarning: The error_bad_lines argument has been deprecated and will be removed in a future version.\n",
            "\n",
            "\n",
            "  exec(code_obj, self.user_global_ns, self.user_ns)\n"
          ]
        },
        {
          "output_type": "execute_result",
          "data": {
            "text/plain": [
              "                 id           lat          long          dist         depth  \\\n",
              "count  2.400700e+04  24007.000000  24007.000000  10062.000000  24007.000000   \n",
              "mean   1.991982e+13     37.929474     30.773229      3.175015     18.491773   \n",
              "std    2.060396e+11      2.205605      6.584596      4.715461     23.218553   \n",
              "min    1.910000e+13     29.740000     18.340000      0.100000      0.000000   \n",
              "25%    1.980000e+13     36.190000     26.195000      1.400000      5.000000   \n",
              "50%    2.000000e+13     38.200000     28.350000      2.300000     10.000000   \n",
              "75%    2.010000e+13     39.360000     33.855000      3.600000     22.400000   \n",
              "max    2.020000e+13     46.350000     48.000000     95.400000    225.000000   \n",
              "\n",
              "                 xm            md       richter           mw            ms  \\\n",
              "count  24007.000000  24007.000000  24007.000000  5003.000000  24007.000000   \n",
              "mean       4.056038      1.912346      2.196826     4.478973      0.677677   \n",
              "std        0.574085      2.059780      2.081417     1.048085      1.675708   \n",
              "min        3.500000      0.000000      0.000000     0.000000      0.000000   \n",
              "25%        3.600000      0.000000      0.000000     4.100000      0.000000   \n",
              "50%        3.900000      0.000000      3.500000     4.700000      0.000000   \n",
              "75%        4.400000      3.800000      4.000000     5.000000      0.000000   \n",
              "max        7.900000      7.400000      7.200000     7.700000      7.900000   \n",
              "\n",
              "                 mb  \n",
              "count  24007.000000  \n",
              "mean       1.690561  \n",
              "std        2.146108  \n",
              "min        0.000000  \n",
              "25%        0.000000  \n",
              "50%        0.000000  \n",
              "75%        4.100000  \n",
              "max        7.100000  "
            ],
            "text/html": [
              "\n",
              "  <div id=\"df-181c977a-4dc7-411b-8675-5863c7d88e8f\">\n",
              "    <div class=\"colab-df-container\">\n",
              "      <div>\n",
              "<style scoped>\n",
              "    .dataframe tbody tr th:only-of-type {\n",
              "        vertical-align: middle;\n",
              "    }\n",
              "\n",
              "    .dataframe tbody tr th {\n",
              "        vertical-align: top;\n",
              "    }\n",
              "\n",
              "    .dataframe thead th {\n",
              "        text-align: right;\n",
              "    }\n",
              "</style>\n",
              "<table border=\"1\" class=\"dataframe\">\n",
              "  <thead>\n",
              "    <tr style=\"text-align: right;\">\n",
              "      <th></th>\n",
              "      <th>id</th>\n",
              "      <th>lat</th>\n",
              "      <th>long</th>\n",
              "      <th>dist</th>\n",
              "      <th>depth</th>\n",
              "      <th>xm</th>\n",
              "      <th>md</th>\n",
              "      <th>richter</th>\n",
              "      <th>mw</th>\n",
              "      <th>ms</th>\n",
              "      <th>mb</th>\n",
              "    </tr>\n",
              "  </thead>\n",
              "  <tbody>\n",
              "    <tr>\n",
              "      <th>count</th>\n",
              "      <td>2.400700e+04</td>\n",
              "      <td>24007.000000</td>\n",
              "      <td>24007.000000</td>\n",
              "      <td>10062.000000</td>\n",
              "      <td>24007.000000</td>\n",
              "      <td>24007.000000</td>\n",
              "      <td>24007.000000</td>\n",
              "      <td>24007.000000</td>\n",
              "      <td>5003.000000</td>\n",
              "      <td>24007.000000</td>\n",
              "      <td>24007.000000</td>\n",
              "    </tr>\n",
              "    <tr>\n",
              "      <th>mean</th>\n",
              "      <td>1.991982e+13</td>\n",
              "      <td>37.929474</td>\n",
              "      <td>30.773229</td>\n",
              "      <td>3.175015</td>\n",
              "      <td>18.491773</td>\n",
              "      <td>4.056038</td>\n",
              "      <td>1.912346</td>\n",
              "      <td>2.196826</td>\n",
              "      <td>4.478973</td>\n",
              "      <td>0.677677</td>\n",
              "      <td>1.690561</td>\n",
              "    </tr>\n",
              "    <tr>\n",
              "      <th>std</th>\n",
              "      <td>2.060396e+11</td>\n",
              "      <td>2.205605</td>\n",
              "      <td>6.584596</td>\n",
              "      <td>4.715461</td>\n",
              "      <td>23.218553</td>\n",
              "      <td>0.574085</td>\n",
              "      <td>2.059780</td>\n",
              "      <td>2.081417</td>\n",
              "      <td>1.048085</td>\n",
              "      <td>1.675708</td>\n",
              "      <td>2.146108</td>\n",
              "    </tr>\n",
              "    <tr>\n",
              "      <th>min</th>\n",
              "      <td>1.910000e+13</td>\n",
              "      <td>29.740000</td>\n",
              "      <td>18.340000</td>\n",
              "      <td>0.100000</td>\n",
              "      <td>0.000000</td>\n",
              "      <td>3.500000</td>\n",
              "      <td>0.000000</td>\n",
              "      <td>0.000000</td>\n",
              "      <td>0.000000</td>\n",
              "      <td>0.000000</td>\n",
              "      <td>0.000000</td>\n",
              "    </tr>\n",
              "    <tr>\n",
              "      <th>25%</th>\n",
              "      <td>1.980000e+13</td>\n",
              "      <td>36.190000</td>\n",
              "      <td>26.195000</td>\n",
              "      <td>1.400000</td>\n",
              "      <td>5.000000</td>\n",
              "      <td>3.600000</td>\n",
              "      <td>0.000000</td>\n",
              "      <td>0.000000</td>\n",
              "      <td>4.100000</td>\n",
              "      <td>0.000000</td>\n",
              "      <td>0.000000</td>\n",
              "    </tr>\n",
              "    <tr>\n",
              "      <th>50%</th>\n",
              "      <td>2.000000e+13</td>\n",
              "      <td>38.200000</td>\n",
              "      <td>28.350000</td>\n",
              "      <td>2.300000</td>\n",
              "      <td>10.000000</td>\n",
              "      <td>3.900000</td>\n",
              "      <td>0.000000</td>\n",
              "      <td>3.500000</td>\n",
              "      <td>4.700000</td>\n",
              "      <td>0.000000</td>\n",
              "      <td>0.000000</td>\n",
              "    </tr>\n",
              "    <tr>\n",
              "      <th>75%</th>\n",
              "      <td>2.010000e+13</td>\n",
              "      <td>39.360000</td>\n",
              "      <td>33.855000</td>\n",
              "      <td>3.600000</td>\n",
              "      <td>22.400000</td>\n",
              "      <td>4.400000</td>\n",
              "      <td>3.800000</td>\n",
              "      <td>4.000000</td>\n",
              "      <td>5.000000</td>\n",
              "      <td>0.000000</td>\n",
              "      <td>4.100000</td>\n",
              "    </tr>\n",
              "    <tr>\n",
              "      <th>max</th>\n",
              "      <td>2.020000e+13</td>\n",
              "      <td>46.350000</td>\n",
              "      <td>48.000000</td>\n",
              "      <td>95.400000</td>\n",
              "      <td>225.000000</td>\n",
              "      <td>7.900000</td>\n",
              "      <td>7.400000</td>\n",
              "      <td>7.200000</td>\n",
              "      <td>7.700000</td>\n",
              "      <td>7.900000</td>\n",
              "      <td>7.100000</td>\n",
              "    </tr>\n",
              "  </tbody>\n",
              "</table>\n",
              "</div>\n",
              "      <button class=\"colab-df-convert\" onclick=\"convertToInteractive('df-181c977a-4dc7-411b-8675-5863c7d88e8f')\"\n",
              "              title=\"Convert this dataframe to an interactive table.\"\n",
              "              style=\"display:none;\">\n",
              "        \n",
              "  <svg xmlns=\"http://www.w3.org/2000/svg\" height=\"24px\"viewBox=\"0 0 24 24\"\n",
              "       width=\"24px\">\n",
              "    <path d=\"M0 0h24v24H0V0z\" fill=\"none\"/>\n",
              "    <path d=\"M18.56 5.44l.94 2.06.94-2.06 2.06-.94-2.06-.94-.94-2.06-.94 2.06-2.06.94zm-11 1L8.5 8.5l.94-2.06 2.06-.94-2.06-.94L8.5 2.5l-.94 2.06-2.06.94zm10 10l.94 2.06.94-2.06 2.06-.94-2.06-.94-.94-2.06-.94 2.06-2.06.94z\"/><path d=\"M17.41 7.96l-1.37-1.37c-.4-.4-.92-.59-1.43-.59-.52 0-1.04.2-1.43.59L10.3 9.45l-7.72 7.72c-.78.78-.78 2.05 0 2.83L4 21.41c.39.39.9.59 1.41.59.51 0 1.02-.2 1.41-.59l7.78-7.78 2.81-2.81c.8-.78.8-2.07 0-2.86zM5.41 20L4 18.59l7.72-7.72 1.47 1.35L5.41 20z\"/>\n",
              "  </svg>\n",
              "      </button>\n",
              "      \n",
              "  <style>\n",
              "    .colab-df-container {\n",
              "      display:flex;\n",
              "      flex-wrap:wrap;\n",
              "      gap: 12px;\n",
              "    }\n",
              "\n",
              "    .colab-df-convert {\n",
              "      background-color: #E8F0FE;\n",
              "      border: none;\n",
              "      border-radius: 50%;\n",
              "      cursor: pointer;\n",
              "      display: none;\n",
              "      fill: #1967D2;\n",
              "      height: 32px;\n",
              "      padding: 0 0 0 0;\n",
              "      width: 32px;\n",
              "    }\n",
              "\n",
              "    .colab-df-convert:hover {\n",
              "      background-color: #E2EBFA;\n",
              "      box-shadow: 0px 1px 2px rgba(60, 64, 67, 0.3), 0px 1px 3px 1px rgba(60, 64, 67, 0.15);\n",
              "      fill: #174EA6;\n",
              "    }\n",
              "\n",
              "    [theme=dark] .colab-df-convert {\n",
              "      background-color: #3B4455;\n",
              "      fill: #D2E3FC;\n",
              "    }\n",
              "\n",
              "    [theme=dark] .colab-df-convert:hover {\n",
              "      background-color: #434B5C;\n",
              "      box-shadow: 0px 1px 3px 1px rgba(0, 0, 0, 0.15);\n",
              "      filter: drop-shadow(0px 1px 2px rgba(0, 0, 0, 0.3));\n",
              "      fill: #FFFFFF;\n",
              "    }\n",
              "  </style>\n",
              "\n",
              "      <script>\n",
              "        const buttonEl =\n",
              "          document.querySelector('#df-181c977a-4dc7-411b-8675-5863c7d88e8f button.colab-df-convert');\n",
              "        buttonEl.style.display =\n",
              "          google.colab.kernel.accessAllowed ? 'block' : 'none';\n",
              "\n",
              "        async function convertToInteractive(key) {\n",
              "          const element = document.querySelector('#df-181c977a-4dc7-411b-8675-5863c7d88e8f');\n",
              "          const dataTable =\n",
              "            await google.colab.kernel.invokeFunction('convertToInteractive',\n",
              "                                                     [key], {});\n",
              "          if (!dataTable) return;\n",
              "\n",
              "          const docLinkHtml = 'Like what you see? Visit the ' +\n",
              "            '<a target=\"_blank\" href=https://colab.research.google.com/notebooks/data_table.ipynb>data table notebook</a>'\n",
              "            + ' to learn more about interactive tables.';\n",
              "          element.innerHTML = '';\n",
              "          dataTable['output_type'] = 'display_data';\n",
              "          await google.colab.output.renderOutput(dataTable, element);\n",
              "          const docLink = document.createElement('div');\n",
              "          docLink.innerHTML = docLinkHtml;\n",
              "          element.appendChild(docLink);\n",
              "        }\n",
              "      </script>\n",
              "    </div>\n",
              "  </div>\n",
              "  "
            ]
          },
          "metadata": {},
          "execution_count": 49
        }
      ]
    },
    {
      "cell_type": "code",
      "source": [
        "veri=veri[['lat','xm']]    #index 1 is our prediction earthquake\n",
        "data=veri.head(10)  \n",
        "print(data)"
      ],
      "metadata": {
        "id": "NOelDfWLV8Cf",
        "colab": {
          "base_uri": "https://localhost:8080/"
        },
        "outputId": "58918cea-8fb2-4673-cc9d-1a8fdbf1236e"
      },
      "execution_count": null,
      "outputs": [
        {
          "output_type": "stream",
          "name": "stdout",
          "text": [
            "     lat   xm\n",
            "0  39.04  4.1\n",
            "1  40.79  4.0\n",
            "2  38.58  3.7\n",
            "3  39.47  3.5\n",
            "4  40.80  4.3\n",
            "5  37.11  3.5\n",
            "6  38.75  4.5\n",
            "7  39.43  3.8\n",
            "8  40.05  3.8\n",
            "9  38.76  4.3\n"
          ]
        }
      ]
    },
    {
      "cell_type": "code",
      "source": [
        "y=np.array(veri['xm'])"
      ],
      "metadata": {
        "id": "ToUqranQWrKV"
      },
      "execution_count": null,
      "outputs": []
    },
    {
      "cell_type": "code",
      "source": [
        "X=np.array(veri.drop('xm',axis=1))"
      ],
      "metadata": {
        "id": "3FITMj8qWxKo"
      },
      "execution_count": null,
      "outputs": []
    },
    {
      "cell_type": "code",
      "source": [
        "X_train,X_test,y_train,y_test=train_test_split(X,y,test_size=0.2,random_state=2)"
      ],
      "metadata": {
        "id": "R6BaEfzzW1mX"
      },
      "execution_count": null,
      "outputs": []
    },
    {
      "cell_type": "code",
      "source": [
        "linear=LinearRegression()\n",
        "linear.fit(X_train,y_train)"
      ],
      "metadata": {
        "id": "N4qpzv1EXBzB",
        "colab": {
          "base_uri": "https://localhost:8080/"
        },
        "outputId": "0e6f354f-7437-4215-a428-62ba0c5065e2"
      },
      "execution_count": null,
      "outputs": [
        {
          "output_type": "execute_result",
          "data": {
            "text/plain": [
              "LinearRegression()"
            ]
          },
          "metadata": {},
          "execution_count": 54
        }
      ]
    },
    {
      "cell_type": "code",
      "source": [
        "data=linear.score(X_test,y_test)  # score of test datas\n",
        "print(data)"
      ],
      "metadata": {
        "id": "fK5fvU-rXGBy",
        "colab": {
          "base_uri": "https://localhost:8080/"
        },
        "outputId": "82543361-5f1f-4380-c1f0-e700a5892ae3"
      },
      "execution_count": null,
      "outputs": [
        {
          "output_type": "stream",
          "name": "stdout",
          "text": [
            "-0.0002960485870284746\n"
          ]
        }
      ]
    },
    {
      "cell_type": "code",
      "source": [
        "data=linear.score(X_train,y_train) #score of training datas\n",
        "print(data)"
      ],
      "metadata": {
        "id": "QlykdpIJXGD4",
        "colab": {
          "base_uri": "https://localhost:8080/"
        },
        "outputId": "51e140f9-4051-4a36-e459-38fa2f096ea7"
      },
      "execution_count": null,
      "outputs": [
        {
          "output_type": "stream",
          "name": "stdout",
          "text": [
            "0.0001274797783654691\n"
          ]
        }
      ]
    },
    {
      "cell_type": "code",
      "source": [
        "print('coefficients: \\n',linear.coef_) \n",
        "print('intercepts: \\n',linear.intercept_)"
      ],
      "metadata": {
        "id": "TkVtYOAbXGF5",
        "colab": {
          "base_uri": "https://localhost:8080/"
        },
        "outputId": "ea95c7d9-8ab5-4ceb-b69f-9cecbc9a60a1"
      },
      "execution_count": null,
      "outputs": [
        {
          "output_type": "stream",
          "name": "stdout",
          "text": [
            "coefficients: \n",
            " [-0.00295254]\n",
            "intercepts: \n",
            " 4.17005806032919\n"
          ]
        }
      ]
    },
    {
      "cell_type": "code",
      "source": [
        "ans = linear.predict(X_test)\n",
        "print(ans)"
      ],
      "metadata": {
        "id": "v-L13vdlXUa-",
        "colab": {
          "base_uri": "https://localhost:8080/"
        },
        "outputId": "614f7631-3307-4946-ea45-909bef936900"
      },
      "execution_count": null,
      "outputs": [
        {
          "output_type": "stream",
          "name": "stdout",
          "text": [
            "[4.06524298 4.06857935 4.0667783  ... 4.0566511  4.05671015 4.05659205]\n"
          ]
        }
      ]
    },
    {
      "cell_type": "code",
      "source": [
        "plt.plot(y_test, ans, 'o')\n",
        "m, b = np.polyfit(y_test,ans, 1)\n",
        "plt.plot(y_test, m*y_test + b)\n",
        "plt.xlabel(\"Actual Magnitude\")\n",
        "plt.ylabel(\"Predicted Magnitude\")"
      ],
      "metadata": {
        "id": "6AosqoDQXUc-",
        "colab": {
          "base_uri": "https://localhost:8080/",
          "height": 297
        },
        "outputId": "04900f5d-f400-45d4-f20c-534beff5a760"
      },
      "execution_count": null,
      "outputs": [
        {
          "output_type": "execute_result",
          "data": {
            "text/plain": [
              "Text(0, 0.5, 'Predicted Magnitude')"
            ]
          },
          "metadata": {},
          "execution_count": 59
        },
        {
          "output_type": "display_data",
          "data": {
            "text/plain": [
              "<Figure size 432x288 with 1 Axes>"
            ],
            "image/png": "[encoded data removed]"
          },
          "metadata": {
            "needs_background": "light"
          }
        }
      ]
    },
    {
      "cell_type": "code",
      "source": [
        "f,ax = plt.subplots(figsize=(10, 10))\n",
        "sn.heatmap(veri.corr(), annot=True, linewidths=.9, fmt= '.2f',ax=ax)\n",
        "plt.show()"
      ],
      "metadata": {
        "id": "3rCX5EHwhpge",
        "colab": {
          "base_uri": "https://localhost:8080/",
          "height": 596
        },
        "outputId": "35a411c0-c92e-4957-a8b6-66cf225abe8c"
      },
      "execution_count": null,
      "outputs": [
        {
          "output_type": "display_data",
          "data": {
            "text/plain": [
              "<Figure size 720x720 with 2 Axes>"
            ],
            "image/png": "[encoded data removed]"
          },
          "metadata": {
            "needs_background": "light"
          }
        }
      ]
    },
    {
      "cell_type": "code",
      "source": [
        "veri.lat.plot(kind=\"line\",grid=True,label=\"latitude\",linestyle=\"-\",color=\"g\")\n",
        "veri.xm.plot(kind=\"line\",grid=True,label=\"magnitude\",linestyle=\"--\",color=\"b\")\n",
        "plt.legend(loc=\"best\")  \n",
        "plt.title(\"lat-mag\")\n",
        "plt.show()"
      ],
      "metadata": {
        "id": "ofVGbUkGhpo6",
        "colab": {
          "base_uri": "https://localhost:8080/",
          "height": 281
        },
        "outputId": "451d6f2d-e00f-49ab-cabf-a786cc4f72cc"
      },
      "execution_count": null,
      "outputs": [
        {
          "output_type": "display_data",
          "data": {
            "text/plain": [
              "<Figure size 432x288 with 1 Axes>"
            ],
            "image/png": "[encoded data removed]"
          },
          "metadata": {
            "needs_background": "light"
          }
        }
      ]
    },
    {
      "cell_type": "markdown",
      "source": [
        "## MODEL 3"
      ],
      "metadata": {
        "id": "3jsYUnbmZE7l"
      }
    },
    {
      "cell_type": "code",
      "source": [
        "veri=pd.read_csv(('/content/gdrive/My Drive/input/earthquake.csv'), encoding='utf-8', engine='python',sep=',',error_bad_lines=False)\n",
        "veri.describe()"
      ],
      "metadata": {
        "id": "FRtET-t_hBzs",
        "colab": {
          "base_uri": "https://localhost:8080/",
          "height": 392
        },
        "outputId": "2797e9c5-92ef-4fb0-c549-6993ed3be1c0"
      },
      "execution_count": null,
      "outputs": [
        {
          "output_type": "stream",
          "name": "stderr",
          "text": [
            "/usr/local/lib/python3.7/dist-packages/IPython/core/interactiveshell.py:2882: FutureWarning: The error_bad_lines argument has been deprecated and will be removed in a future version.\n",
            "\n",
            "\n",
            "  exec(code_obj, self.user_global_ns, self.user_ns)\n"
          ]
        },
        {
          "output_type": "execute_result",
          "data": {
            "text/plain": [
              "                 id           lat          long          dist         depth  \\\n",
              "count  2.400700e+04  24007.000000  24007.000000  10062.000000  24007.000000   \n",
              "mean   1.991982e+13     37.929474     30.773229      3.175015     18.491773   \n",
              "std    2.060396e+11      2.205605      6.584596      4.715461     23.218553   \n",
              "min    1.910000e+13     29.740000     18.340000      0.100000      0.000000   \n",
              "25%    1.980000e+13     36.190000     26.195000      1.400000      5.000000   \n",
              "50%    2.000000e+13     38.200000     28.350000      2.300000     10.000000   \n",
              "75%    2.010000e+13     39.360000     33.855000      3.600000     22.400000   \n",
              "max    2.020000e+13     46.350000     48.000000     95.400000    225.000000   \n",
              "\n",
              "                 xm            md       richter           mw            ms  \\\n",
              "count  24007.000000  24007.000000  24007.000000  5003.000000  24007.000000   \n",
              "mean       4.056038      1.912346      2.196826     4.478973      0.677677   \n",
              "std        0.574085      2.059780      2.081417     1.048085      1.675708   \n",
              "min        3.500000      0.000000      0.000000     0.000000      0.000000   \n",
              "25%        3.600000      0.000000      0.000000     4.100000      0.000000   \n",
              "50%        3.900000      0.000000      3.500000     4.700000      0.000000   \n",
              "75%        4.400000      3.800000      4.000000     5.000000      0.000000   \n",
              "max        7.900000      7.400000      7.200000     7.700000      7.900000   \n",
              "\n",
              "                 mb  \n",
              "count  24007.000000  \n",
              "mean       1.690561  \n",
              "std        2.146108  \n",
              "min        0.000000  \n",
              "25%        0.000000  \n",
              "50%        0.000000  \n",
              "75%        4.100000  \n",
              "max        7.100000  "
            ],
            "text/html": [
              "\n",
              "  <div id=\"df-71901e4a-e755-40a7-bf70-fce3583d5088\">\n",
              "    <div class=\"colab-df-container\">\n",
              "      <div>\n",
              "<style scoped>\n",
              "    .dataframe tbody tr th:only-of-type {\n",
              "        vertical-align: middle;\n",
              "    }\n",
              "\n",
              "    .dataframe tbody tr th {\n",
              "        vertical-align: top;\n",
              "    }\n",
              "\n",
              "    .dataframe thead th {\n",
              "        text-align: right;\n",
              "    }\n",
              "</style>\n",
              "<table border=\"1\" class=\"dataframe\">\n",
              "  <thead>\n",
              "    <tr style=\"text-align: right;\">\n",
              "      <th></th>\n",
              "      <th>id</th>\n",
              "      <th>lat</th>\n",
              "      <th>long</th>\n",
              "      <th>dist</th>\n",
              "      <th>depth</th>\n",
              "      <th>xm</th>\n",
              "      <th>md</th>\n",
              "      <th>richter</th>\n",
              "      <th>mw</th>\n",
              "      <th>ms</th>\n",
              "      <th>mb</th>\n",
              "    </tr>\n",
              "  </thead>\n",
              "  <tbody>\n",
              "    <tr>\n",
              "      <th>count</th>\n",
              "      <td>2.400700e+04</td>\n",
              "      <td>24007.000000</td>\n",
              "      <td>24007.000000</td>\n",
              "      <td>10062.000000</td>\n",
              "      <td>24007.000000</td>\n",
              "      <td>24007.000000</td>\n",
              "      <td>24007.000000</td>\n",
              "      <td>24007.000000</td>\n",
              "      <td>5003.000000</td>\n",
              "      <td>24007.000000</td>\n",
              "      <td>24007.000000</td>\n",
              "    </tr>\n",
              "    <tr>\n",
              "      <th>mean</th>\n",
              "      <td>1.991982e+13</td>\n",
              "      <td>37.929474</td>\n",
              "      <td>30.773229</td>\n",
              "      <td>3.175015</td>\n",
              "      <td>18.491773</td>\n",
              "      <td>4.056038</td>\n",
              "      <td>1.912346</td>\n",
              "      <td>2.196826</td>\n",
              "      <td>4.478973</td>\n",
              "      <td>0.677677</td>\n",
              "      <td>1.690561</td>\n",
              "    </tr>\n",
              "    <tr>\n",
              "      <th>std</th>\n",
              "      <td>2.060396e+11</td>\n",
              "      <td>2.205605</td>\n",
              "      <td>6.584596</td>\n",
              "      <td>4.715461</td>\n",
              "      <td>23.218553</td>\n",
              "      <td>0.574085</td>\n",
              "      <td>2.059780</td>\n",
              "      <td>2.081417</td>\n",
              "      <td>1.048085</td>\n",
              "      <td>1.675708</td>\n",
              "      <td>2.146108</td>\n",
              "    </tr>\n",
              "    <tr>\n",
              "      <th>min</th>\n",
              "      <td>1.910000e+13</td>\n",
              "      <td>29.740000</td>\n",
              "      <td>18.340000</td>\n",
              "      <td>0.100000</td>\n",
              "      <td>0.000000</td>\n",
              "      <td>3.500000</td>\n",
              "      <td>0.000000</td>\n",
              "      <td>0.000000</td>\n",
              "      <td>0.000000</td>\n",
              "      <td>0.000000</td>\n",
              "      <td>0.000000</td>\n",
              "    </tr>\n",
              "    <tr>\n",
              "      <th>25%</th>\n",
              "      <td>1.980000e+13</td>\n",
              "      <td>36.190000</td>\n",
              "      <td>26.195000</td>\n",
              "      <td>1.400000</td>\n",
              "      <td>5.000000</td>\n",
              "      <td>3.600000</td>\n",
              "      <td>0.000000</td>\n",
              "      <td>0.000000</td>\n",
              "      <td>4.100000</td>\n",
              "      <td>0.000000</td>\n",
              "      <td>0.000000</td>\n",
              "    </tr>\n",
              "    <tr>\n",
              "      <th>50%</th>\n",
              "      <td>2.000000e+13</td>\n",
              "      <td>38.200000</td>\n",
              "      <td>28.350000</td>\n",
              "      <td>2.300000</td>\n",
              "      <td>10.000000</td>\n",
              "      <td>3.900000</td>\n",
              "      <td>0.000000</td>\n",
              "      <td>3.500000</td>\n",
              "      <td>4.700000</td>\n",
              "      <td>0.000000</td>\n",
              "      <td>0.000000</td>\n",
              "    </tr>\n",
              "    <tr>\n",
              "      <th>75%</th>\n",
              "      <td>2.010000e+13</td>\n",
              "      <td>39.360000</td>\n",
              "      <td>33.855000</td>\n",
              "      <td>3.600000</td>\n",
              "      <td>22.400000</td>\n",
              "      <td>4.400000</td>\n",
              "      <td>3.800000</td>\n",
              "      <td>4.000000</td>\n",
              "      <td>5.000000</td>\n",
              "      <td>0.000000</td>\n",
              "      <td>4.100000</td>\n",
              "    </tr>\n",
              "    <tr>\n",
              "      <th>max</th>\n",
              "      <td>2.020000e+13</td>\n",
              "      <td>46.350000</td>\n",
              "      <td>48.000000</td>\n",
              "      <td>95.400000</td>\n",
              "      <td>225.000000</td>\n",
              "      <td>7.900000</td>\n",
              "      <td>7.400000</td>\n",
              "      <td>7.200000</td>\n",
              "      <td>7.700000</td>\n",
              "      <td>7.900000</td>\n",
              "      <td>7.100000</td>\n",
              "    </tr>\n",
              "  </tbody>\n",
              "</table>\n",
              "</div>\n",
              "      <button class=\"colab-df-convert\" onclick=\"convertToInteractive('df-71901e4a-e755-40a7-bf70-fce3583d5088')\"\n",
              "              title=\"Convert this dataframe to an interactive table.\"\n",
              "              style=\"display:none;\">\n",
              "        \n",
              "  <svg xmlns=\"http://www.w3.org/2000/svg\" height=\"24px\"viewBox=\"0 0 24 24\"\n",
              "       width=\"24px\">\n",
              "    <path d=\"M0 0h24v24H0V0z\" fill=\"none\"/>\n",
              "    <path d=\"M18.56 5.44l.94 2.06.94-2.06 2.06-.94-2.06-.94-.94-2.06-.94 2.06-2.06.94zm-11 1L8.5 8.5l.94-2.06 2.06-.94-2.06-.94L8.5 2.5l-.94 2.06-2.06.94zm10 10l.94 2.06.94-2.06 2.06-.94-2.06-.94-.94-2.06-.94 2.06-2.06.94z\"/><path d=\"M17.41 7.96l-1.37-1.37c-.4-.4-.92-.59-1.43-.59-.52 0-1.04.2-1.43.59L10.3 9.45l-7.72 7.72c-.78.78-.78 2.05 0 2.83L4 21.41c.39.39.9.59 1.41.59.51 0 1.02-.2 1.41-.59l7.78-7.78 2.81-2.81c.8-.78.8-2.07 0-2.86zM5.41 20L4 18.59l7.72-7.72 1.47 1.35L5.41 20z\"/>\n",
              "  </svg>\n",
              "      </button>\n",
              "      \n",
              "  <style>\n",
              "    .colab-df-container {\n",
              "      display:flex;\n",
              "      flex-wrap:wrap;\n",
              "      gap: 12px;\n",
              "    }\n",
              "\n",
              "    .colab-df-convert {\n",
              "      background-color: #E8F0FE;\n",
              "      border: none;\n",
              "      border-radius: 50%;\n",
              "      cursor: pointer;\n",
              "      display: none;\n",
              "      fill: #1967D2;\n",
              "      height: 32px;\n",
              "      padding: 0 0 0 0;\n",
              "      width: 32px;\n",
              "    }\n",
              "\n",
              "    .colab-df-convert:hover {\n",
              "      background-color: #E2EBFA;\n",
              "      box-shadow: 0px 1px 2px rgba(60, 64, 67, 0.3), 0px 1px 3px 1px rgba(60, 64, 67, 0.15);\n",
              "      fill: #174EA6;\n",
              "    }\n",
              "\n",
              "    [theme=dark] .colab-df-convert {\n",
              "      background-color: #3B4455;\n",
              "      fill: #D2E3FC;\n",
              "    }\n",
              "\n",
              "    [theme=dark] .colab-df-convert:hover {\n",
              "      background-color: #434B5C;\n",
              "      box-shadow: 0px 1px 3px 1px rgba(0, 0, 0, 0.15);\n",
              "      filter: drop-shadow(0px 1px 2px rgba(0, 0, 0, 0.3));\n",
              "      fill: #FFFFFF;\n",
              "    }\n",
              "  </style>\n",
              "\n",
              "      <script>\n",
              "        const buttonEl =\n",
              "          document.querySelector('#df-71901e4a-e755-40a7-bf70-fce3583d5088 button.colab-df-convert');\n",
              "        buttonEl.style.display =\n",
              "          google.colab.kernel.accessAllowed ? 'block' : 'none';\n",
              "\n",
              "        async function convertToInteractive(key) {\n",
              "          const element = document.querySelector('#df-71901e4a-e755-40a7-bf70-fce3583d5088');\n",
              "          const dataTable =\n",
              "            await google.colab.kernel.invokeFunction('convertToInteractive',\n",
              "                                                     [key], {});\n",
              "          if (!dataTable) return;\n",
              "\n",
              "          const docLinkHtml = 'Like what you see? Visit the ' +\n",
              "            '<a target=\"_blank\" href=https://colab.research.google.com/notebooks/data_table.ipynb>data table notebook</a>'\n",
              "            + ' to learn more about interactive tables.';\n",
              "          element.innerHTML = '';\n",
              "          dataTable['output_type'] = 'display_data';\n",
              "          await google.colab.output.renderOutput(dataTable, element);\n",
              "          const docLink = document.createElement('div');\n",
              "          docLink.innerHTML = docLinkHtml;\n",
              "          element.appendChild(docLink);\n",
              "        }\n",
              "      </script>\n",
              "    </div>\n",
              "  </div>\n",
              "  "
            ]
          },
          "metadata": {},
          "execution_count": 62
        }
      ]
    },
    {
      "cell_type": "code",
      "source": [
        "veri=veri[['long','xm']]    #index 1 is our prediction earthquake\n",
        "data=veri.head(10)  \n",
        "print(data)"
      ],
      "metadata": {
        "id": "SFfLNa0iXUgW",
        "colab": {
          "base_uri": "https://localhost:8080/"
        },
        "outputId": "5051fb99-2130-47eb-f8ce-8e082fcaea5a"
      },
      "execution_count": null,
      "outputs": [
        {
          "output_type": "stream",
          "name": "stdout",
          "text": [
            "    long   xm\n",
            "0  40.38  4.1\n",
            "1  30.09  4.0\n",
            "2  27.61  3.7\n",
            "3  36.44  3.5\n",
            "4  30.24  4.3\n",
            "5  27.75  3.5\n",
            "6  43.61  4.5\n",
            "7  27.98  3.8\n",
            "8  34.07  3.8\n",
            "9  43.54  4.3\n"
          ]
        }
      ]
    },
    {
      "cell_type": "code",
      "source": [
        "y=np.array(veri['xm'])"
      ],
      "metadata": {
        "id": "aIgi8w_pXGKK"
      },
      "execution_count": null,
      "outputs": []
    },
    {
      "cell_type": "code",
      "source": [
        "X=np.array(veri.drop('xm',axis=1))"
      ],
      "metadata": {
        "id": "AdQTV2-JXGNr"
      },
      "execution_count": null,
      "outputs": []
    },
    {
      "cell_type": "code",
      "source": [
        "X_train,X_test,y_train,y_test=train_test_split(X,y,test_size=0.2,random_state=2)"
      ],
      "metadata": {
        "id": "4tqf_FkoXF_f"
      },
      "execution_count": null,
      "outputs": []
    },
    {
      "cell_type": "code",
      "source": [
        "linear=LinearRegression()\n",
        "linear.fit(X_train,y_train)"
      ],
      "metadata": {
        "id": "LX_FXp3DZYI2",
        "colab": {
          "base_uri": "https://localhost:8080/"
        },
        "outputId": "0adc5b16-fcdf-4185-e518-d6b49c35ae63"
      },
      "execution_count": null,
      "outputs": [
        {
          "output_type": "execute_result",
          "data": {
            "text/plain": [
              "LinearRegression()"
            ]
          },
          "metadata": {},
          "execution_count": 67
        }
      ]
    },
    {
      "cell_type": "code",
      "source": [
        "data=linear.score(X_test,y_test)  # score of test datas\n",
        "print(data)"
      ],
      "metadata": {
        "id": "Z-vUBD0dZbFI",
        "colab": {
          "base_uri": "https://localhost:8080/"
        },
        "outputId": "f1f23279-344c-43b7-d5fa-0278cdba2ead"
      },
      "execution_count": null,
      "outputs": [
        {
          "output_type": "stream",
          "name": "stdout",
          "text": [
            "0.004425146375305\n"
          ]
        }
      ]
    },
    {
      "cell_type": "code",
      "source": [
        "data=linear.score(X_train,y_train) #score of training datas\n",
        "print(data)"
      ],
      "metadata": {
        "id": "iAZTd5z8Zesv",
        "colab": {
          "base_uri": "https://localhost:8080/"
        },
        "outputId": "9c915301-cedf-4047-c684-16745c56272e"
      },
      "execution_count": null,
      "outputs": [
        {
          "output_type": "stream",
          "name": "stdout",
          "text": [
            "0.005265795270775864\n"
          ]
        }
      ]
    },
    {
      "cell_type": "code",
      "source": [
        "print('coefficients: \\n',linear.coef_) \n",
        "print('intercepts: \\n',linear.intercept_)"
      ],
      "metadata": {
        "id": "q7skAwfRZe_a",
        "colab": {
          "base_uri": "https://localhost:8080/"
        },
        "outputId": "98888bed-553a-48d3-dbe0-d64daede6637"
      },
      "execution_count": null,
      "outputs": [
        {
          "output_type": "stream",
          "name": "stdout",
          "text": [
            "coefficients: \n",
            " [0.00635528]\n",
            "intercepts: \n",
            " 3.862596416971197\n"
          ]
        }
      ]
    },
    {
      "cell_type": "code",
      "source": [
        "ans = linear.predict(X_test)\n",
        "print(ans)"
      ],
      "metadata": {
        "id": "DB4XS0MuZfB-",
        "colab": {
          "base_uri": "https://localhost:8080/"
        },
        "outputId": "29ab197c-089a-4ee7-880c-61bf41f009aa"
      },
      "execution_count": null,
      "outputs": [
        {
          "output_type": "stream",
          "name": "stdout",
          "text": [
            "[4.03037572 4.04365825 4.0574492  ... 4.1104522  4.0414339  4.11159615]\n"
          ]
        }
      ]
    },
    {
      "cell_type": "code",
      "source": [
        "plt.plot(y_test, ans, 'o')\n",
        "m, b = np.polyfit(y_test,ans, 1)\n",
        "plt.plot(y_test, m*y_test + b)\n",
        "plt.xlabel(\"Actual Magnitude\")\n",
        "plt.ylabel(\"Predicted Magnitude\")"
      ],
      "metadata": {
        "id": "2b_FF7NtZfDw",
        "colab": {
          "base_uri": "https://localhost:8080/",
          "height": 300
        },
        "outputId": "078e2be2-6cbd-4f2f-ea4e-7903abd0cbe9"
      },
      "execution_count": null,
      "outputs": [
        {
          "output_type": "execute_result",
          "data": {
            "text/plain": [
              "Text(0, 0.5, 'Predicted Magnitude')"
            ]
          },
          "metadata": {},
          "execution_count": 72
        },
        {
          "output_type": "display_data",
          "data": {
            "text/plain": [
              "<Figure size 432x288 with 1 Axes>"
            ],
            "image/png": "[encoded data removed]"
          },
          "metadata": {
            "needs_background": "light"
          }
        }
      ]
    },
    {
      "cell_type": "code",
      "source": [
        "f,ax = plt.subplots(figsize=(10, 10))\n",
        "sn.heatmap(veri.corr(), annot=True, linewidths=.9, fmt= '.2f',ax=ax)\n",
        "plt.show()"
      ],
      "metadata": {
        "id": "W40rpeYuiU1L",
        "colab": {
          "base_uri": "https://localhost:8080/",
          "height": 596
        },
        "outputId": "f630b027-307b-4c57-b06f-002b4d961b23"
      },
      "execution_count": null,
      "outputs": [
        {
          "output_type": "display_data",
          "data": {
            "text/plain": [
              "<Figure size 720x720 with 2 Axes>"
            ],
            "image/png": "[encoded data removed]"
          },
          "metadata": {
            "needs_background": "light"
          }
        }
      ]
    },
    {
      "cell_type": "code",
      "source": [
        "veri.long.plot(kind=\"line\",grid=True,label=\"longitude\",linestyle=\"-\",color=\"g\")\n",
        "veri.xm.plot(kind=\"line\",grid=True,label=\"magnitude\",linestyle=\"--\",color=\"b\")\n",
        "plt.legend(loc=\"best\")  \n",
        "plt.title(\"long-mag\")\n",
        "plt.show()"
      ],
      "metadata": {
        "id": "4tY6uvWoiU50",
        "colab": {
          "base_uri": "https://localhost:8080/",
          "height": 281
        },
        "outputId": "991899f0-683e-4423-c7cd-0157225318ad"
      },
      "execution_count": null,
      "outputs": [
        {
          "output_type": "display_data",
          "data": {
            "text/plain": [
              "<Figure size 432x288 with 1 Axes>"
            ],
            "image/png": "[encoded data removed]"
          },
          "metadata": {
            "needs_background": "light"
          }
        }
      ]
    },
    {
      "cell_type": "markdown",
      "source": [
        "## MODEL 4"
      ],
      "metadata": {
        "id": "5SelVVXsZtqQ"
      }
    },
    {
      "cell_type": "code",
      "source": [
        "veri=pd.read_csv(('/content/gdrive/My Drive/input/earthquake.csv'), encoding='utf-8', engine='python',sep=',',error_bad_lines=False)\n",
        "veri.describe()"
      ],
      "metadata": {
        "id": "8FZEPVXihFyb",
        "colab": {
          "base_uri": "https://localhost:8080/",
          "height": 392
        },
        "outputId": "2c261b9a-cc86-40ff-d037-77a7bb39cdf5"
      },
      "execution_count": null,
      "outputs": [
        {
          "output_type": "stream",
          "name": "stderr",
          "text": [
            "/usr/local/lib/python3.7/dist-packages/IPython/core/interactiveshell.py:2882: FutureWarning: The error_bad_lines argument has been deprecated and will be removed in a future version.\n",
            "\n",
            "\n",
            "  exec(code_obj, self.user_global_ns, self.user_ns)\n"
          ]
        },
        {
          "output_type": "execute_result",
          "data": {
            "text/plain": [
              "                 id           lat          long          dist         depth  \\\n",
              "count  2.400700e+04  24007.000000  24007.000000  10062.000000  24007.000000   \n",
              "mean   1.991982e+13     37.929474     30.773229      3.175015     18.491773   \n",
              "std    2.060396e+11      2.205605      6.584596      4.715461     23.218553   \n",
              "min    1.910000e+13     29.740000     18.340000      0.100000      0.000000   \n",
              "25%    1.980000e+13     36.190000     26.195000      1.400000      5.000000   \n",
              "50%    2.000000e+13     38.200000     28.350000      2.300000     10.000000   \n",
              "75%    2.010000e+13     39.360000     33.855000      3.600000     22.400000   \n",
              "max    2.020000e+13     46.350000     48.000000     95.400000    225.000000   \n",
              "\n",
              "                 xm            md       richter           mw            ms  \\\n",
              "count  24007.000000  24007.000000  24007.000000  5003.000000  24007.000000   \n",
              "mean       4.056038      1.912346      2.196826     4.478973      0.677677   \n",
              "std        0.574085      2.059780      2.081417     1.048085      1.675708   \n",
              "min        3.500000      0.000000      0.000000     0.000000      0.000000   \n",
              "25%        3.600000      0.000000      0.000000     4.100000      0.000000   \n",
              "50%        3.900000      0.000000      3.500000     4.700000      0.000000   \n",
              "75%        4.400000      3.800000      4.000000     5.000000      0.000000   \n",
              "max        7.900000      7.400000      7.200000     7.700000      7.900000   \n",
              "\n",
              "                 mb  \n",
              "count  24007.000000  \n",
              "mean       1.690561  \n",
              "std        2.146108  \n",
              "min        0.000000  \n",
              "25%        0.000000  \n",
              "50%        0.000000  \n",
              "75%        4.100000  \n",
              "max        7.100000  "
            ],
            "text/html": [
              "\n",
              "  <div id=\"df-6b44b0c3-ca95-4eb9-9e44-97abf73e2939\">\n",
              "    <div class=\"colab-df-container\">\n",
              "      <div>\n",
              "<style scoped>\n",
              "    .dataframe tbody tr th:only-of-type {\n",
              "        vertical-align: middle;\n",
              "    }\n",
              "\n",
              "    .dataframe tbody tr th {\n",
              "        vertical-align: top;\n",
              "    }\n",
              "\n",
              "    .dataframe thead th {\n",
              "        text-align: right;\n",
              "    }\n",
              "</style>\n",
              "<table border=\"1\" class=\"dataframe\">\n",
              "  <thead>\n",
              "    <tr style=\"text-align: right;\">\n",
              "      <th></th>\n",
              "      <th>id</th>\n",
              "      <th>lat</th>\n",
              "      <th>long</th>\n",
              "      <th>dist</th>\n",
              "      <th>depth</th>\n",
              "      <th>xm</th>\n",
              "      <th>md</th>\n",
              "      <th>richter</th>\n",
              "      <th>mw</th>\n",
              "      <th>ms</th>\n",
              "      <th>mb</th>\n",
              "    </tr>\n",
              "  </thead>\n",
              "  <tbody>\n",
              "    <tr>\n",
              "      <th>count</th>\n",
              "      <td>2.400700e+04</td>\n",
              "      <td>24007.000000</td>\n",
              "      <td>24007.000000</td>\n",
              "      <td>10062.000000</td>\n",
              "      <td>24007.000000</td>\n",
              "      <td>24007.000000</td>\n",
              "      <td>24007.000000</td>\n",
              "      <td>24007.000000</td>\n",
              "      <td>5003.000000</td>\n",
              "      <td>24007.000000</td>\n",
              "      <td>24007.000000</td>\n",
              "    </tr>\n",
              "    <tr>\n",
              "      <th>mean</th>\n",
              "      <td>1.991982e+13</td>\n",
              "      <td>37.929474</td>\n",
              "      <td>30.773229</td>\n",
              "      <td>3.175015</td>\n",
              "      <td>18.491773</td>\n",
              "      <td>4.056038</td>\n",
              "      <td>1.912346</td>\n",
              "      <td>2.196826</td>\n",
              "      <td>4.478973</td>\n",
              "      <td>0.677677</td>\n",
              "      <td>1.690561</td>\n",
              "    </tr>\n",
              "    <tr>\n",
              "      <th>std</th>\n",
              "      <td>2.060396e+11</td>\n",
              "      <td>2.205605</td>\n",
              "      <td>6.584596</td>\n",
              "      <td>4.715461</td>\n",
              "      <td>23.218553</td>\n",
              "      <td>0.574085</td>\n",
              "      <td>2.059780</td>\n",
              "      <td>2.081417</td>\n",
              "      <td>1.048085</td>\n",
              "      <td>1.675708</td>\n",
              "      <td>2.146108</td>\n",
              "    </tr>\n",
              "    <tr>\n",
              "      <th>min</th>\n",
              "      <td>1.910000e+13</td>\n",
              "      <td>29.740000</td>\n",
              "      <td>18.340000</td>\n",
              "      <td>0.100000</td>\n",
              "      <td>0.000000</td>\n",
              "      <td>3.500000</td>\n",
              "      <td>0.000000</td>\n",
              "      <td>0.000000</td>\n",
              "      <td>0.000000</td>\n",
              "      <td>0.000000</td>\n",
              "      <td>0.000000</td>\n",
              "    </tr>\n",
              "    <tr>\n",
              "      <th>25%</th>\n",
              "      <td>1.980000e+13</td>\n",
              "      <td>36.190000</td>\n",
              "      <td>26.195000</td>\n",
              "      <td>1.400000</td>\n",
              "      <td>5.000000</td>\n",
              "      <td>3.600000</td>\n",
              "      <td>0.000000</td>\n",
              "      <td>0.000000</td>\n",
              "      <td>4.100000</td>\n",
              "      <td>0.000000</td>\n",
              "      <td>0.000000</td>\n",
              "    </tr>\n",
              "    <tr>\n",
              "      <th>50%</th>\n",
              "      <td>2.000000e+13</td>\n",
              "      <td>38.200000</td>\n",
              "      <td>28.350000</td>\n",
              "      <td>2.300000</td>\n",
              "      <td>10.000000</td>\n",
              "      <td>3.900000</td>\n",
              "      <td>0.000000</td>\n",
              "      <td>3.500000</td>\n",
              "      <td>4.700000</td>\n",
              "      <td>0.000000</td>\n",
              "      <td>0.000000</td>\n",
              "    </tr>\n",
              "    <tr>\n",
              "      <th>75%</th>\n",
              "      <td>2.010000e+13</td>\n",
              "      <td>39.360000</td>\n",
              "      <td>33.855000</td>\n",
              "      <td>3.600000</td>\n",
              "      <td>22.400000</td>\n",
              "      <td>4.400000</td>\n",
              "      <td>3.800000</td>\n",
              "      <td>4.000000</td>\n",
              "      <td>5.000000</td>\n",
              "      <td>0.000000</td>\n",
              "      <td>4.100000</td>\n",
              "    </tr>\n",
              "    <tr>\n",
              "      <th>max</th>\n",
              "      <td>2.020000e+13</td>\n",
              "      <td>46.350000</td>\n",
              "      <td>48.000000</td>\n",
              "      <td>95.400000</td>\n",
              "      <td>225.000000</td>\n",
              "      <td>7.900000</td>\n",
              "      <td>7.400000</td>\n",
              "      <td>7.200000</td>\n",
              "      <td>7.700000</td>\n",
              "      <td>7.900000</td>\n",
              "      <td>7.100000</td>\n",
              "    </tr>\n",
              "  </tbody>\n",
              "</table>\n",
              "</div>\n",
              "      <button class=\"colab-df-convert\" onclick=\"convertToInteractive('df-6b44b0c3-ca95-4eb9-9e44-97abf73e2939')\"\n",
              "              title=\"Convert this dataframe to an interactive table.\"\n",
              "              style=\"display:none;\">\n",
              "        \n",
              "  <svg xmlns=\"http://www.w3.org/2000/svg\" height=\"24px\"viewBox=\"0 0 24 24\"\n",
              "       width=\"24px\">\n",
              "    <path d=\"M0 0h24v24H0V0z\" fill=\"none\"/>\n",
              "    <path d=\"M18.56 5.44l.94 2.06.94-2.06 2.06-.94-2.06-.94-.94-2.06-.94 2.06-2.06.94zm-11 1L8.5 8.5l.94-2.06 2.06-.94-2.06-.94L8.5 2.5l-.94 2.06-2.06.94zm10 10l.94 2.06.94-2.06 2.06-.94-2.06-.94-.94-2.06-.94 2.06-2.06.94z\"/><path d=\"M17.41 7.96l-1.37-1.37c-.4-.4-.92-.59-1.43-.59-.52 0-1.04.2-1.43.59L10.3 9.45l-7.72 7.72c-.78.78-.78 2.05 0 2.83L4 21.41c.39.39.9.59 1.41.59.51 0 1.02-.2 1.41-.59l7.78-7.78 2.81-2.81c.8-.78.8-2.07 0-2.86zM5.41 20L4 18.59l7.72-7.72 1.47 1.35L5.41 20z\"/>\n",
              "  </svg>\n",
              "      </button>\n",
              "      \n",
              "  <style>\n",
              "    .colab-df-container {\n",
              "      display:flex;\n",
              "      flex-wrap:wrap;\n",
              "      gap: 12px;\n",
              "    }\n",
              "\n",
              "    .colab-df-convert {\n",
              "      background-color: #E8F0FE;\n",
              "      border: none;\n",
              "      border-radius: 50%;\n",
              "      cursor: pointer;\n",
              "      display: none;\n",
              "      fill: #1967D2;\n",
              "      height: 32px;\n",
              "      padding: 0 0 0 0;\n",
              "      width: 32px;\n",
              "    }\n",
              "\n",
              "    .colab-df-convert:hover {\n",
              "      background-color: #E2EBFA;\n",
              "      box-shadow: 0px 1px 2px rgba(60, 64, 67, 0.3), 0px 1px 3px 1px rgba(60, 64, 67, 0.15);\n",
              "      fill: #174EA6;\n",
              "    }\n",
              "\n",
              "    [theme=dark] .colab-df-convert {\n",
              "      background-color: #3B4455;\n",
              "      fill: #D2E3FC;\n",
              "    }\n",
              "\n",
              "    [theme=dark] .colab-df-convert:hover {\n",
              "      background-color: #434B5C;\n",
              "      box-shadow: 0px 1px 3px 1px rgba(0, 0, 0, 0.15);\n",
              "      filter: drop-shadow(0px 1px 2px rgba(0, 0, 0, 0.3));\n",
              "      fill: #FFFFFF;\n",
              "    }\n",
              "  </style>\n",
              "\n",
              "      <script>\n",
              "        const buttonEl =\n",
              "          document.querySelector('#df-6b44b0c3-ca95-4eb9-9e44-97abf73e2939 button.colab-df-convert');\n",
              "        buttonEl.style.display =\n",
              "          google.colab.kernel.accessAllowed ? 'block' : 'none';\n",
              "\n",
              "        async function convertToInteractive(key) {\n",
              "          const element = document.querySelector('#df-6b44b0c3-ca95-4eb9-9e44-97abf73e2939');\n",
              "          const dataTable =\n",
              "            await google.colab.kernel.invokeFunction('convertToInteractive',\n",
              "                                                     [key], {});\n",
              "          if (!dataTable) return;\n",
              "\n",
              "          const docLinkHtml = 'Like what you see? Visit the ' +\n",
              "            '<a target=\"_blank\" href=https://colab.research.google.com/notebooks/data_table.ipynb>data table notebook</a>'\n",
              "            + ' to learn more about interactive tables.';\n",
              "          element.innerHTML = '';\n",
              "          dataTable['output_type'] = 'display_data';\n",
              "          await google.colab.output.renderOutput(dataTable, element);\n",
              "          const docLink = document.createElement('div');\n",
              "          docLink.innerHTML = docLinkHtml;\n",
              "          element.appendChild(docLink);\n",
              "        }\n",
              "      </script>\n",
              "    </div>\n",
              "  </div>\n",
              "  "
            ]
          },
          "metadata": {},
          "execution_count": 75
        }
      ]
    },
    {
      "cell_type": "code",
      "source": [
        "veri=veri[['depth','xm']]    #index 1 is our prediction earthquake\n",
        "data=veri.head(10)  \n",
        "print(data)"
      ],
      "metadata": {
        "id": "yIeIVx0YZfF-",
        "colab": {
          "base_uri": "https://localhost:8080/"
        },
        "outputId": "113ca06c-7f88-4932-ebe8-5e683c63dcf9"
      },
      "execution_count": null,
      "outputs": [
        {
          "output_type": "stream",
          "name": "stdout",
          "text": [
            "   depth   xm\n",
            "0   10.0  4.1\n",
            "1    5.2  4.0\n",
            "2    0.0  3.7\n",
            "3   10.0  3.5\n",
            "4    7.0  4.3\n",
            "5   32.8  3.5\n",
            "6    9.4  4.5\n",
            "7   26.0  3.8\n",
            "8    1.0  3.8\n",
            "9    3.1  4.3\n"
          ]
        }
      ]
    },
    {
      "cell_type": "code",
      "source": [
        "y=np.array(veri['xm'])"
      ],
      "metadata": {
        "id": "TvtQiTYPaDPu"
      },
      "execution_count": null,
      "outputs": []
    },
    {
      "cell_type": "code",
      "source": [
        "X=np.array(veri.drop('xm',axis=1))"
      ],
      "metadata": {
        "id": "m9erftkEaFjI"
      },
      "execution_count": null,
      "outputs": []
    },
    {
      "cell_type": "code",
      "source": [
        "X_train,X_test,y_train,y_test=train_test_split(X,y,test_size=0.2,random_state=2)"
      ],
      "metadata": {
        "id": "mZ5L2tBPaGFX"
      },
      "execution_count": null,
      "outputs": []
    },
    {
      "cell_type": "code",
      "source": [
        "linear=LinearRegression()\n",
        "linear.fit(X_train,y_train)"
      ],
      "metadata": {
        "id": "CDxtLVGVaGHc",
        "colab": {
          "base_uri": "https://localhost:8080/"
        },
        "outputId": "f4bd997f-582c-4c18-c563-c52036a68761"
      },
      "execution_count": null,
      "outputs": [
        {
          "output_type": "execute_result",
          "data": {
            "text/plain": [
              "LinearRegression()"
            ]
          },
          "metadata": {},
          "execution_count": 80
        }
      ]
    },
    {
      "cell_type": "code",
      "source": [
        "data=linear.score(X_test,y_test)  # score of test datas\n",
        "print(data)"
      ],
      "metadata": {
        "id": "-UiAHIzJaGJf",
        "colab": {
          "base_uri": "https://localhost:8080/"
        },
        "outputId": "056bdf69-2124-471d-dca6-1150f16cd0b5"
      },
      "execution_count": null,
      "outputs": [
        {
          "output_type": "stream",
          "name": "stdout",
          "text": [
            "0.08661543906198765\n"
          ]
        }
      ]
    },
    {
      "cell_type": "code",
      "source": [
        "data=linear.score(X_train,y_train) #score of training datas\n",
        "print(data)"
      ],
      "metadata": {
        "id": "NHNf0xqKaGLP",
        "colab": {
          "base_uri": "https://localhost:8080/"
        },
        "outputId": "14b0b18c-3ec0-43d8-f80a-5bc8cf2c8aeb"
      },
      "execution_count": null,
      "outputs": [
        {
          "output_type": "stream",
          "name": "stdout",
          "text": [
            "0.09294024214315466\n"
          ]
        }
      ]
    },
    {
      "cell_type": "code",
      "source": [
        "print('coefficients: \\n',linear.coef_) \n",
        "print('intercepts: \\n',linear.intercept_)"
      ],
      "metadata": {
        "id": "mBl_3eJoaGNr",
        "colab": {
          "base_uri": "https://localhost:8080/"
        },
        "outputId": "835acc7d-5629-4ef5-a205-c4b40ce3ee70"
      },
      "execution_count": null,
      "outputs": [
        {
          "output_type": "stream",
          "name": "stdout",
          "text": [
            "coefficients: \n",
            " [0.00760044]\n",
            "intercepts: \n",
            " 3.9180391491564848\n"
          ]
        }
      ]
    },
    {
      "cell_type": "code",
      "source": [
        "ans = linear.predict(X_test)\n",
        "print(ans)"
      ],
      "metadata": {
        "id": "9RyVAPbmaGP2",
        "colab": {
          "base_uri": "https://localhost:8080/"
        },
        "outputId": "d60335f7-799e-4890-cb6b-64583c56724a"
      },
      "execution_count": null,
      "outputs": [
        {
          "output_type": "stream",
          "name": "stdout",
          "text": [
            "[3.99404357 4.15365285 4.00468419 ... 3.94084047 4.00924445 3.99404357]\n"
          ]
        }
      ]
    },
    {
      "cell_type": "code",
      "source": [
        "plt.plot(y_test, ans, 'o')\n",
        "m, b = np.polyfit(y_test,ans, 1)\n",
        "plt.plot(y_test, m*y_test + b)\n",
        "plt.xlabel(\"Actual Magnitude\")\n",
        "plt.ylabel(\"Predicted Magnitude\")"
      ],
      "metadata": {
        "id": "yAUMGqGyaZJU",
        "colab": {
          "base_uri": "https://localhost:8080/",
          "height": 297
        },
        "outputId": "205e6b94-c609-423e-fa62-617b3fc6f577"
      },
      "execution_count": null,
      "outputs": [
        {
          "output_type": "execute_result",
          "data": {
            "text/plain": [
              "Text(0, 0.5, 'Predicted Magnitude')"
            ]
          },
          "metadata": {},
          "execution_count": 85
        },
        {
          "output_type": "display_data",
          "data": {
            "text/plain": [
              "<Figure size 432x288 with 1 Axes>"
            ],
            "image/png": "[encoded data removed]"
          },
          "metadata": {
            "needs_background": "light"
          }
        }
      ]
    },
    {
      "cell_type": "code",
      "source": [
        "f,ax = plt.subplots(figsize=(10, 10))\n",
        "sn.heatmap(veri.corr(), annot=True, linewidths=.9, fmt= '.2f',ax=ax)\n",
        "plt.show()"
      ],
      "metadata": {
        "id": "e9QJmd1_jF6m",
        "colab": {
          "base_uri": "https://localhost:8080/",
          "height": 595
        },
        "outputId": "7dfc1cbf-a78a-4bbb-918f-0c3a9a8fb136"
      },
      "execution_count": null,
      "outputs": [
        {
          "output_type": "display_data",
          "data": {
            "text/plain": [
              "<Figure size 720x720 with 2 Axes>"
            ],
            "image/png": "[encoded data removed]"
          },
          "metadata": {
            "needs_background": "light"
          }
        }
      ]
    },
    {
      "cell_type": "code",
      "source": [
        "veri.depth.plot(kind=\"line\",grid=True,label=\"depth\",linestyle=\":\",color=\"r\")\n",
        "veri.xm.plot(kind=\"line\",grid=True,label=\"magnitude\",linestyle=\"--\",color=\"b\")\n",
        "plt.legend(loc=\"best\")  \n",
        "plt.title(\"depth-mag\")\n",
        "plt.show()"
      ],
      "metadata": {
        "id": "3o-evhdpjGB9",
        "colab": {
          "base_uri": "https://localhost:8080/",
          "height": 281
        },
        "outputId": "fd22d3e6-5523-49da-ca93-52bc102c5cc2"
      },
      "execution_count": null,
      "outputs": [
        {
          "output_type": "display_data",
          "data": {
            "text/plain": [
              "<Figure size 432x288 with 1 Axes>"
            ],
            "image/png": "[encoded data removed]"
          },
          "metadata": {
            "needs_background": "light"
          }
        }
      ]
    },
    {
      "cell_type": "markdown",
      "source": [
        "## MODEL 5"
      ],
      "metadata": {
        "id": "Ba2RKs_Iah38"
      }
    },
    {
      "cell_type": "code",
      "source": [
        "veri=pd.read_csv(('/content/gdrive/My Drive/input/earthquake.csv'), encoding='utf-8', engine='python',sep=',',error_bad_lines=False)\n",
        "veri.describe()"
      ],
      "metadata": {
        "id": "XwwvYxQchIOB",
        "colab": {
          "base_uri": "https://localhost:8080/",
          "height": 392
        },
        "outputId": "8ed22ed9-7864-4642-e519-ae6be48dd62c"
      },
      "execution_count": null,
      "outputs": [
        {
          "output_type": "stream",
          "name": "stderr",
          "text": [
            "/usr/local/lib/python3.7/dist-packages/IPython/core/interactiveshell.py:2882: FutureWarning: The error_bad_lines argument has been deprecated and will be removed in a future version.\n",
            "\n",
            "\n",
            "  exec(code_obj, self.user_global_ns, self.user_ns)\n"
          ]
        },
        {
          "output_type": "execute_result",
          "data": {
            "text/plain": [
              "                 id           lat          long          dist         depth  \\\n",
              "count  2.400700e+04  24007.000000  24007.000000  10062.000000  24007.000000   \n",
              "mean   1.991982e+13     37.929474     30.773229      3.175015     18.491773   \n",
              "std    2.060396e+11      2.205605      6.584596      4.715461     23.218553   \n",
              "min    1.910000e+13     29.740000     18.340000      0.100000      0.000000   \n",
              "25%    1.980000e+13     36.190000     26.195000      1.400000      5.000000   \n",
              "50%    2.000000e+13     38.200000     28.350000      2.300000     10.000000   \n",
              "75%    2.010000e+13     39.360000     33.855000      3.600000     22.400000   \n",
              "max    2.020000e+13     46.350000     48.000000     95.400000    225.000000   \n",
              "\n",
              "                 xm            md       richter           mw            ms  \\\n",
              "count  24007.000000  24007.000000  24007.000000  5003.000000  24007.000000   \n",
              "mean       4.056038      1.912346      2.196826     4.478973      0.677677   \n",
              "std        0.574085      2.059780      2.081417     1.048085      1.675708   \n",
              "min        3.500000      0.000000      0.000000     0.000000      0.000000   \n",
              "25%        3.600000      0.000000      0.000000     4.100000      0.000000   \n",
              "50%        3.900000      0.000000      3.500000     4.700000      0.000000   \n",
              "75%        4.400000      3.800000      4.000000     5.000000      0.000000   \n",
              "max        7.900000      7.400000      7.200000     7.700000      7.900000   \n",
              "\n",
              "                 mb  \n",
              "count  24007.000000  \n",
              "mean       1.690561  \n",
              "std        2.146108  \n",
              "min        0.000000  \n",
              "25%        0.000000  \n",
              "50%        0.000000  \n",
              "75%        4.100000  \n",
              "max        7.100000  "
            ],
            "text/html": [
              "\n",
              "  <div id=\"df-675ee58d-70dd-42fa-bfaa-275a0b918fad\">\n",
              "    <div class=\"colab-df-container\">\n",
              "      <div>\n",
              "<style scoped>\n",
              "    .dataframe tbody tr th:only-of-type {\n",
              "        vertical-align: middle;\n",
              "    }\n",
              "\n",
              "    .dataframe tbody tr th {\n",
              "        vertical-align: top;\n",
              "    }\n",
              "\n",
              "    .dataframe thead th {\n",
              "        text-align: right;\n",
              "    }\n",
              "</style>\n",
              "<table border=\"1\" class=\"dataframe\">\n",
              "  <thead>\n",
              "    <tr style=\"text-align: right;\">\n",
              "      <th></th>\n",
              "      <th>id</th>\n",
              "      <th>lat</th>\n",
              "      <th>long</th>\n",
              "      <th>dist</th>\n",
              "      <th>depth</th>\n",
              "      <th>xm</th>\n",
              "      <th>md</th>\n",
              "      <th>richter</th>\n",
              "      <th>mw</th>\n",
              "      <th>ms</th>\n",
              "      <th>mb</th>\n",
              "    </tr>\n",
              "  </thead>\n",
              "  <tbody>\n",
              "    <tr>\n",
              "      <th>count</th>\n",
              "      <td>2.400700e+04</td>\n",
              "      <td>24007.000000</td>\n",
              "      <td>24007.000000</td>\n",
              "      <td>10062.000000</td>\n",
              "      <td>24007.000000</td>\n",
              "      <td>24007.000000</td>\n",
              "      <td>24007.000000</td>\n",
              "      <td>24007.000000</td>\n",
              "      <td>5003.000000</td>\n",
              "      <td>24007.000000</td>\n",
              "      <td>24007.000000</td>\n",
              "    </tr>\n",
              "    <tr>\n",
              "      <th>mean</th>\n",
              "      <td>1.991982e+13</td>\n",
              "      <td>37.929474</td>\n",
              "      <td>30.773229</td>\n",
              "      <td>3.175015</td>\n",
              "      <td>18.491773</td>\n",
              "      <td>4.056038</td>\n",
              "      <td>1.912346</td>\n",
              "      <td>2.196826</td>\n",
              "      <td>4.478973</td>\n",
              "      <td>0.677677</td>\n",
              "      <td>1.690561</td>\n",
              "    </tr>\n",
              "    <tr>\n",
              "      <th>std</th>\n",
              "      <td>2.060396e+11</td>\n",
              "      <td>2.205605</td>\n",
              "      <td>6.584596</td>\n",
              "      <td>4.715461</td>\n",
              "      <td>23.218553</td>\n",
              "      <td>0.574085</td>\n",
              "      <td>2.059780</td>\n",
              "      <td>2.081417</td>\n",
              "      <td>1.048085</td>\n",
              "      <td>1.675708</td>\n",
              "      <td>2.146108</td>\n",
              "    </tr>\n",
              "    <tr>\n",
              "      <th>min</th>\n",
              "      <td>1.910000e+13</td>\n",
              "      <td>29.740000</td>\n",
              "      <td>18.340000</td>\n",
              "      <td>0.100000</td>\n",
              "      <td>0.000000</td>\n",
              "      <td>3.500000</td>\n",
              "      <td>0.000000</td>\n",
              "      <td>0.000000</td>\n",
              "      <td>0.000000</td>\n",
              "      <td>0.000000</td>\n",
              "      <td>0.000000</td>\n",
              "    </tr>\n",
              "    <tr>\n",
              "      <th>25%</th>\n",
              "      <td>1.980000e+13</td>\n",
              "      <td>36.190000</td>\n",
              "      <td>26.195000</td>\n",
              "      <td>1.400000</td>\n",
              "      <td>5.000000</td>\n",
              "      <td>3.600000</td>\n",
              "      <td>0.000000</td>\n",
              "      <td>0.000000</td>\n",
              "      <td>4.100000</td>\n",
              "      <td>0.000000</td>\n",
              "      <td>0.000000</td>\n",
              "    </tr>\n",
              "    <tr>\n",
              "      <th>50%</th>\n",
              "      <td>2.000000e+13</td>\n",
              "      <td>38.200000</td>\n",
              "      <td>28.350000</td>\n",
              "      <td>2.300000</td>\n",
              "      <td>10.000000</td>\n",
              "      <td>3.900000</td>\n",
              "      <td>0.000000</td>\n",
              "      <td>3.500000</td>\n",
              "      <td>4.700000</td>\n",
              "      <td>0.000000</td>\n",
              "      <td>0.000000</td>\n",
              "    </tr>\n",
              "    <tr>\n",
              "      <th>75%</th>\n",
              "      <td>2.010000e+13</td>\n",
              "      <td>39.360000</td>\n",
              "      <td>33.855000</td>\n",
              "      <td>3.600000</td>\n",
              "      <td>22.400000</td>\n",
              "      <td>4.400000</td>\n",
              "      <td>3.800000</td>\n",
              "      <td>4.000000</td>\n",
              "      <td>5.000000</td>\n",
              "      <td>0.000000</td>\n",
              "      <td>4.100000</td>\n",
              "    </tr>\n",
              "    <tr>\n",
              "      <th>max</th>\n",
              "      <td>2.020000e+13</td>\n",
              "      <td>46.350000</td>\n",
              "      <td>48.000000</td>\n",
              "      <td>95.400000</td>\n",
              "      <td>225.000000</td>\n",
              "      <td>7.900000</td>\n",
              "      <td>7.400000</td>\n",
              "      <td>7.200000</td>\n",
              "      <td>7.700000</td>\n",
              "      <td>7.900000</td>\n",
              "      <td>7.100000</td>\n",
              "    </tr>\n",
              "  </tbody>\n",
              "</table>\n",
              "</div>\n",
              "      <button class=\"colab-df-convert\" onclick=\"convertToInteractive('df-675ee58d-70dd-42fa-bfaa-275a0b918fad')\"\n",
              "              title=\"Convert this dataframe to an interactive table.\"\n",
              "              style=\"display:none;\">\n",
              "        \n",
              "  <svg xmlns=\"http://www.w3.org/2000/svg\" height=\"24px\"viewBox=\"0 0 24 24\"\n",
              "       width=\"24px\">\n",
              "    <path d=\"M0 0h24v24H0V0z\" fill=\"none\"/>\n",
              "    <path d=\"M18.56 5.44l.94 2.06.94-2.06 2.06-.94-2.06-.94-.94-2.06-.94 2.06-2.06.94zm-11 1L8.5 8.5l.94-2.06 2.06-.94-2.06-.94L8.5 2.5l-.94 2.06-2.06.94zm10 10l.94 2.06.94-2.06 2.06-.94-2.06-.94-.94-2.06-.94 2.06-2.06.94z\"/><path d=\"M17.41 7.96l-1.37-1.37c-.4-.4-.92-.59-1.43-.59-.52 0-1.04.2-1.43.59L10.3 9.45l-7.72 7.72c-.78.78-.78 2.05 0 2.83L4 21.41c.39.39.9.59 1.41.59.51 0 1.02-.2 1.41-.59l7.78-7.78 2.81-2.81c.8-.78.8-2.07 0-2.86zM5.41 20L4 18.59l7.72-7.72 1.47 1.35L5.41 20z\"/>\n",
              "  </svg>\n",
              "      </button>\n",
              "      \n",
              "  <style>\n",
              "    .colab-df-container {\n",
              "      display:flex;\n",
              "      flex-wrap:wrap;\n",
              "      gap: 12px;\n",
              "    }\n",
              "\n",
              "    .colab-df-convert {\n",
              "      background-color: #E8F0FE;\n",
              "      border: none;\n",
              "      border-radius: 50%;\n",
              "      cursor: pointer;\n",
              "      display: none;\n",
              "      fill: #1967D2;\n",
              "      height: 32px;\n",
              "      padding: 0 0 0 0;\n",
              "      width: 32px;\n",
              "    }\n",
              "\n",
              "    .colab-df-convert:hover {\n",
              "      background-color: #E2EBFA;\n",
              "      box-shadow: 0px 1px 2px rgba(60, 64, 67, 0.3), 0px 1px 3px 1px rgba(60, 64, 67, 0.15);\n",
              "      fill: #174EA6;\n",
              "    }\n",
              "\n",
              "    [theme=dark] .colab-df-convert {\n",
              "      background-color: #3B4455;\n",
              "      fill: #D2E3FC;\n",
              "    }\n",
              "\n",
              "    [theme=dark] .colab-df-convert:hover {\n",
              "      background-color: #434B5C;\n",
              "      box-shadow: 0px 1px 3px 1px rgba(0, 0, 0, 0.15);\n",
              "      filter: drop-shadow(0px 1px 2px rgba(0, 0, 0, 0.3));\n",
              "      fill: #FFFFFF;\n",
              "    }\n",
              "  </style>\n",
              "\n",
              "      <script>\n",
              "        const buttonEl =\n",
              "          document.querySelector('#df-675ee58d-70dd-42fa-bfaa-275a0b918fad button.colab-df-convert');\n",
              "        buttonEl.style.display =\n",
              "          google.colab.kernel.accessAllowed ? 'block' : 'none';\n",
              "\n",
              "        async function convertToInteractive(key) {\n",
              "          const element = document.querySelector('#df-675ee58d-70dd-42fa-bfaa-275a0b918fad');\n",
              "          const dataTable =\n",
              "            await google.colab.kernel.invokeFunction('convertToInteractive',\n",
              "                                                     [key], {});\n",
              "          if (!dataTable) return;\n",
              "\n",
              "          const docLinkHtml = 'Like what you see? Visit the ' +\n",
              "            '<a target=\"_blank\" href=https://colab.research.google.com/notebooks/data_table.ipynb>data table notebook</a>'\n",
              "            + ' to learn more about interactive tables.';\n",
              "          element.innerHTML = '';\n",
              "          dataTable['output_type'] = 'display_data';\n",
              "          await google.colab.output.renderOutput(dataTable, element);\n",
              "          const docLink = document.createElement('div');\n",
              "          docLink.innerHTML = docLinkHtml;\n",
              "          element.appendChild(docLink);\n",
              "        }\n",
              "      </script>\n",
              "    </div>\n",
              "  </div>\n",
              "  "
            ]
          },
          "metadata": {},
          "execution_count": 88
        }
      ]
    },
    {
      "cell_type": "code",
      "source": [
        "veri=veri[['md','xm']]    #index 1 is our prediction earthquake\n",
        "data=veri.head(10)  \n",
        "print(data)"
      ],
      "metadata": {
        "id": "reIYESUtaZLp",
        "colab": {
          "base_uri": "https://localhost:8080/"
        },
        "outputId": "b0f4f717-20f6-4814-dc84-1891d590a9c4"
      },
      "execution_count": null,
      "outputs": [
        {
          "output_type": "stream",
          "name": "stdout",
          "text": [
            "    md   xm\n",
            "0  4.1  4.1\n",
            "1  3.8  4.0\n",
            "2  0.0  3.7\n",
            "3  3.5  3.5\n",
            "4  4.3  4.3\n",
            "5  3.5  3.5\n",
            "6  0.0  4.5\n",
            "7  3.8  3.8\n",
            "8  3.8  3.8\n",
            "9  0.0  4.3\n"
          ]
        }
      ]
    },
    {
      "cell_type": "code",
      "source": [
        "y=np.array(veri['xm'])\n",
        "X=np.array(veri.drop('xm',axis=1))"
      ],
      "metadata": {
        "id": "0Sp8KqIPaZOC"
      },
      "execution_count": null,
      "outputs": []
    },
    {
      "cell_type": "code",
      "source": [
        "X_train,X_test,y_train,y_test=train_test_split(X,y,test_size=0.2,random_state=2)"
      ],
      "metadata": {
        "id": "hHCwbQOgaZPt"
      },
      "execution_count": null,
      "outputs": []
    },
    {
      "cell_type": "code",
      "source": [
        "linear=LinearRegression()\n",
        "linear.fit(X_train,y_train)"
      ],
      "metadata": {
        "id": "TJ66717laZR2",
        "colab": {
          "base_uri": "https://localhost:8080/"
        },
        "outputId": "72af19eb-f0c2-4f1b-989d-ddc3b2497c83"
      },
      "execution_count": null,
      "outputs": [
        {
          "output_type": "execute_result",
          "data": {
            "text/plain": [
              "LinearRegression()"
            ]
          },
          "metadata": {},
          "execution_count": 92
        }
      ]
    },
    {
      "cell_type": "code",
      "source": [
        "data=linear.score(X_test,y_test)  # score of test datas\n",
        "print(data)"
      ],
      "metadata": {
        "id": "2uHXPJxxaZT6",
        "colab": {
          "base_uri": "https://localhost:8080/"
        },
        "outputId": "81eac1f7-43f9-4b1f-ddaf-8d2bc662852a"
      },
      "execution_count": null,
      "outputs": [
        {
          "output_type": "stream",
          "name": "stdout",
          "text": [
            "0.0508347686273769\n"
          ]
        }
      ]
    },
    {
      "cell_type": "code",
      "source": [
        "data=linear.score(X_train,y_train) #score of training datas\n",
        "print(data)"
      ],
      "metadata": {
        "id": "WeU0Vzg7aZWO",
        "colab": {
          "base_uri": "https://localhost:8080/"
        },
        "outputId": "81efa6e1-9f29-4488-afd2-656fb854229b"
      },
      "execution_count": null,
      "outputs": [
        {
          "output_type": "stream",
          "name": "stdout",
          "text": [
            "0.060052510450098406\n"
          ]
        }
      ]
    },
    {
      "cell_type": "code",
      "source": [
        "print('coefficients: \\n',linear.coef_) \n",
        "print('intercepts: \\n',linear.intercept_)"
      ],
      "metadata": {
        "id": "Gk43h6rDbLn_",
        "colab": {
          "base_uri": "https://localhost:8080/"
        },
        "outputId": "53ce7793-f0ad-4a52-bcb8-76b8fbf45c13"
      },
      "execution_count": null,
      "outputs": [
        {
          "output_type": "stream",
          "name": "stdout",
          "text": [
            "coefficients: \n",
            " [0.06826882]\n",
            "intercepts: \n",
            " 3.9277777828804052\n"
          ]
        }
      ]
    },
    {
      "cell_type": "code",
      "source": [
        "ans = linear.predict(X_test)\n",
        "print(ans)"
      ],
      "metadata": {
        "id": "4cQil9DzbLp8",
        "colab": {
          "base_uri": "https://localhost:8080/"
        },
        "outputId": "ae9006f6-a00f-49af-c389-45fd3b3b1e90"
      },
      "execution_count": null,
      "outputs": [
        {
          "output_type": "stream",
          "name": "stdout",
          "text": [
            "[4.25546811 4.17354553 3.92777778 ... 4.17354553 4.18037241 4.17354553]\n"
          ]
        }
      ]
    },
    {
      "cell_type": "code",
      "source": [
        "plt.plot(y_test, ans, 'o')\n",
        "m, b = np.polyfit(y_test,ans, 1)\n",
        "plt.plot(y_test, m*y_test + b)\n",
        "plt.xlabel(\"Actual Magnitude\")\n",
        "plt.ylabel(\"Predicted Magnitude\")"
      ],
      "metadata": {
        "id": "IemG3nnvbLr-",
        "colab": {
          "base_uri": "https://localhost:8080/",
          "height": 297
        },
        "outputId": "2aea7b14-2847-4fd0-ed77-b7b5076636e0"
      },
      "execution_count": null,
      "outputs": [
        {
          "output_type": "execute_result",
          "data": {
            "text/plain": [
              "Text(0, 0.5, 'Predicted Magnitude')"
            ]
          },
          "metadata": {},
          "execution_count": 97
        },
        {
          "output_type": "display_data",
          "data": {
            "text/plain": [
              "<Figure size 432x288 with 1 Axes>"
            ],
            "image/png": "[encoded data removed]"
          },
          "metadata": {
            "needs_background": "light"
          }
        }
      ]
    },
    {
      "cell_type": "code",
      "source": [
        "f,ax = plt.subplots(figsize=(10, 10))\n",
        "sn.heatmap(veri.corr(), annot=True, linewidths=.9, fmt= '.2f',ax=ax)\n",
        "plt.show()"
      ],
      "metadata": {
        "id": "tbSqjdUCjZDG",
        "colab": {
          "base_uri": "https://localhost:8080/",
          "height": 596
        },
        "outputId": "7bdfda83-31d2-416c-b933-7b76b2e79eb0"
      },
      "execution_count": null,
      "outputs": [
        {
          "output_type": "display_data",
          "data": {
            "text/plain": [
              "<Figure size 720x720 with 2 Axes>"
            ],
            "image/png": "[encoded data removed]"
          },
          "metadata": {
            "needs_background": "light"
          }
        }
      ]
    },
    {
      "cell_type": "code",
      "source": [
        "veri.md.plot(kind=\"line\",grid=True,label=\"magnitude(time)\",linestyle=\"-\",color=\"g\")\n",
        "veri.xm.plot(kind=\"line\",grid=True,label=\"magnitude\",linestyle=\"--\",color=\"b\")\n",
        "plt.legend(loc=\"best\")  \n",
        "plt.title(\"mag(time)-mag\")\n",
        "plt.show()"
      ],
      "metadata": {
        "id": "kg6NufLNjZLi",
        "colab": {
          "base_uri": "https://localhost:8080/",
          "height": 281
        },
        "outputId": "0023419c-9639-4063-b678-3017e31c432b"
      },
      "execution_count": null,
      "outputs": [
        {
          "output_type": "display_data",
          "data": {
            "text/plain": [
              "<Figure size 432x288 with 1 Axes>"
            ],
            "image/png": "[encoded data removed]"
          },
          "metadata": {
            "needs_background": "light"
          }
        }
      ]
    },
    {
      "cell_type": "markdown",
      "source": [
        "## MODEL 6"
      ],
      "metadata": {
        "id": "HuQVIytWdOoI"
      }
    },
    {
      "cell_type": "code",
      "source": [
        "veri=pd.read_csv(('/content/gdrive/My Drive/input/earthquake.csv'), encoding='utf-8', engine='python',sep=',',error_bad_lines=False)\n",
        "veri.describe()"
      ],
      "metadata": {
        "id": "tkYOrcKKhJ3E",
        "colab": {
          "base_uri": "https://localhost:8080/",
          "height": 392
        },
        "outputId": "d10f0bb9-08bc-4eba-a468-b8277392e270"
      },
      "execution_count": null,
      "outputs": [
        {
          "output_type": "stream",
          "name": "stderr",
          "text": [
            "/usr/local/lib/python3.7/dist-packages/IPython/core/interactiveshell.py:2882: FutureWarning: The error_bad_lines argument has been deprecated and will be removed in a future version.\n",
            "\n",
            "\n",
            "  exec(code_obj, self.user_global_ns, self.user_ns)\n"
          ]
        },
        {
          "output_type": "execute_result",
          "data": {
            "text/plain": [
              "                 id           lat          long          dist         depth  \\\n",
              "count  2.400700e+04  24007.000000  24007.000000  10062.000000  24007.000000   \n",
              "mean   1.991982e+13     37.929474     30.773229      3.175015     18.491773   \n",
              "std    2.060396e+11      2.205605      6.584596      4.715461     23.218553   \n",
              "min    1.910000e+13     29.740000     18.340000      0.100000      0.000000   \n",
              "25%    1.980000e+13     36.190000     26.195000      1.400000      5.000000   \n",
              "50%    2.000000e+13     38.200000     28.350000      2.300000     10.000000   \n",
              "75%    2.010000e+13     39.360000     33.855000      3.600000     22.400000   \n",
              "max    2.020000e+13     46.350000     48.000000     95.400000    225.000000   \n",
              "\n",
              "                 xm            md       richter           mw            ms  \\\n",
              "count  24007.000000  24007.000000  24007.000000  5003.000000  24007.000000   \n",
              "mean       4.056038      1.912346      2.196826     4.478973      0.677677   \n",
              "std        0.574085      2.059780      2.081417     1.048085      1.675708   \n",
              "min        3.500000      0.000000      0.000000     0.000000      0.000000   \n",
              "25%        3.600000      0.000000      0.000000     4.100000      0.000000   \n",
              "50%        3.900000      0.000000      3.500000     4.700000      0.000000   \n",
              "75%        4.400000      3.800000      4.000000     5.000000      0.000000   \n",
              "max        7.900000      7.400000      7.200000     7.700000      7.900000   \n",
              "\n",
              "                 mb  \n",
              "count  24007.000000  \n",
              "mean       1.690561  \n",
              "std        2.146108  \n",
              "min        0.000000  \n",
              "25%        0.000000  \n",
              "50%        0.000000  \n",
              "75%        4.100000  \n",
              "max        7.100000  "
            ],
            "text/html": [
              "\n",
              "  <div id=\"df-a3dacb94-84af-4159-88ba-824358cebfa4\">\n",
              "    <div class=\"colab-df-container\">\n",
              "      <div>\n",
              "<style scoped>\n",
              "    .dataframe tbody tr th:only-of-type {\n",
              "        vertical-align: middle;\n",
              "    }\n",
              "\n",
              "    .dataframe tbody tr th {\n",
              "        vertical-align: top;\n",
              "    }\n",
              "\n",
              "    .dataframe thead th {\n",
              "        text-align: right;\n",
              "    }\n",
              "</style>\n",
              "<table border=\"1\" class=\"dataframe\">\n",
              "  <thead>\n",
              "    <tr style=\"text-align: right;\">\n",
              "      <th></th>\n",
              "      <th>id</th>\n",
              "      <th>lat</th>\n",
              "      <th>long</th>\n",
              "      <th>dist</th>\n",
              "      <th>depth</th>\n",
              "      <th>xm</th>\n",
              "      <th>md</th>\n",
              "      <th>richter</th>\n",
              "      <th>mw</th>\n",
              "      <th>ms</th>\n",
              "      <th>mb</th>\n",
              "    </tr>\n",
              "  </thead>\n",
              "  <tbody>\n",
              "    <tr>\n",
              "      <th>count</th>\n",
              "      <td>2.400700e+04</td>\n",
              "      <td>24007.000000</td>\n",
              "      <td>24007.000000</td>\n",
              "      <td>10062.000000</td>\n",
              "      <td>24007.000000</td>\n",
              "      <td>24007.000000</td>\n",
              "      <td>24007.000000</td>\n",
              "      <td>24007.000000</td>\n",
              "      <td>5003.000000</td>\n",
              "      <td>24007.000000</td>\n",
              "      <td>24007.000000</td>\n",
              "    </tr>\n",
              "    <tr>\n",
              "      <th>mean</th>\n",
              "      <td>1.991982e+13</td>\n",
              "      <td>37.929474</td>\n",
              "      <td>30.773229</td>\n",
              "      <td>3.175015</td>\n",
              "      <td>18.491773</td>\n",
              "      <td>4.056038</td>\n",
              "      <td>1.912346</td>\n",
              "      <td>2.196826</td>\n",
              "      <td>4.478973</td>\n",
              "      <td>0.677677</td>\n",
              "      <td>1.690561</td>\n",
              "    </tr>\n",
              "    <tr>\n",
              "      <th>std</th>\n",
              "      <td>2.060396e+11</td>\n",
              "      <td>2.205605</td>\n",
              "      <td>6.584596</td>\n",
              "      <td>4.715461</td>\n",
              "      <td>23.218553</td>\n",
              "      <td>0.574085</td>\n",
              "      <td>2.059780</td>\n",
              "      <td>2.081417</td>\n",
              "      <td>1.048085</td>\n",
              "      <td>1.675708</td>\n",
              "      <td>2.146108</td>\n",
              "    </tr>\n",
              "    <tr>\n",
              "      <th>min</th>\n",
              "      <td>1.910000e+13</td>\n",
              "      <td>29.740000</td>\n",
              "      <td>18.340000</td>\n",
              "      <td>0.100000</td>\n",
              "      <td>0.000000</td>\n",
              "      <td>3.500000</td>\n",
              "      <td>0.000000</td>\n",
              "      <td>0.000000</td>\n",
              "      <td>0.000000</td>\n",
              "      <td>0.000000</td>\n",
              "      <td>0.000000</td>\n",
              "    </tr>\n",
              "    <tr>\n",
              "      <th>25%</th>\n",
              "      <td>1.980000e+13</td>\n",
              "      <td>36.190000</td>\n",
              "      <td>26.195000</td>\n",
              "      <td>1.400000</td>\n",
              "      <td>5.000000</td>\n",
              "      <td>3.600000</td>\n",
              "      <td>0.000000</td>\n",
              "      <td>0.000000</td>\n",
              "      <td>4.100000</td>\n",
              "      <td>0.000000</td>\n",
              "      <td>0.000000</td>\n",
              "    </tr>\n",
              "    <tr>\n",
              "      <th>50%</th>\n",
              "      <td>2.000000e+13</td>\n",
              "      <td>38.200000</td>\n",
              "      <td>28.350000</td>\n",
              "      <td>2.300000</td>\n",
              "      <td>10.000000</td>\n",
              "      <td>3.900000</td>\n",
              "      <td>0.000000</td>\n",
              "      <td>3.500000</td>\n",
              "      <td>4.700000</td>\n",
              "      <td>0.000000</td>\n",
              "      <td>0.000000</td>\n",
              "    </tr>\n",
              "    <tr>\n",
              "      <th>75%</th>\n",
              "      <td>2.010000e+13</td>\n",
              "      <td>39.360000</td>\n",
              "      <td>33.855000</td>\n",
              "      <td>3.600000</td>\n",
              "      <td>22.400000</td>\n",
              "      <td>4.400000</td>\n",
              "      <td>3.800000</td>\n",
              "      <td>4.000000</td>\n",
              "      <td>5.000000</td>\n",
              "      <td>0.000000</td>\n",
              "      <td>4.100000</td>\n",
              "    </tr>\n",
              "    <tr>\n",
              "      <th>max</th>\n",
              "      <td>2.020000e+13</td>\n",
              "      <td>46.350000</td>\n",
              "      <td>48.000000</td>\n",
              "      <td>95.400000</td>\n",
              "      <td>225.000000</td>\n",
              "      <td>7.900000</td>\n",
              "      <td>7.400000</td>\n",
              "      <td>7.200000</td>\n",
              "      <td>7.700000</td>\n",
              "      <td>7.900000</td>\n",
              "      <td>7.100000</td>\n",
              "    </tr>\n",
              "  </tbody>\n",
              "</table>\n",
              "</div>\n",
              "      <button class=\"colab-df-convert\" onclick=\"convertToInteractive('df-a3dacb94-84af-4159-88ba-824358cebfa4')\"\n",
              "              title=\"Convert this dataframe to an interactive table.\"\n",
              "              style=\"display:none;\">\n",
              "        \n",
              "  <svg xmlns=\"http://www.w3.org/2000/svg\" height=\"24px\"viewBox=\"0 0 24 24\"\n",
              "       width=\"24px\">\n",
              "    <path d=\"M0 0h24v24H0V0z\" fill=\"none\"/>\n",
              "    <path d=\"M18.56 5.44l.94 2.06.94-2.06 2.06-.94-2.06-.94-.94-2.06-.94 2.06-2.06.94zm-11 1L8.5 8.5l.94-2.06 2.06-.94-2.06-.94L8.5 2.5l-.94 2.06-2.06.94zm10 10l.94 2.06.94-2.06 2.06-.94-2.06-.94-.94-2.06-.94 2.06-2.06.94z\"/><path d=\"M17.41 7.96l-1.37-1.37c-.4-.4-.92-.59-1.43-.59-.52 0-1.04.2-1.43.59L10.3 9.45l-7.72 7.72c-.78.78-.78 2.05 0 2.83L4 21.41c.39.39.9.59 1.41.59.51 0 1.02-.2 1.41-.59l7.78-7.78 2.81-2.81c.8-.78.8-2.07 0-2.86zM5.41 20L4 18.59l7.72-7.72 1.47 1.35L5.41 20z\"/>\n",
              "  </svg>\n",
              "      </button>\n",
              "      \n",
              "  <style>\n",
              "    .colab-df-container {\n",
              "      display:flex;\n",
              "      flex-wrap:wrap;\n",
              "      gap: 12px;\n",
              "    }\n",
              "\n",
              "    .colab-df-convert {\n",
              "      background-color: #E8F0FE;\n",
              "      border: none;\n",
              "      border-radius: 50%;\n",
              "      cursor: pointer;\n",
              "      display: none;\n",
              "      fill: #1967D2;\n",
              "      height: 32px;\n",
              "      padding: 0 0 0 0;\n",
              "      width: 32px;\n",
              "    }\n",
              "\n",
              "    .colab-df-convert:hover {\n",
              "      background-color: #E2EBFA;\n",
              "      box-shadow: 0px 1px 2px rgba(60, 64, 67, 0.3), 0px 1px 3px 1px rgba(60, 64, 67, 0.15);\n",
              "      fill: #174EA6;\n",
              "    }\n",
              "\n",
              "    [theme=dark] .colab-df-convert {\n",
              "      background-color: #3B4455;\n",
              "      fill: #D2E3FC;\n",
              "    }\n",
              "\n",
              "    [theme=dark] .colab-df-convert:hover {\n",
              "      background-color: #434B5C;\n",
              "      box-shadow: 0px 1px 3px 1px rgba(0, 0, 0, 0.15);\n",
              "      filter: drop-shadow(0px 1px 2px rgba(0, 0, 0, 0.3));\n",
              "      fill: #FFFFFF;\n",
              "    }\n",
              "  </style>\n",
              "\n",
              "      <script>\n",
              "        const buttonEl =\n",
              "          document.querySelector('#df-a3dacb94-84af-4159-88ba-824358cebfa4 button.colab-df-convert');\n",
              "        buttonEl.style.display =\n",
              "          google.colab.kernel.accessAllowed ? 'block' : 'none';\n",
              "\n",
              "        async function convertToInteractive(key) {\n",
              "          const element = document.querySelector('#df-a3dacb94-84af-4159-88ba-824358cebfa4');\n",
              "          const dataTable =\n",
              "            await google.colab.kernel.invokeFunction('convertToInteractive',\n",
              "                                                     [key], {});\n",
              "          if (!dataTable) return;\n",
              "\n",
              "          const docLinkHtml = 'Like what you see? Visit the ' +\n",
              "            '<a target=\"_blank\" href=https://colab.research.google.com/notebooks/data_table.ipynb>data table notebook</a>'\n",
              "            + ' to learn more about interactive tables.';\n",
              "          element.innerHTML = '';\n",
              "          dataTable['output_type'] = 'display_data';\n",
              "          await google.colab.output.renderOutput(dataTable, element);\n",
              "          const docLink = document.createElement('div');\n",
              "          docLink.innerHTML = docLinkHtml;\n",
              "          element.appendChild(docLink);\n",
              "        }\n",
              "      </script>\n",
              "    </div>\n",
              "  </div>\n",
              "  "
            ]
          },
          "metadata": {},
          "execution_count": 100
        }
      ]
    },
    {
      "cell_type": "code",
      "source": [
        "veri=veri[['richter','xm']]    #index 1 is our prediction earthquake\n",
        "data=veri.head(10)  \n",
        "print(data)"
      ],
      "metadata": {
        "id": "vZTtqtQ6c6aN",
        "colab": {
          "base_uri": "https://localhost:8080/"
        },
        "outputId": "b083f5e7-10e1-4efd-9557-96839a3b2caf"
      },
      "execution_count": null,
      "outputs": [
        {
          "output_type": "stream",
          "name": "stdout",
          "text": [
            "   richter   xm\n",
            "0      0.0  4.1\n",
            "1      4.0  4.0\n",
            "2      0.0  3.7\n",
            "3      0.0  3.5\n",
            "4      0.0  4.3\n",
            "5      0.0  3.5\n",
            "6      4.5  4.5\n",
            "7      0.0  3.8\n",
            "8      0.0  3.8\n",
            "9      4.2  4.3\n"
          ]
        }
      ]
    },
    {
      "cell_type": "code",
      "source": [
        "y=np.array(veri['xm'])"
      ],
      "metadata": {
        "id": "8KQjUNLLc6ed"
      },
      "execution_count": null,
      "outputs": []
    },
    {
      "cell_type": "code",
      "source": [
        "X=np.array(veri.drop('xm',axis=1))"
      ],
      "metadata": {
        "id": "U42JZQjNc6g3"
      },
      "execution_count": null,
      "outputs": []
    },
    {
      "cell_type": "code",
      "source": [
        "X_train,X_test,y_train,y_test=train_test_split(X,y,test_size=0.2,random_state=2)"
      ],
      "metadata": {
        "id": "seU0BsJ8c7Az"
      },
      "execution_count": null,
      "outputs": []
    },
    {
      "cell_type": "code",
      "source": [
        "linear=LinearRegression()\n",
        "linear.fit(X_train,y_train)"
      ],
      "metadata": {
        "id": "hkzbjL6Xc7Cu",
        "colab": {
          "base_uri": "https://localhost:8080/"
        },
        "outputId": "694e088c-206f-4b67-b285-548c7af8b207"
      },
      "execution_count": null,
      "outputs": [
        {
          "output_type": "execute_result",
          "data": {
            "text/plain": [
              "LinearRegression()"
            ]
          },
          "metadata": {},
          "execution_count": 105
        }
      ]
    },
    {
      "cell_type": "code",
      "source": [
        "data=linear.score(X_test,y_test)  # score of test datas\n",
        "print(data)"
      ],
      "metadata": {
        "id": "1MWCNqS1c7FF",
        "colab": {
          "base_uri": "https://localhost:8080/"
        },
        "outputId": "cfdf3975-f120-4d57-a33c-dd30c970df6d"
      },
      "execution_count": null,
      "outputs": [
        {
          "output_type": "stream",
          "name": "stdout",
          "text": [
            "0.17802813365112058\n"
          ]
        }
      ]
    },
    {
      "cell_type": "code",
      "source": [
        "data=linear.score(X_train,y_train) #score of training datas\n",
        "print(data)"
      ],
      "metadata": {
        "id": "rFCAKzKvbLuP",
        "colab": {
          "base_uri": "https://localhost:8080/"
        },
        "outputId": "16b3ab63-b2b3-4bc7-eca6-31322a75becf"
      },
      "execution_count": null,
      "outputs": [
        {
          "output_type": "stream",
          "name": "stdout",
          "text": [
            "0.18296586969768325\n"
          ]
        }
      ]
    },
    {
      "cell_type": "code",
      "source": [
        "print('coefficients: \\n',linear.coef_) \n",
        "print('intercepts: \\n',linear.intercept_)"
      ],
      "metadata": {
        "id": "SVIAQV7idIjL",
        "colab": {
          "base_uri": "https://localhost:8080/"
        },
        "outputId": "3bed2a5c-c530-4fc6-95fc-02d3fa7f0788"
      },
      "execution_count": null,
      "outputs": [
        {
          "output_type": "stream",
          "name": "stdout",
          "text": [
            "coefficients: \n",
            " [0.11795945]\n",
            "intercepts: \n",
            " 3.7986765609837883\n"
          ]
        }
      ]
    },
    {
      "cell_type": "code",
      "source": [
        "ans = linear.predict(X_test)\n",
        "print(ans)"
      ],
      "metadata": {
        "id": "yqSfEQv6dIlU",
        "colab": {
          "base_uri": "https://localhost:8080/"
        },
        "outputId": "97c257ac-baf8-4c78-dd99-e06276bb942d"
      },
      "execution_count": null,
      "outputs": [
        {
          "output_type": "stream",
          "name": "stdout",
          "text": [
            "[4.3648819  3.79867656 4.35308595 ... 3.79867656 3.79867656 3.79867656]\n"
          ]
        }
      ]
    },
    {
      "cell_type": "code",
      "source": [
        "plt.plot(y_test, ans, 'o')\n",
        "m, b = np.polyfit(y_test,ans, 1)\n",
        "plt.plot(y_test, m*y_test + b)\n",
        "plt.xlabel(\"Actual Magnitude\")\n",
        "plt.ylabel(\"Predicted Magnitude\")"
      ],
      "metadata": {
        "id": "gyuW2O4bdInY",
        "colab": {
          "base_uri": "https://localhost:8080/",
          "height": 297
        },
        "outputId": "d137776f-810d-4044-ea47-b0718651859b"
      },
      "execution_count": null,
      "outputs": [
        {
          "output_type": "execute_result",
          "data": {
            "text/plain": [
              "Text(0, 0.5, 'Predicted Magnitude')"
            ]
          },
          "metadata": {},
          "execution_count": 110
        },
        {
          "output_type": "display_data",
          "data": {
            "text/plain": [
              "<Figure size 432x288 with 1 Axes>"
            ],
            "image/png": "[encoded data removed]"
          },
          "metadata": {
            "needs_background": "light"
          }
        }
      ]
    },
    {
      "cell_type": "code",
      "source": [
        "f,ax = plt.subplots(figsize=(10, 10))\n",
        "sn.heatmap(veri.corr(), annot=True, linewidths=.9, fmt= '.2f',ax=ax)\n",
        "plt.show()"
      ],
      "metadata": {
        "id": "6_t7EXpgj-kV",
        "colab": {
          "base_uri": "https://localhost:8080/",
          "height": 596
        },
        "outputId": "d44b6063-f751-4dcb-a807-46b801b93945"
      },
      "execution_count": null,
      "outputs": [
        {
          "output_type": "display_data",
          "data": {
            "text/plain": [
              "<Figure size 720x720 with 2 Axes>"
            ],
            "image/png": "[encoded data removed]"
          },
          "metadata": {
            "needs_background": "light"
          }
        }
      ]
    },
    {
      "cell_type": "code",
      "source": [
        "veri.richter.plot(kind=\"line\",grid=True,label=\"richter\",linestyle=\":\",color=\"r\")\n",
        "veri.xm.plot(kind=\"line\",grid=True,label=\"magnitude\",linestyle=\"--\",color=\"b\")\n",
        "plt.legend(loc=\"best\")  \n",
        "plt.title(\"richter-mag\")\n",
        "plt.show()"
      ],
      "metadata": {
        "id": "ukXb_70Qj-vR",
        "colab": {
          "base_uri": "https://localhost:8080/",
          "height": 281
        },
        "outputId": "93891a3c-f8ac-4d48-9ef8-0de47aa1ce9b"
      },
      "execution_count": null,
      "outputs": [
        {
          "output_type": "display_data",
          "data": {
            "text/plain": [
              "<Figure size 432x288 with 1 Axes>"
            ],
            "image/png": "[encoded data removed]"
          },
          "metadata": {
            "needs_background": "light"
          }
        }
      ]
    },
    {
      "cell_type": "markdown",
      "source": [
        "## MODEL 7"
      ],
      "metadata": {
        "id": "9RLcRGlgdkbb"
      }
    },
    {
      "cell_type": "code",
      "source": [
        "veri=pd.read_csv(('/content/gdrive/My Drive/input/earthquake.csv'), encoding='utf-8', engine='python',sep=',',error_bad_lines=False)\n",
        "veri.describe()"
      ],
      "metadata": {
        "id": "hoJUsgDHhLl-",
        "colab": {
          "base_uri": "https://localhost:8080/",
          "height": 392
        },
        "outputId": "6667fcb7-118a-4ee7-90e9-62ec67022304"
      },
      "execution_count": null,
      "outputs": [
        {
          "output_type": "stream",
          "name": "stderr",
          "text": [
            "/usr/local/lib/python3.7/dist-packages/IPython/core/interactiveshell.py:2882: FutureWarning: The error_bad_lines argument has been deprecated and will be removed in a future version.\n",
            "\n",
            "\n",
            "  exec(code_obj, self.user_global_ns, self.user_ns)\n"
          ]
        },
        {
          "output_type": "execute_result",
          "data": {
            "text/plain": [
              "                 id           lat          long          dist         depth  \\\n",
              "count  2.400700e+04  24007.000000  24007.000000  10062.000000  24007.000000   \n",
              "mean   1.991982e+13     37.929474     30.773229      3.175015     18.491773   \n",
              "std    2.060396e+11      2.205605      6.584596      4.715461     23.218553   \n",
              "min    1.910000e+13     29.740000     18.340000      0.100000      0.000000   \n",
              "25%    1.980000e+13     36.190000     26.195000      1.400000      5.000000   \n",
              "50%    2.000000e+13     38.200000     28.350000      2.300000     10.000000   \n",
              "75%    2.010000e+13     39.360000     33.855000      3.600000     22.400000   \n",
              "max    2.020000e+13     46.350000     48.000000     95.400000    225.000000   \n",
              "\n",
              "                 xm            md       richter           mw            ms  \\\n",
              "count  24007.000000  24007.000000  24007.000000  5003.000000  24007.000000   \n",
              "mean       4.056038      1.912346      2.196826     4.478973      0.677677   \n",
              "std        0.574085      2.059780      2.081417     1.048085      1.675708   \n",
              "min        3.500000      0.000000      0.000000     0.000000      0.000000   \n",
              "25%        3.600000      0.000000      0.000000     4.100000      0.000000   \n",
              "50%        3.900000      0.000000      3.500000     4.700000      0.000000   \n",
              "75%        4.400000      3.800000      4.000000     5.000000      0.000000   \n",
              "max        7.900000      7.400000      7.200000     7.700000      7.900000   \n",
              "\n",
              "                 mb  \n",
              "count  24007.000000  \n",
              "mean       1.690561  \n",
              "std        2.146108  \n",
              "min        0.000000  \n",
              "25%        0.000000  \n",
              "50%        0.000000  \n",
              "75%        4.100000  \n",
              "max        7.100000  "
            ],
            "text/html": [
              "\n",
              "  <div id=\"df-8149ef93-fddb-44ec-b21c-a799f9016b5d\">\n",
              "    <div class=\"colab-df-container\">\n",
              "      <div>\n",
              "<style scoped>\n",
              "    .dataframe tbody tr th:only-of-type {\n",
              "        vertical-align: middle;\n",
              "    }\n",
              "\n",
              "    .dataframe tbody tr th {\n",
              "        vertical-align: top;\n",
              "    }\n",
              "\n",
              "    .dataframe thead th {\n",
              "        text-align: right;\n",
              "    }\n",
              "</style>\n",
              "<table border=\"1\" class=\"dataframe\">\n",
              "  <thead>\n",
              "    <tr style=\"text-align: right;\">\n",
              "      <th></th>\n",
              "      <th>id</th>\n",
              "      <th>lat</th>\n",
              "      <th>long</th>\n",
              "      <th>dist</th>\n",
              "      <th>depth</th>\n",
              "      <th>xm</th>\n",
              "      <th>md</th>\n",
              "      <th>richter</th>\n",
              "      <th>mw</th>\n",
              "      <th>ms</th>\n",
              "      <th>mb</th>\n",
              "    </tr>\n",
              "  </thead>\n",
              "  <tbody>\n",
              "    <tr>\n",
              "      <th>count</th>\n",
              "      <td>2.400700e+04</td>\n",
              "      <td>24007.000000</td>\n",
              "      <td>24007.000000</td>\n",
              "      <td>10062.000000</td>\n",
              "      <td>24007.000000</td>\n",
              "      <td>24007.000000</td>\n",
              "      <td>24007.000000</td>\n",
              "      <td>24007.000000</td>\n",
              "      <td>5003.000000</td>\n",
              "      <td>24007.000000</td>\n",
              "      <td>24007.000000</td>\n",
              "    </tr>\n",
              "    <tr>\n",
              "      <th>mean</th>\n",
              "      <td>1.991982e+13</td>\n",
              "      <td>37.929474</td>\n",
              "      <td>30.773229</td>\n",
              "      <td>3.175015</td>\n",
              "      <td>18.491773</td>\n",
              "      <td>4.056038</td>\n",
              "      <td>1.912346</td>\n",
              "      <td>2.196826</td>\n",
              "      <td>4.478973</td>\n",
              "      <td>0.677677</td>\n",
              "      <td>1.690561</td>\n",
              "    </tr>\n",
              "    <tr>\n",
              "      <th>std</th>\n",
              "      <td>2.060396e+11</td>\n",
              "      <td>2.205605</td>\n",
              "      <td>6.584596</td>\n",
              "      <td>4.715461</td>\n",
              "      <td>23.218553</td>\n",
              "      <td>0.574085</td>\n",
              "      <td>2.059780</td>\n",
              "      <td>2.081417</td>\n",
              "      <td>1.048085</td>\n",
              "      <td>1.675708</td>\n",
              "      <td>2.146108</td>\n",
              "    </tr>\n",
              "    <tr>\n",
              "      <th>min</th>\n",
              "      <td>1.910000e+13</td>\n",
              "      <td>29.740000</td>\n",
              "      <td>18.340000</td>\n",
              "      <td>0.100000</td>\n",
              "      <td>0.000000</td>\n",
              "      <td>3.500000</td>\n",
              "      <td>0.000000</td>\n",
              "      <td>0.000000</td>\n",
              "      <td>0.000000</td>\n",
              "      <td>0.000000</td>\n",
              "      <td>0.000000</td>\n",
              "    </tr>\n",
              "    <tr>\n",
              "      <th>25%</th>\n",
              "      <td>1.980000e+13</td>\n",
              "      <td>36.190000</td>\n",
              "      <td>26.195000</td>\n",
              "      <td>1.400000</td>\n",
              "      <td>5.000000</td>\n",
              "      <td>3.600000</td>\n",
              "      <td>0.000000</td>\n",
              "      <td>0.000000</td>\n",
              "      <td>4.100000</td>\n",
              "      <td>0.000000</td>\n",
              "      <td>0.000000</td>\n",
              "    </tr>\n",
              "    <tr>\n",
              "      <th>50%</th>\n",
              "      <td>2.000000e+13</td>\n",
              "      <td>38.200000</td>\n",
              "      <td>28.350000</td>\n",
              "      <td>2.300000</td>\n",
              "      <td>10.000000</td>\n",
              "      <td>3.900000</td>\n",
              "      <td>0.000000</td>\n",
              "      <td>3.500000</td>\n",
              "      <td>4.700000</td>\n",
              "      <td>0.000000</td>\n",
              "      <td>0.000000</td>\n",
              "    </tr>\n",
              "    <tr>\n",
              "      <th>75%</th>\n",
              "      <td>2.010000e+13</td>\n",
              "      <td>39.360000</td>\n",
              "      <td>33.855000</td>\n",
              "      <td>3.600000</td>\n",
              "      <td>22.400000</td>\n",
              "      <td>4.400000</td>\n",
              "      <td>3.800000</td>\n",
              "      <td>4.000000</td>\n",
              "      <td>5.000000</td>\n",
              "      <td>0.000000</td>\n",
              "      <td>4.100000</td>\n",
              "    </tr>\n",
              "    <tr>\n",
              "      <th>max</th>\n",
              "      <td>2.020000e+13</td>\n",
              "      <td>46.350000</td>\n",
              "      <td>48.000000</td>\n",
              "      <td>95.400000</td>\n",
              "      <td>225.000000</td>\n",
              "      <td>7.900000</td>\n",
              "      <td>7.400000</td>\n",
              "      <td>7.200000</td>\n",
              "      <td>7.700000</td>\n",
              "      <td>7.900000</td>\n",
              "      <td>7.100000</td>\n",
              "    </tr>\n",
              "  </tbody>\n",
              "</table>\n",
              "</div>\n",
              "      <button class=\"colab-df-convert\" onclick=\"convertToInteractive('df-8149ef93-fddb-44ec-b21c-a799f9016b5d')\"\n",
              "              title=\"Convert this dataframe to an interactive table.\"\n",
              "              style=\"display:none;\">\n",
              "        \n",
              "  <svg xmlns=\"http://www.w3.org/2000/svg\" height=\"24px\"viewBox=\"0 0 24 24\"\n",
              "       width=\"24px\">\n",
              "    <path d=\"M0 0h24v24H0V0z\" fill=\"none\"/>\n",
              "    <path d=\"M18.56 5.44l.94 2.06.94-2.06 2.06-.94-2.06-.94-.94-2.06-.94 2.06-2.06.94zm-11 1L8.5 8.5l.94-2.06 2.06-.94-2.06-.94L8.5 2.5l-.94 2.06-2.06.94zm10 10l.94 2.06.94-2.06 2.06-.94-2.06-.94-.94-2.06-.94 2.06-2.06.94z\"/><path d=\"M17.41 7.96l-1.37-1.37c-.4-.4-.92-.59-1.43-.59-.52 0-1.04.2-1.43.59L10.3 9.45l-7.72 7.72c-.78.78-.78 2.05 0 2.83L4 21.41c.39.39.9.59 1.41.59.51 0 1.02-.2 1.41-.59l7.78-7.78 2.81-2.81c.8-.78.8-2.07 0-2.86zM5.41 20L4 18.59l7.72-7.72 1.47 1.35L5.41 20z\"/>\n",
              "  </svg>\n",
              "      </button>\n",
              "      \n",
              "  <style>\n",
              "    .colab-df-container {\n",
              "      display:flex;\n",
              "      flex-wrap:wrap;\n",
              "      gap: 12px;\n",
              "    }\n",
              "\n",
              "    .colab-df-convert {\n",
              "      background-color: #E8F0FE;\n",
              "      border: none;\n",
              "      border-radius: 50%;\n",
              "      cursor: pointer;\n",
              "      display: none;\n",
              "      fill: #1967D2;\n",
              "      height: 32px;\n",
              "      padding: 0 0 0 0;\n",
              "      width: 32px;\n",
              "    }\n",
              "\n",
              "    .colab-df-convert:hover {\n",
              "      background-color: #E2EBFA;\n",
              "      box-shadow: 0px 1px 2px rgba(60, 64, 67, 0.3), 0px 1px 3px 1px rgba(60, 64, 67, 0.15);\n",
              "      fill: #174EA6;\n",
              "    }\n",
              "\n",
              "    [theme=dark] .colab-df-convert {\n",
              "      background-color: #3B4455;\n",
              "      fill: #D2E3FC;\n",
              "    }\n",
              "\n",
              "    [theme=dark] .colab-df-convert:hover {\n",
              "      background-color: #434B5C;\n",
              "      box-shadow: 0px 1px 3px 1px rgba(0, 0, 0, 0.15);\n",
              "      filter: drop-shadow(0px 1px 2px rgba(0, 0, 0, 0.3));\n",
              "      fill: #FFFFFF;\n",
              "    }\n",
              "  </style>\n",
              "\n",
              "      <script>\n",
              "        const buttonEl =\n",
              "          document.querySelector('#df-8149ef93-fddb-44ec-b21c-a799f9016b5d button.colab-df-convert');\n",
              "        buttonEl.style.display =\n",
              "          google.colab.kernel.accessAllowed ? 'block' : 'none';\n",
              "\n",
              "        async function convertToInteractive(key) {\n",
              "          const element = document.querySelector('#df-8149ef93-fddb-44ec-b21c-a799f9016b5d');\n",
              "          const dataTable =\n",
              "            await google.colab.kernel.invokeFunction('convertToInteractive',\n",
              "                                                     [key], {});\n",
              "          if (!dataTable) return;\n",
              "\n",
              "          const docLinkHtml = 'Like what you see? Visit the ' +\n",
              "            '<a target=\"_blank\" href=https://colab.research.google.com/notebooks/data_table.ipynb>data table notebook</a>'\n",
              "            + ' to learn more about interactive tables.';\n",
              "          element.innerHTML = '';\n",
              "          dataTable['output_type'] = 'display_data';\n",
              "          await google.colab.output.renderOutput(dataTable, element);\n",
              "          const docLink = document.createElement('div');\n",
              "          docLink.innerHTML = docLinkHtml;\n",
              "          element.appendChild(docLink);\n",
              "        }\n",
              "      </script>\n",
              "    </div>\n",
              "  </div>\n",
              "  "
            ]
          },
          "metadata": {},
          "execution_count": 113
        }
      ]
    },
    {
      "cell_type": "code",
      "source": [
        "veri=veri[['mb','xm']]    #index 1 is our prediction earthquake\n",
        "data=veri.head(10)  \n",
        "print(data)"
      ],
      "metadata": {
        "id": "AyGFYnUbdIpR",
        "colab": {
          "base_uri": "https://localhost:8080/"
        },
        "outputId": "2e42e2c5-b972-4085-cb82-a61b92910579"
      },
      "execution_count": null,
      "outputs": [
        {
          "output_type": "stream",
          "name": "stdout",
          "text": [
            "    mb   xm\n",
            "0  0.0  4.1\n",
            "1  0.0  4.0\n",
            "2  3.7  3.7\n",
            "3  0.0  3.5\n",
            "4  0.0  4.3\n",
            "5  0.0  3.5\n",
            "6  0.0  4.5\n",
            "7  0.0  3.8\n",
            "8  0.0  3.8\n",
            "9  4.3  4.3\n"
          ]
        }
      ]
    },
    {
      "cell_type": "code",
      "source": [
        "y=np.array(veri['xm'])"
      ],
      "metadata": {
        "id": "0cgktiHadIrZ"
      },
      "execution_count": null,
      "outputs": []
    },
    {
      "cell_type": "code",
      "source": [
        "X=np.array(veri.drop('xm',axis=1))"
      ],
      "metadata": {
        "id": "Glh7Rd0mdItY"
      },
      "execution_count": null,
      "outputs": []
    },
    {
      "cell_type": "code",
      "source": [
        "X_train,X_test,y_train,y_test=train_test_split(X,y,test_size=0.2,random_state=2)"
      ],
      "metadata": {
        "id": "HHeDjd1GdIvj"
      },
      "execution_count": null,
      "outputs": []
    },
    {
      "cell_type": "code",
      "source": [
        "linear=LinearRegression()\n",
        "linear.fit(X_train,y_train)"
      ],
      "metadata": {
        "id": "XKsVhYDudvBm",
        "colab": {
          "base_uri": "https://localhost:8080/"
        },
        "outputId": "30a040e0-7b6f-4b4a-ba52-a24ed9942894"
      },
      "execution_count": null,
      "outputs": [
        {
          "output_type": "execute_result",
          "data": {
            "text/plain": [
              "LinearRegression()"
            ]
          },
          "metadata": {},
          "execution_count": 118
        }
      ]
    },
    {
      "cell_type": "code",
      "source": [
        "data=linear.score(X_test,y_test)  # score of test datas\n",
        "print(data)"
      ],
      "metadata": {
        "id": "ziJhXn2EdvDx",
        "colab": {
          "base_uri": "https://localhost:8080/"
        },
        "outputId": "91f6442a-7459-4b38-83fd-4a991c5aaafa"
      },
      "execution_count": null,
      "outputs": [
        {
          "output_type": "stream",
          "name": "stdout",
          "text": [
            "0.4142462265111352\n"
          ]
        }
      ]
    },
    {
      "cell_type": "code",
      "source": [
        "data=linear.score(X_train,y_train) #score of training datas\n",
        "print(data)"
      ],
      "metadata": {
        "id": "f2kgU2ADdvF-",
        "colab": {
          "base_uri": "https://localhost:8080/"
        },
        "outputId": "426de7b5-54ba-4758-cb46-15a77f321c40"
      },
      "execution_count": null,
      "outputs": [
        {
          "output_type": "stream",
          "name": "stdout",
          "text": [
            "0.38997149219131944\n"
          ]
        }
      ]
    },
    {
      "cell_type": "code",
      "source": [
        "print('coefficients: \\n',linear.coef_) \n",
        "print('intercepts: \\n',linear.intercept_)"
      ],
      "metadata": {
        "id": "c64y0AbIdvHr",
        "colab": {
          "base_uri": "https://localhost:8080/"
        },
        "outputId": "b0916528-82ae-4bb6-eb7a-c44dee634fc2"
      },
      "execution_count": null,
      "outputs": [
        {
          "output_type": "stream",
          "name": "stdout",
          "text": [
            "coefficients: \n",
            " [0.16692572]\n",
            "intercepts: \n",
            " 3.77360782071784\n"
          ]
        }
      ]
    },
    {
      "cell_type": "code",
      "source": [
        "ans = linear.predict(X_test)\n",
        "print(ans)"
      ],
      "metadata": {
        "id": "0d7zOOdjdvKC",
        "colab": {
          "base_uri": "https://localhost:8080/"
        },
        "outputId": "c36f2086-06ff-48a2-95ba-ae1bc30dce63"
      },
      "execution_count": null,
      "outputs": [
        {
          "output_type": "stream",
          "name": "stdout",
          "text": [
            "[4.59154385 3.77360782 4.45800327 ... 3.77360782 3.77360782 3.77360782]\n"
          ]
        }
      ]
    },
    {
      "cell_type": "code",
      "source": [
        "plt.plot(y_test, ans, 'o')\n",
        "m, b = np.polyfit(y_test,ans, 1)\n",
        "plt.plot(y_test, m*y_test + b)\n",
        "plt.xlabel(\"Actual Magnitude\")\n",
        "plt.ylabel(\"Predicted Magnitude\")"
      ],
      "metadata": {
        "id": "_kRQFLJod3Ri",
        "colab": {
          "base_uri": "https://localhost:8080/",
          "height": 297
        },
        "outputId": "ed08d394-06e3-43e6-8e15-89f0d4520810"
      },
      "execution_count": null,
      "outputs": [
        {
          "output_type": "execute_result",
          "data": {
            "text/plain": [
              "Text(0, 0.5, 'Predicted Magnitude')"
            ]
          },
          "metadata": {},
          "execution_count": 123
        },
        {
          "output_type": "display_data",
          "data": {
            "text/plain": [
              "<Figure size 432x288 with 1 Axes>"
            ],
            "image/png": "[encoded data removed]"
          },
          "metadata": {
            "needs_background": "light"
          }
        }
      ]
    },
    {
      "cell_type": "code",
      "source": [
        "f,ax = plt.subplots(figsize=(10, 10))\n",
        "sn.heatmap(veri.corr(), annot=True, linewidths=.9, fmt= '.2f',ax=ax)\n",
        "plt.show()"
      ],
      "metadata": {
        "id": "oekPIi-HklOM",
        "colab": {
          "base_uri": "https://localhost:8080/",
          "height": 596
        },
        "outputId": "8a2f42ea-b51d-4a5f-d216-14eef2d7dfa9"
      },
      "execution_count": null,
      "outputs": [
        {
          "output_type": "display_data",
          "data": {
            "text/plain": [
              "<Figure size 720x720 with 2 Axes>"
            ],
            "image/png": "[encoded data removed]"
          },
          "metadata": {
            "needs_background": "light"
          }
        }
      ]
    },
    {
      "cell_type": "code",
      "source": [
        "veri.mb.plot(kind=\"line\",grid=True,label=\"body wave magnitude\",linestyle=\"-\",color=\"g\")\n",
        "veri.xm.plot(kind=\"line\",grid=True,label=\"magnitude\",linestyle=\"--\",color=\"b\")\n",
        "plt.legend(loc=\"best\")  \n",
        "plt.title(\"body wave-mag\")\n",
        "plt.show()"
      ],
      "metadata": {
        "id": "Wy4sTI5nklV-",
        "colab": {
          "base_uri": "https://localhost:8080/",
          "height": 281
        },
        "outputId": "30c5e8fe-9ee1-4f51-a374-6fb5610130c9"
      },
      "execution_count": null,
      "outputs": [
        {
          "output_type": "display_data",
          "data": {
            "text/plain": [
              "<Figure size 432x288 with 1 Axes>"
            ],
            "image/png": "[encoded data removed]"
          },
          "metadata": {
            "needs_background": "light"
          }
        }
      ]
    },
    {
      "cell_type": "markdown",
      "source": [
        "## MODEL 8"
      ],
      "metadata": {
        "id": "ODHXOGfVePXw"
      }
    },
    {
      "cell_type": "code",
      "source": [
        "veri=pd.read_csv(('/content/gdrive/My Drive/input/earthquake.csv'), encoding='utf-8', engine='python',sep=',',error_bad_lines=False)\n",
        "veri.describe()"
      ],
      "metadata": {
        "id": "q_UotUQzhNJh",
        "colab": {
          "base_uri": "https://localhost:8080/",
          "height": 392
        },
        "outputId": "52668b9c-2ea7-42af-a965-b6210384a6a2"
      },
      "execution_count": null,
      "outputs": [
        {
          "output_type": "stream",
          "name": "stderr",
          "text": [
            "/usr/local/lib/python3.7/dist-packages/IPython/core/interactiveshell.py:2882: FutureWarning: The error_bad_lines argument has been deprecated and will be removed in a future version.\n",
            "\n",
            "\n",
            "  exec(code_obj, self.user_global_ns, self.user_ns)\n"
          ]
        },
        {
          "output_type": "execute_result",
          "data": {
            "text/plain": [
              "                 id           lat          long          dist         depth  \\\n",
              "count  2.400700e+04  24007.000000  24007.000000  10062.000000  24007.000000   \n",
              "mean   1.991982e+13     37.929474     30.773229      3.175015     18.491773   \n",
              "std    2.060396e+11      2.205605      6.584596      4.715461     23.218553   \n",
              "min    1.910000e+13     29.740000     18.340000      0.100000      0.000000   \n",
              "25%    1.980000e+13     36.190000     26.195000      1.400000      5.000000   \n",
              "50%    2.000000e+13     38.200000     28.350000      2.300000     10.000000   \n",
              "75%    2.010000e+13     39.360000     33.855000      3.600000     22.400000   \n",
              "max    2.020000e+13     46.350000     48.000000     95.400000    225.000000   \n",
              "\n",
              "                 xm            md       richter           mw            ms  \\\n",
              "count  24007.000000  24007.000000  24007.000000  5003.000000  24007.000000   \n",
              "mean       4.056038      1.912346      2.196826     4.478973      0.677677   \n",
              "std        0.574085      2.059780      2.081417     1.048085      1.675708   \n",
              "min        3.500000      0.000000      0.000000     0.000000      0.000000   \n",
              "25%        3.600000      0.000000      0.000000     4.100000      0.000000   \n",
              "50%        3.900000      0.000000      3.500000     4.700000      0.000000   \n",
              "75%        4.400000      3.800000      4.000000     5.000000      0.000000   \n",
              "max        7.900000      7.400000      7.200000     7.700000      7.900000   \n",
              "\n",
              "                 mb  \n",
              "count  24007.000000  \n",
              "mean       1.690561  \n",
              "std        2.146108  \n",
              "min        0.000000  \n",
              "25%        0.000000  \n",
              "50%        0.000000  \n",
              "75%        4.100000  \n",
              "max        7.100000  "
            ],
            "text/html": [
              "\n",
              "  <div id=\"df-44e6a7b1-c680-435d-ac3b-098680352c28\">\n",
              "    <div class=\"colab-df-container\">\n",
              "      <div>\n",
              "<style scoped>\n",
              "    .dataframe tbody tr th:only-of-type {\n",
              "        vertical-align: middle;\n",
              "    }\n",
              "\n",
              "    .dataframe tbody tr th {\n",
              "        vertical-align: top;\n",
              "    }\n",
              "\n",
              "    .dataframe thead th {\n",
              "        text-align: right;\n",
              "    }\n",
              "</style>\n",
              "<table border=\"1\" class=\"dataframe\">\n",
              "  <thead>\n",
              "    <tr style=\"text-align: right;\">\n",
              "      <th></th>\n",
              "      <th>id</th>\n",
              "      <th>lat</th>\n",
              "      <th>long</th>\n",
              "      <th>dist</th>\n",
              "      <th>depth</th>\n",
              "      <th>xm</th>\n",
              "      <th>md</th>\n",
              "      <th>richter</th>\n",
              "      <th>mw</th>\n",
              "      <th>ms</th>\n",
              "      <th>mb</th>\n",
              "    </tr>\n",
              "  </thead>\n",
              "  <tbody>\n",
              "    <tr>\n",
              "      <th>count</th>\n",
              "      <td>2.400700e+04</td>\n",
              "      <td>24007.000000</td>\n",
              "      <td>24007.000000</td>\n",
              "      <td>10062.000000</td>\n",
              "      <td>24007.000000</td>\n",
              "      <td>24007.000000</td>\n",
              "      <td>24007.000000</td>\n",
              "      <td>24007.000000</td>\n",
              "      <td>5003.000000</td>\n",
              "      <td>24007.000000</td>\n",
              "      <td>24007.000000</td>\n",
              "    </tr>\n",
              "    <tr>\n",
              "      <th>mean</th>\n",
              "      <td>1.991982e+13</td>\n",
              "      <td>37.929474</td>\n",
              "      <td>30.773229</td>\n",
              "      <td>3.175015</td>\n",
              "      <td>18.491773</td>\n",
              "      <td>4.056038</td>\n",
              "      <td>1.912346</td>\n",
              "      <td>2.196826</td>\n",
              "      <td>4.478973</td>\n",
              "      <td>0.677677</td>\n",
              "      <td>1.690561</td>\n",
              "    </tr>\n",
              "    <tr>\n",
              "      <th>std</th>\n",
              "      <td>2.060396e+11</td>\n",
              "      <td>2.205605</td>\n",
              "      <td>6.584596</td>\n",
              "      <td>4.715461</td>\n",
              "      <td>23.218553</td>\n",
              "      <td>0.574085</td>\n",
              "      <td>2.059780</td>\n",
              "      <td>2.081417</td>\n",
              "      <td>1.048085</td>\n",
              "      <td>1.675708</td>\n",
              "      <td>2.146108</td>\n",
              "    </tr>\n",
              "    <tr>\n",
              "      <th>min</th>\n",
              "      <td>1.910000e+13</td>\n",
              "      <td>29.740000</td>\n",
              "      <td>18.340000</td>\n",
              "      <td>0.100000</td>\n",
              "      <td>0.000000</td>\n",
              "      <td>3.500000</td>\n",
              "      <td>0.000000</td>\n",
              "      <td>0.000000</td>\n",
              "      <td>0.000000</td>\n",
              "      <td>0.000000</td>\n",
              "      <td>0.000000</td>\n",
              "    </tr>\n",
              "    <tr>\n",
              "      <th>25%</th>\n",
              "      <td>1.980000e+13</td>\n",
              "      <td>36.190000</td>\n",
              "      <td>26.195000</td>\n",
              "      <td>1.400000</td>\n",
              "      <td>5.000000</td>\n",
              "      <td>3.600000</td>\n",
              "      <td>0.000000</td>\n",
              "      <td>0.000000</td>\n",
              "      <td>4.100000</td>\n",
              "      <td>0.000000</td>\n",
              "      <td>0.000000</td>\n",
              "    </tr>\n",
              "    <tr>\n",
              "      <th>50%</th>\n",
              "      <td>2.000000e+13</td>\n",
              "      <td>38.200000</td>\n",
              "      <td>28.350000</td>\n",
              "      <td>2.300000</td>\n",
              "      <td>10.000000</td>\n",
              "      <td>3.900000</td>\n",
              "      <td>0.000000</td>\n",
              "      <td>3.500000</td>\n",
              "      <td>4.700000</td>\n",
              "      <td>0.000000</td>\n",
              "      <td>0.000000</td>\n",
              "    </tr>\n",
              "    <tr>\n",
              "      <th>75%</th>\n",
              "      <td>2.010000e+13</td>\n",
              "      <td>39.360000</td>\n",
              "      <td>33.855000</td>\n",
              "      <td>3.600000</td>\n",
              "      <td>22.400000</td>\n",
              "      <td>4.400000</td>\n",
              "      <td>3.800000</td>\n",
              "      <td>4.000000</td>\n",
              "      <td>5.000000</td>\n",
              "      <td>0.000000</td>\n",
              "      <td>4.100000</td>\n",
              "    </tr>\n",
              "    <tr>\n",
              "      <th>max</th>\n",
              "      <td>2.020000e+13</td>\n",
              "      <td>46.350000</td>\n",
              "      <td>48.000000</td>\n",
              "      <td>95.400000</td>\n",
              "      <td>225.000000</td>\n",
              "      <td>7.900000</td>\n",
              "      <td>7.400000</td>\n",
              "      <td>7.200000</td>\n",
              "      <td>7.700000</td>\n",
              "      <td>7.900000</td>\n",
              "      <td>7.100000</td>\n",
              "    </tr>\n",
              "  </tbody>\n",
              "</table>\n",
              "</div>\n",
              "      <button class=\"colab-df-convert\" onclick=\"convertToInteractive('df-44e6a7b1-c680-435d-ac3b-098680352c28')\"\n",
              "              title=\"Convert this dataframe to an interactive table.\"\n",
              "              style=\"display:none;\">\n",
              "        \n",
              "  <svg xmlns=\"http://www.w3.org/2000/svg\" height=\"24px\"viewBox=\"0 0 24 24\"\n",
              "       width=\"24px\">\n",
              "    <path d=\"M0 0h24v24H0V0z\" fill=\"none\"/>\n",
              "    <path d=\"M18.56 5.44l.94 2.06.94-2.06 2.06-.94-2.06-.94-.94-2.06-.94 2.06-2.06.94zm-11 1L8.5 8.5l.94-2.06 2.06-.94-2.06-.94L8.5 2.5l-.94 2.06-2.06.94zm10 10l.94 2.06.94-2.06 2.06-.94-2.06-.94-.94-2.06-.94 2.06-2.06.94z\"/><path d=\"M17.41 7.96l-1.37-1.37c-.4-.4-.92-.59-1.43-.59-.52 0-1.04.2-1.43.59L10.3 9.45l-7.72 7.72c-.78.78-.78 2.05 0 2.83L4 21.41c.39.39.9.59 1.41.59.51 0 1.02-.2 1.41-.59l7.78-7.78 2.81-2.81c.8-.78.8-2.07 0-2.86zM5.41 20L4 18.59l7.72-7.72 1.47 1.35L5.41 20z\"/>\n",
              "  </svg>\n",
              "      </button>\n",
              "      \n",
              "  <style>\n",
              "    .colab-df-container {\n",
              "      display:flex;\n",
              "      flex-wrap:wrap;\n",
              "      gap: 12px;\n",
              "    }\n",
              "\n",
              "    .colab-df-convert {\n",
              "      background-color: #E8F0FE;\n",
              "      border: none;\n",
              "      border-radius: 50%;\n",
              "      cursor: pointer;\n",
              "      display: none;\n",
              "      fill: #1967D2;\n",
              "      height: 32px;\n",
              "      padding: 0 0 0 0;\n",
              "      width: 32px;\n",
              "    }\n",
              "\n",
              "    .colab-df-convert:hover {\n",
              "      background-color: #E2EBFA;\n",
              "      box-shadow: 0px 1px 2px rgba(60, 64, 67, 0.3), 0px 1px 3px 1px rgba(60, 64, 67, 0.15);\n",
              "      fill: #174EA6;\n",
              "    }\n",
              "\n",
              "    [theme=dark] .colab-df-convert {\n",
              "      background-color: #3B4455;\n",
              "      fill: #D2E3FC;\n",
              "    }\n",
              "\n",
              "    [theme=dark] .colab-df-convert:hover {\n",
              "      background-color: #434B5C;\n",
              "      box-shadow: 0px 1px 3px 1px rgba(0, 0, 0, 0.15);\n",
              "      filter: drop-shadow(0px 1px 2px rgba(0, 0, 0, 0.3));\n",
              "      fill: #FFFFFF;\n",
              "    }\n",
              "  </style>\n",
              "\n",
              "      <script>\n",
              "        const buttonEl =\n",
              "          document.querySelector('#df-44e6a7b1-c680-435d-ac3b-098680352c28 button.colab-df-convert');\n",
              "        buttonEl.style.display =\n",
              "          google.colab.kernel.accessAllowed ? 'block' : 'none';\n",
              "\n",
              "        async function convertToInteractive(key) {\n",
              "          const element = document.querySelector('#df-44e6a7b1-c680-435d-ac3b-098680352c28');\n",
              "          const dataTable =\n",
              "            await google.colab.kernel.invokeFunction('convertToInteractive',\n",
              "                                                     [key], {});\n",
              "          if (!dataTable) return;\n",
              "\n",
              "          const docLinkHtml = 'Like what you see? Visit the ' +\n",
              "            '<a target=\"_blank\" href=https://colab.research.google.com/notebooks/data_table.ipynb>data table notebook</a>'\n",
              "            + ' to learn more about interactive tables.';\n",
              "          element.innerHTML = '';\n",
              "          dataTable['output_type'] = 'display_data';\n",
              "          await google.colab.output.renderOutput(dataTable, element);\n",
              "          const docLink = document.createElement('div');\n",
              "          docLink.innerHTML = docLinkHtml;\n",
              "          element.appendChild(docLink);\n",
              "        }\n",
              "      </script>\n",
              "    </div>\n",
              "  </div>\n",
              "  "
            ]
          },
          "metadata": {},
          "execution_count": 126
        }
      ]
    },
    {
      "cell_type": "code",
      "source": [
        "veri=veri[['md','richter','mb','xm']]    #index 1 is our prediction earthquake\n",
        "data=veri.head(10)  \n",
        "print(data)"
      ],
      "metadata": {
        "id": "bNWHEFLPeSP-",
        "colab": {
          "base_uri": "https://localhost:8080/"
        },
        "outputId": "5d211323-5e59-4c31-fcf3-f4da68cf355c"
      },
      "execution_count": null,
      "outputs": [
        {
          "output_type": "stream",
          "name": "stdout",
          "text": [
            "    md  richter   mb   xm\n",
            "0  4.1      0.0  0.0  4.1\n",
            "1  3.8      4.0  0.0  4.0\n",
            "2  0.0      0.0  3.7  3.7\n",
            "3  3.5      0.0  0.0  3.5\n",
            "4  4.3      0.0  0.0  4.3\n",
            "5  3.5      0.0  0.0  3.5\n",
            "6  0.0      4.5  0.0  4.5\n",
            "7  3.8      0.0  0.0  3.8\n",
            "8  3.8      0.0  0.0  3.8\n",
            "9  0.0      4.2  4.3  4.3\n"
          ]
        }
      ]
    },
    {
      "cell_type": "code",
      "source": [
        "y=np.array(veri['xm'])"
      ],
      "metadata": {
        "id": "hTfJ-VU7eU7R"
      },
      "execution_count": null,
      "outputs": []
    },
    {
      "cell_type": "code",
      "source": [
        "X=np.array(veri.drop('xm',axis=1))"
      ],
      "metadata": {
        "id": "EK1hR_ATeW4Y"
      },
      "execution_count": null,
      "outputs": []
    },
    {
      "cell_type": "code",
      "source": [
        "X_train,X_test,y_train,y_test=train_test_split(X,y,test_size=0.2,random_state=2)"
      ],
      "metadata": {
        "id": "Q5CmTjfBeYFc"
      },
      "execution_count": null,
      "outputs": []
    },
    {
      "cell_type": "code",
      "source": [
        "linear=LinearRegression()\n",
        "linear.fit(X_train,y_train)"
      ],
      "metadata": {
        "id": "vME3pBMbeYHu",
        "colab": {
          "base_uri": "https://localhost:8080/"
        },
        "outputId": "1465e9fb-85fa-4b3a-d75e-c1785249d44d"
      },
      "execution_count": null,
      "outputs": [
        {
          "output_type": "execute_result",
          "data": {
            "text/plain": [
              "LinearRegression()"
            ]
          },
          "metadata": {},
          "execution_count": 131
        }
      ]
    },
    {
      "cell_type": "code",
      "source": [
        "data=linear.score(X_test,y_test)  # score of test datas\n",
        "print(data)"
      ],
      "metadata": {
        "id": "2dIwrDX8eYJ5",
        "colab": {
          "base_uri": "https://localhost:8080/"
        },
        "outputId": "56fb65a4-2580-4eef-98d1-9d629928c166"
      },
      "execution_count": null,
      "outputs": [
        {
          "output_type": "stream",
          "name": "stdout",
          "text": [
            "0.5922785397865215\n"
          ]
        }
      ]
    },
    {
      "cell_type": "code",
      "source": [
        "data=linear.score(X_train,y_train) #score of training datas\n",
        "print(data)"
      ],
      "metadata": {
        "id": "80PdM6LseYLq",
        "colab": {
          "base_uri": "https://localhost:8080/"
        },
        "outputId": "cac1924a-17cb-4822-96a2-8a9d3c2f57cb"
      },
      "execution_count": null,
      "outputs": [
        {
          "output_type": "stream",
          "name": "stdout",
          "text": [
            "0.5850584040922908\n"
          ]
        }
      ]
    },
    {
      "cell_type": "code",
      "source": [
        "print('coefficients: \\n',linear.coef_) \n",
        "print('intercepts: \\n',linear.intercept_)"
      ],
      "metadata": {
        "id": "f_WmgQcpeYNt",
        "colab": {
          "base_uri": "https://localhost:8080/"
        },
        "outputId": "5e5741a0-0f61-4f37-b914-dd4df15a9aba"
      },
      "execution_count": null,
      "outputs": [
        {
          "output_type": "stream",
          "name": "stdout",
          "text": [
            "coefficients: \n",
            " [0.09611856 0.10452343 0.14484328]\n",
            "intercepts: \n",
            " 3.397928902765588\n"
          ]
        }
      ]
    },
    {
      "cell_type": "code",
      "source": [
        "ans = linear.predict(X_test)\n",
        "print(ans)"
      ],
      "metadata": {
        "id": "wYC4j22EeYPv",
        "colab": {
          "base_uri": "https://localhost:8080/"
        },
        "outputId": "ae8c407a-0c92-4455-c34a-a7432af9ca7c"
      },
      "execution_count": null,
      "outputs": [
        {
          "output_type": "stream",
          "name": "stdout",
          "text": [
            "[5.07074252 3.7439557  4.48304648 ... 3.7439557  3.75356756 3.7439557 ]\n"
          ]
        }
      ]
    },
    {
      "cell_type": "code",
      "source": [
        "plt.plot(y_test, ans, 'o')\n",
        "m, b = np.polyfit(y_test,ans, 1)\n",
        "plt.plot(y_test, m*y_test + b)\n",
        "plt.xlabel(\"Actual Magnitude\")\n",
        "plt.ylabel(\"Predicted Magnitude\")"
      ],
      "metadata": {
        "id": "LjxU3-3xeYRw",
        "colab": {
          "base_uri": "https://localhost:8080/",
          "height": 297
        },
        "outputId": "26b00984-20c4-4036-c928-3c10ed97e203"
      },
      "execution_count": null,
      "outputs": [
        {
          "output_type": "execute_result",
          "data": {
            "text/plain": [
              "Text(0, 0.5, 'Predicted Magnitude')"
            ]
          },
          "metadata": {},
          "execution_count": 136
        },
        {
          "output_type": "display_data",
          "data": {
            "text/plain": [
              "<Figure size 432x288 with 1 Axes>"
            ],
            "image/png": "[encoded data removed]"
          },
          "metadata": {
            "needs_background": "light"
          }
        }
      ]
    },
    {
      "cell_type": "code",
      "source": [
        "f,ax = plt.subplots(figsize=(10, 10))\n",
        "sn.heatmap(veri.corr(), annot=True, linewidths=.9, fmt= '.2f',ax=ax)\n",
        "plt.show()"
      ],
      "metadata": {
        "id": "h3ay1Z4LlA_m",
        "colab": {
          "base_uri": "https://localhost:8080/",
          "height": 595
        },
        "outputId": "480fdda5-d85a-4096-d3da-5c12ea830936"
      },
      "execution_count": null,
      "outputs": [
        {
          "output_type": "display_data",
          "data": {
            "text/plain": [
              "<Figure size 720x720 with 2 Axes>"
            ],
            "image/png": "[encoded data removed]"
          },
          "metadata": {
            "needs_background": "light"
          }
        }
      ]
    },
    {
      "cell_type": "code",
      "source": [
        "veri.md.plot(kind=\"line\",grid=True,label=\"magnitude(time)\",linestyle=\"-\",color=\"r\")\n",
        "veri.mb.plot(kind=\"line\",grid=True,label=\"body wave\",linestyle=\":\",color=\"y\")\n",
        "veri.xm.plot(kind=\"line\",grid=True,label=\"magnitude\",linestyle=\"-.\",color=\"b\")\n",
        "plt.legend(loc=\"best\")  \n",
        "plt.title(\"mag(time)-richter-body wave-mag\")\n",
        "plt.show()"
      ],
      "metadata": {
        "id": "Y7KRL1URlBH2",
        "colab": {
          "base_uri": "https://localhost:8080/",
          "height": 281
        },
        "outputId": "ed9086e8-091d-4683-b32a-5b852bc39881"
      },
      "execution_count": null,
      "outputs": [
        {
          "output_type": "display_data",
          "data": {
            "text/plain": [
              "<Figure size 432x288 with 1 Axes>"
            ],
            "image/png": "[encoded data removed]"
          },
          "metadata": {
            "needs_background": "light"
          }
        }
      ]
    },
    {
      "cell_type": "markdown",
      "source": [
        "## MODEL 9"
      ],
      "metadata": {
        "id": "ps0NDMy2e81D"
      }
    },
    {
      "cell_type": "code",
      "source": [
        "veri=pd.read_csv(('/content/gdrive/My Drive/input/earthquake.csv'), encoding='utf-8', engine='python',sep=',',error_bad_lines=False)\n",
        "veri.describe()"
      ],
      "metadata": {
        "id": "UO6EW9v6hQQC",
        "colab": {
          "base_uri": "https://localhost:8080/",
          "height": 392
        },
        "outputId": "96dcb3ba-2b0d-480b-ee5a-2152e916d69f"
      },
      "execution_count": null,
      "outputs": [
        {
          "output_type": "stream",
          "name": "stderr",
          "text": [
            "/usr/local/lib/python3.7/dist-packages/IPython/core/interactiveshell.py:2882: FutureWarning: The error_bad_lines argument has been deprecated and will be removed in a future version.\n",
            "\n",
            "\n",
            "  exec(code_obj, self.user_global_ns, self.user_ns)\n"
          ]
        },
        {
          "output_type": "execute_result",
          "data": {
            "text/plain": [
              "                 id           lat          long          dist         depth  \\\n",
              "count  2.400700e+04  24007.000000  24007.000000  10062.000000  24007.000000   \n",
              "mean   1.991982e+13     37.929474     30.773229      3.175015     18.491773   \n",
              "std    2.060396e+11      2.205605      6.584596      4.715461     23.218553   \n",
              "min    1.910000e+13     29.740000     18.340000      0.100000      0.000000   \n",
              "25%    1.980000e+13     36.190000     26.195000      1.400000      5.000000   \n",
              "50%    2.000000e+13     38.200000     28.350000      2.300000     10.000000   \n",
              "75%    2.010000e+13     39.360000     33.855000      3.600000     22.400000   \n",
              "max    2.020000e+13     46.350000     48.000000     95.400000    225.000000   \n",
              "\n",
              "                 xm            md       richter           mw            ms  \\\n",
              "count  24007.000000  24007.000000  24007.000000  5003.000000  24007.000000   \n",
              "mean       4.056038      1.912346      2.196826     4.478973      0.677677   \n",
              "std        0.574085      2.059780      2.081417     1.048085      1.675708   \n",
              "min        3.500000      0.000000      0.000000     0.000000      0.000000   \n",
              "25%        3.600000      0.000000      0.000000     4.100000      0.000000   \n",
              "50%        3.900000      0.000000      3.500000     4.700000      0.000000   \n",
              "75%        4.400000      3.800000      4.000000     5.000000      0.000000   \n",
              "max        7.900000      7.400000      7.200000     7.700000      7.900000   \n",
              "\n",
              "                 mb  \n",
              "count  24007.000000  \n",
              "mean       1.690561  \n",
              "std        2.146108  \n",
              "min        0.000000  \n",
              "25%        0.000000  \n",
              "50%        0.000000  \n",
              "75%        4.100000  \n",
              "max        7.100000  "
            ],
            "text/html": [
              "\n",
              "  <div id=\"df-dfc3a357-8d26-4ac8-8e60-af2f1324886c\">\n",
              "    <div class=\"colab-df-container\">\n",
              "      <div>\n",
              "<style scoped>\n",
              "    .dataframe tbody tr th:only-of-type {\n",
              "        vertical-align: middle;\n",
              "    }\n",
              "\n",
              "    .dataframe tbody tr th {\n",
              "        vertical-align: top;\n",
              "    }\n",
              "\n",
              "    .dataframe thead th {\n",
              "        text-align: right;\n",
              "    }\n",
              "</style>\n",
              "<table border=\"1\" class=\"dataframe\">\n",
              "  <thead>\n",
              "    <tr style=\"text-align: right;\">\n",
              "      <th></th>\n",
              "      <th>id</th>\n",
              "      <th>lat</th>\n",
              "      <th>long</th>\n",
              "      <th>dist</th>\n",
              "      <th>depth</th>\n",
              "      <th>xm</th>\n",
              "      <th>md</th>\n",
              "      <th>richter</th>\n",
              "      <th>mw</th>\n",
              "      <th>ms</th>\n",
              "      <th>mb</th>\n",
              "    </tr>\n",
              "  </thead>\n",
              "  <tbody>\n",
              "    <tr>\n",
              "      <th>count</th>\n",
              "      <td>2.400700e+04</td>\n",
              "      <td>24007.000000</td>\n",
              "      <td>24007.000000</td>\n",
              "      <td>10062.000000</td>\n",
              "      <td>24007.000000</td>\n",
              "      <td>24007.000000</td>\n",
              "      <td>24007.000000</td>\n",
              "      <td>24007.000000</td>\n",
              "      <td>5003.000000</td>\n",
              "      <td>24007.000000</td>\n",
              "      <td>24007.000000</td>\n",
              "    </tr>\n",
              "    <tr>\n",
              "      <th>mean</th>\n",
              "      <td>1.991982e+13</td>\n",
              "      <td>37.929474</td>\n",
              "      <td>30.773229</td>\n",
              "      <td>3.175015</td>\n",
              "      <td>18.491773</td>\n",
              "      <td>4.056038</td>\n",
              "      <td>1.912346</td>\n",
              "      <td>2.196826</td>\n",
              "      <td>4.478973</td>\n",
              "      <td>0.677677</td>\n",
              "      <td>1.690561</td>\n",
              "    </tr>\n",
              "    <tr>\n",
              "      <th>std</th>\n",
              "      <td>2.060396e+11</td>\n",
              "      <td>2.205605</td>\n",
              "      <td>6.584596</td>\n",
              "      <td>4.715461</td>\n",
              "      <td>23.218553</td>\n",
              "      <td>0.574085</td>\n",
              "      <td>2.059780</td>\n",
              "      <td>2.081417</td>\n",
              "      <td>1.048085</td>\n",
              "      <td>1.675708</td>\n",
              "      <td>2.146108</td>\n",
              "    </tr>\n",
              "    <tr>\n",
              "      <th>min</th>\n",
              "      <td>1.910000e+13</td>\n",
              "      <td>29.740000</td>\n",
              "      <td>18.340000</td>\n",
              "      <td>0.100000</td>\n",
              "      <td>0.000000</td>\n",
              "      <td>3.500000</td>\n",
              "      <td>0.000000</td>\n",
              "      <td>0.000000</td>\n",
              "      <td>0.000000</td>\n",
              "      <td>0.000000</td>\n",
              "      <td>0.000000</td>\n",
              "    </tr>\n",
              "    <tr>\n",
              "      <th>25%</th>\n",
              "      <td>1.980000e+13</td>\n",
              "      <td>36.190000</td>\n",
              "      <td>26.195000</td>\n",
              "      <td>1.400000</td>\n",
              "      <td>5.000000</td>\n",
              "      <td>3.600000</td>\n",
              "      <td>0.000000</td>\n",
              "      <td>0.000000</td>\n",
              "      <td>4.100000</td>\n",
              "      <td>0.000000</td>\n",
              "      <td>0.000000</td>\n",
              "    </tr>\n",
              "    <tr>\n",
              "      <th>50%</th>\n",
              "      <td>2.000000e+13</td>\n",
              "      <td>38.200000</td>\n",
              "      <td>28.350000</td>\n",
              "      <td>2.300000</td>\n",
              "      <td>10.000000</td>\n",
              "      <td>3.900000</td>\n",
              "      <td>0.000000</td>\n",
              "      <td>3.500000</td>\n",
              "      <td>4.700000</td>\n",
              "      <td>0.000000</td>\n",
              "      <td>0.000000</td>\n",
              "    </tr>\n",
              "    <tr>\n",
              "      <th>75%</th>\n",
              "      <td>2.010000e+13</td>\n",
              "      <td>39.360000</td>\n",
              "      <td>33.855000</td>\n",
              "      <td>3.600000</td>\n",
              "      <td>22.400000</td>\n",
              "      <td>4.400000</td>\n",
              "      <td>3.800000</td>\n",
              "      <td>4.000000</td>\n",
              "      <td>5.000000</td>\n",
              "      <td>0.000000</td>\n",
              "      <td>4.100000</td>\n",
              "    </tr>\n",
              "    <tr>\n",
              "      <th>max</th>\n",
              "      <td>2.020000e+13</td>\n",
              "      <td>46.350000</td>\n",
              "      <td>48.000000</td>\n",
              "      <td>95.400000</td>\n",
              "      <td>225.000000</td>\n",
              "      <td>7.900000</td>\n",
              "      <td>7.400000</td>\n",
              "      <td>7.200000</td>\n",
              "      <td>7.700000</td>\n",
              "      <td>7.900000</td>\n",
              "      <td>7.100000</td>\n",
              "    </tr>\n",
              "  </tbody>\n",
              "</table>\n",
              "</div>\n",
              "      <button class=\"colab-df-convert\" onclick=\"convertToInteractive('df-dfc3a357-8d26-4ac8-8e60-af2f1324886c')\"\n",
              "              title=\"Convert this dataframe to an interactive table.\"\n",
              "              style=\"display:none;\">\n",
              "        \n",
              "  <svg xmlns=\"http://www.w3.org/2000/svg\" height=\"24px\"viewBox=\"0 0 24 24\"\n",
              "       width=\"24px\">\n",
              "    <path d=\"M0 0h24v24H0V0z\" fill=\"none\"/>\n",
              "    <path d=\"M18.56 5.44l.94 2.06.94-2.06 2.06-.94-2.06-.94-.94-2.06-.94 2.06-2.06.94zm-11 1L8.5 8.5l.94-2.06 2.06-.94-2.06-.94L8.5 2.5l-.94 2.06-2.06.94zm10 10l.94 2.06.94-2.06 2.06-.94-2.06-.94-.94-2.06-.94 2.06-2.06.94z\"/><path d=\"M17.41 7.96l-1.37-1.37c-.4-.4-.92-.59-1.43-.59-.52 0-1.04.2-1.43.59L10.3 9.45l-7.72 7.72c-.78.78-.78 2.05 0 2.83L4 21.41c.39.39.9.59 1.41.59.51 0 1.02-.2 1.41-.59l7.78-7.78 2.81-2.81c.8-.78.8-2.07 0-2.86zM5.41 20L4 18.59l7.72-7.72 1.47 1.35L5.41 20z\"/>\n",
              "  </svg>\n",
              "      </button>\n",
              "      \n",
              "  <style>\n",
              "    .colab-df-container {\n",
              "      display:flex;\n",
              "      flex-wrap:wrap;\n",
              "      gap: 12px;\n",
              "    }\n",
              "\n",
              "    .colab-df-convert {\n",
              "      background-color: #E8F0FE;\n",
              "      border: none;\n",
              "      border-radius: 50%;\n",
              "      cursor: pointer;\n",
              "      display: none;\n",
              "      fill: #1967D2;\n",
              "      height: 32px;\n",
              "      padding: 0 0 0 0;\n",
              "      width: 32px;\n",
              "    }\n",
              "\n",
              "    .colab-df-convert:hover {\n",
              "      background-color: #E2EBFA;\n",
              "      box-shadow: 0px 1px 2px rgba(60, 64, 67, 0.3), 0px 1px 3px 1px rgba(60, 64, 67, 0.15);\n",
              "      fill: #174EA6;\n",
              "    }\n",
              "\n",
              "    [theme=dark] .colab-df-convert {\n",
              "      background-color: #3B4455;\n",
              "      fill: #D2E3FC;\n",
              "    }\n",
              "\n",
              "    [theme=dark] .colab-df-convert:hover {\n",
              "      background-color: #434B5C;\n",
              "      box-shadow: 0px 1px 3px 1px rgba(0, 0, 0, 0.15);\n",
              "      filter: drop-shadow(0px 1px 2px rgba(0, 0, 0, 0.3));\n",
              "      fill: #FFFFFF;\n",
              "    }\n",
              "  </style>\n",
              "\n",
              "      <script>\n",
              "        const buttonEl =\n",
              "          document.querySelector('#df-dfc3a357-8d26-4ac8-8e60-af2f1324886c button.colab-df-convert');\n",
              "        buttonEl.style.display =\n",
              "          google.colab.kernel.accessAllowed ? 'block' : 'none';\n",
              "\n",
              "        async function convertToInteractive(key) {\n",
              "          const element = document.querySelector('#df-dfc3a357-8d26-4ac8-8e60-af2f1324886c');\n",
              "          const dataTable =\n",
              "            await google.colab.kernel.invokeFunction('convertToInteractive',\n",
              "                                                     [key], {});\n",
              "          if (!dataTable) return;\n",
              "\n",
              "          const docLinkHtml = 'Like what you see? Visit the ' +\n",
              "            '<a target=\"_blank\" href=https://colab.research.google.com/notebooks/data_table.ipynb>data table notebook</a>'\n",
              "            + ' to learn more about interactive tables.';\n",
              "          element.innerHTML = '';\n",
              "          dataTable['output_type'] = 'display_data';\n",
              "          await google.colab.output.renderOutput(dataTable, element);\n",
              "          const docLink = document.createElement('div');\n",
              "          docLink.innerHTML = docLinkHtml;\n",
              "          element.appendChild(docLink);\n",
              "        }\n",
              "      </script>\n",
              "    </div>\n",
              "  </div>\n",
              "  "
            ]
          },
          "metadata": {},
          "execution_count": 139
        }
      ]
    },
    {
      "cell_type": "code",
      "source": [
        "veri=veri[['lat','long','xm']]    #index 1 is our prediction earthquake\n",
        "data=veri.head(10)  \n",
        "print(data)"
      ],
      "metadata": {
        "id": "UGbwhRaQeYVL",
        "colab": {
          "base_uri": "https://localhost:8080/"
        },
        "outputId": "79405ad1-2152-4b2a-9c55-e8eab1f6701e"
      },
      "execution_count": null,
      "outputs": [
        {
          "output_type": "stream",
          "name": "stdout",
          "text": [
            "     lat   long   xm\n",
            "0  39.04  40.38  4.1\n",
            "1  40.79  30.09  4.0\n",
            "2  38.58  27.61  3.7\n",
            "3  39.47  36.44  3.5\n",
            "4  40.80  30.24  4.3\n",
            "5  37.11  27.75  3.5\n",
            "6  38.75  43.61  4.5\n",
            "7  39.43  27.98  3.8\n",
            "8  40.05  34.07  3.8\n",
            "9  38.76  43.54  4.3\n"
          ]
        }
      ]
    },
    {
      "cell_type": "code",
      "source": [
        "y=np.array(veri['xm'])"
      ],
      "metadata": {
        "id": "I7EfYdlVeYZH"
      },
      "execution_count": null,
      "outputs": []
    },
    {
      "cell_type": "code",
      "source": [
        "X=np.array(veri.drop('xm',axis=1))"
      ],
      "metadata": {
        "id": "wxbbXA73fOGK"
      },
      "execution_count": null,
      "outputs": []
    },
    {
      "cell_type": "code",
      "source": [
        "X_train,X_test,y_train,y_test=train_test_split(X,y,test_size=0.2,random_state=2)"
      ],
      "metadata": {
        "id": "zThvl2llfOIi"
      },
      "execution_count": null,
      "outputs": []
    },
    {
      "cell_type": "code",
      "source": [
        "linear=LinearRegression()\n",
        "linear.fit(X_train,y_train)"
      ],
      "metadata": {
        "id": "TxZFUyeLfOLV",
        "colab": {
          "base_uri": "https://localhost:8080/"
        },
        "outputId": "e2961408-ceda-41bb-e048-b166436d6a39"
      },
      "execution_count": null,
      "outputs": [
        {
          "output_type": "execute_result",
          "data": {
            "text/plain": [
              "LinearRegression()"
            ]
          },
          "metadata": {},
          "execution_count": 144
        }
      ]
    },
    {
      "cell_type": "code",
      "source": [
        "data=linear.score(X_test,y_test)  # score of test datas\n",
        "print(data)"
      ],
      "metadata": {
        "id": "3uxc1YGsfONL",
        "colab": {
          "base_uri": "https://localhost:8080/"
        },
        "outputId": "6bf1975e-1b2e-43c7-c1d7-f5d989981aa1"
      },
      "execution_count": null,
      "outputs": [
        {
          "output_type": "stream",
          "name": "stdout",
          "text": [
            "0.004976502022519758\n"
          ]
        }
      ]
    },
    {
      "cell_type": "code",
      "source": [
        "data=linear.score(X_train,y_train) #score of training datas\n",
        "print(data)"
      ],
      "metadata": {
        "id": "oO-fmWjifOQC",
        "colab": {
          "base_uri": "https://localhost:8080/"
        },
        "outputId": "296fa691-2083-479e-b2e3-ed7c537f5728"
      },
      "execution_count": null,
      "outputs": [
        {
          "output_type": "stream",
          "name": "stdout",
          "text": [
            "0.006093037938189383\n"
          ]
        }
      ]
    },
    {
      "cell_type": "code",
      "source": [
        "print('coefficients: \\n',linear.coef_) \n",
        "print('intercepts: \\n',linear.intercept_)"
      ],
      "metadata": {
        "id": "MyU2Ykj2fORv",
        "colab": {
          "base_uri": "https://localhost:8080/"
        },
        "outputId": "3e2487ab-c8d6-4b4f-fe41-810be44307b3"
      },
      "execution_count": null,
      "outputs": [
        {
          "output_type": "stream",
          "name": "stdout",
          "text": [
            "coefficients: \n",
            " [-0.0077287   0.00695094]\n",
            "intercepts: \n",
            " 4.137397140405978\n"
          ]
        }
      ]
    },
    {
      "cell_type": "code",
      "source": [
        "ans = linear.predict(X_test)\n",
        "print(ans)"
      ],
      "metadata": {
        "id": "hTqzvyeifZk5",
        "colab": {
          "base_uri": "https://localhost:8080/"
        },
        "outputId": "6b5d2a69-46db-4bb3-a1b8-24dc0c07e7e3"
      },
      "execution_count": null,
      "outputs": [
        {
          "output_type": "stream",
          "name": "stdout",
          "text": [
            "[4.04653297 4.06979386 4.08016288 ... 4.11162424 4.03629165 4.11272083]\n"
          ]
        }
      ]
    },
    {
      "cell_type": "code",
      "source": [
        "plt.plot(y_test, ans, 'o')\n",
        "m, b = np.polyfit(y_test,ans, 1)\n",
        "plt.plot(y_test, m*y_test + b)\n",
        "plt.xlabel(\"Actual Magnitude\")\n",
        "plt.ylabel(\"Predicted Magnitude\")"
      ],
      "metadata": {
        "id": "GS8NrmPUfZm-",
        "colab": {
          "base_uri": "https://localhost:8080/",
          "height": 297
        },
        "outputId": "db69a0a6-eeec-4ddd-c66d-a7c6d29a3441"
      },
      "execution_count": null,
      "outputs": [
        {
          "output_type": "execute_result",
          "data": {
            "text/plain": [
              "Text(0, 0.5, 'Predicted Magnitude')"
            ]
          },
          "metadata": {},
          "execution_count": 149
        },
        {
          "output_type": "display_data",
          "data": {
            "text/plain": [
              "<Figure size 432x288 with 1 Axes>"
            ],
            "image/png": "[encoded data removed]"
          },
          "metadata": {
            "needs_background": "light"
          }
        }
      ]
    },
    {
      "cell_type": "code",
      "source": [
        "f,ax = plt.subplots(figsize=(10, 10))\n",
        "sn.heatmap(veri.corr(), annot=True, linewidths=.9, fmt= '.2f',ax=ax)\n",
        "plt.show()"
      ],
      "metadata": {
        "id": "AUZ9NPDanQQS",
        "colab": {
          "base_uri": "https://localhost:8080/",
          "height": 596
        },
        "outputId": "783d51c3-78cc-46a0-9d3c-a8a2144d301f"
      },
      "execution_count": null,
      "outputs": [
        {
          "output_type": "display_data",
          "data": {
            "text/plain": [
              "<Figure size 720x720 with 2 Axes>"
            ],
            "image/png": "[encoded data removed]"
          },
          "metadata": {
            "needs_background": "light"
          }
        }
      ]
    },
    {
      "cell_type": "code",
      "source": [
        "veri.lat.plot(kind=\"line\",grid=True,label=\"latitude\",linestyle=\"-\",color=\"r\")\n",
        "veri.long.plot(kind=\"line\",grid=True,label=\"longitude\",linestyle=\"--\",color=\"g\")\n",
        "veri.xm.plot(kind=\"line\",grid=True,label=\"magnitude\",linestyle=\"--\",color=\"b\")\n",
        "plt.legend(loc=\"best\")  \n",
        "plt.title(\"lat-long-mag\")\n",
        "plt.show()"
      ],
      "metadata": {
        "id": "7G07d1l9nQSW",
        "colab": {
          "base_uri": "https://localhost:8080/",
          "height": 281
        },
        "outputId": "7ba56710-e1b4-4d5d-aacd-225ea9624be1"
      },
      "execution_count": null,
      "outputs": [
        {
          "output_type": "display_data",
          "data": {
            "text/plain": [
              "<Figure size 432x288 with 1 Axes>"
            ],
            "image/png": "[encoded data removed]"
          },
          "metadata": {
            "needs_background": "light"
          }
        }
      ]
    },
    {
      "cell_type": "markdown",
      "source": [
        "## MODEL 10"
      ],
      "metadata": {
        "id": "uSzNBYD1foYR"
      }
    },
    {
      "cell_type": "code",
      "source": [
        "veri=pd.read_csv(('/content/gdrive/My Drive/input/earthquake.csv'), encoding='utf-8', engine='python',sep=',',error_bad_lines=False)\n",
        "veri.describe()"
      ],
      "metadata": {
        "id": "9iCLdRA2hR21",
        "colab": {
          "base_uri": "https://localhost:8080/",
          "height": 392
        },
        "outputId": "4c47bddd-1af8-44f4-e893-49352d5d9c68"
      },
      "execution_count": null,
      "outputs": [
        {
          "output_type": "stream",
          "name": "stderr",
          "text": [
            "/usr/local/lib/python3.7/dist-packages/IPython/core/interactiveshell.py:2882: FutureWarning: The error_bad_lines argument has been deprecated and will be removed in a future version.\n",
            "\n",
            "\n",
            "  exec(code_obj, self.user_global_ns, self.user_ns)\n"
          ]
        },
        {
          "output_type": "execute_result",
          "data": {
            "text/plain": [
              "                 id           lat          long          dist         depth  \\\n",
              "count  2.400700e+04  24007.000000  24007.000000  10062.000000  24007.000000   \n",
              "mean   1.991982e+13     37.929474     30.773229      3.175015     18.491773   \n",
              "std    2.060396e+11      2.205605      6.584596      4.715461     23.218553   \n",
              "min    1.910000e+13     29.740000     18.340000      0.100000      0.000000   \n",
              "25%    1.980000e+13     36.190000     26.195000      1.400000      5.000000   \n",
              "50%    2.000000e+13     38.200000     28.350000      2.300000     10.000000   \n",
              "75%    2.010000e+13     39.360000     33.855000      3.600000     22.400000   \n",
              "max    2.020000e+13     46.350000     48.000000     95.400000    225.000000   \n",
              "\n",
              "                 xm            md       richter           mw            ms  \\\n",
              "count  24007.000000  24007.000000  24007.000000  5003.000000  24007.000000   \n",
              "mean       4.056038      1.912346      2.196826     4.478973      0.677677   \n",
              "std        0.574085      2.059780      2.081417     1.048085      1.675708   \n",
              "min        3.500000      0.000000      0.000000     0.000000      0.000000   \n",
              "25%        3.600000      0.000000      0.000000     4.100000      0.000000   \n",
              "50%        3.900000      0.000000      3.500000     4.700000      0.000000   \n",
              "75%        4.400000      3.800000      4.000000     5.000000      0.000000   \n",
              "max        7.900000      7.400000      7.200000     7.700000      7.900000   \n",
              "\n",
              "                 mb  \n",
              "count  24007.000000  \n",
              "mean       1.690561  \n",
              "std        2.146108  \n",
              "min        0.000000  \n",
              "25%        0.000000  \n",
              "50%        0.000000  \n",
              "75%        4.100000  \n",
              "max        7.100000  "
            ],
            "text/html": [
              "\n",
              "  <div id=\"df-d674906e-5122-4122-92c3-5db13a52fd74\">\n",
              "    <div class=\"colab-df-container\">\n",
              "      <div>\n",
              "<style scoped>\n",
              "    .dataframe tbody tr th:only-of-type {\n",
              "        vertical-align: middle;\n",
              "    }\n",
              "\n",
              "    .dataframe tbody tr th {\n",
              "        vertical-align: top;\n",
              "    }\n",
              "\n",
              "    .dataframe thead th {\n",
              "        text-align: right;\n",
              "    }\n",
              "</style>\n",
              "<table border=\"1\" class=\"dataframe\">\n",
              "  <thead>\n",
              "    <tr style=\"text-align: right;\">\n",
              "      <th></th>\n",
              "      <th>id</th>\n",
              "      <th>lat</th>\n",
              "      <th>long</th>\n",
              "      <th>dist</th>\n",
              "      <th>depth</th>\n",
              "      <th>xm</th>\n",
              "      <th>md</th>\n",
              "      <th>richter</th>\n",
              "      <th>mw</th>\n",
              "      <th>ms</th>\n",
              "      <th>mb</th>\n",
              "    </tr>\n",
              "  </thead>\n",
              "  <tbody>\n",
              "    <tr>\n",
              "      <th>count</th>\n",
              "      <td>2.400700e+04</td>\n",
              "      <td>24007.000000</td>\n",
              "      <td>24007.000000</td>\n",
              "      <td>10062.000000</td>\n",
              "      <td>24007.000000</td>\n",
              "      <td>24007.000000</td>\n",
              "      <td>24007.000000</td>\n",
              "      <td>24007.000000</td>\n",
              "      <td>5003.000000</td>\n",
              "      <td>24007.000000</td>\n",
              "      <td>24007.000000</td>\n",
              "    </tr>\n",
              "    <tr>\n",
              "      <th>mean</th>\n",
              "      <td>1.991982e+13</td>\n",
              "      <td>37.929474</td>\n",
              "      <td>30.773229</td>\n",
              "      <td>3.175015</td>\n",
              "      <td>18.491773</td>\n",
              "      <td>4.056038</td>\n",
              "      <td>1.912346</td>\n",
              "      <td>2.196826</td>\n",
              "      <td>4.478973</td>\n",
              "      <td>0.677677</td>\n",
              "      <td>1.690561</td>\n",
              "    </tr>\n",
              "    <tr>\n",
              "      <th>std</th>\n",
              "      <td>2.060396e+11</td>\n",
              "      <td>2.205605</td>\n",
              "      <td>6.584596</td>\n",
              "      <td>4.715461</td>\n",
              "      <td>23.218553</td>\n",
              "      <td>0.574085</td>\n",
              "      <td>2.059780</td>\n",
              "      <td>2.081417</td>\n",
              "      <td>1.048085</td>\n",
              "      <td>1.675708</td>\n",
              "      <td>2.146108</td>\n",
              "    </tr>\n",
              "    <tr>\n",
              "      <th>min</th>\n",
              "      <td>1.910000e+13</td>\n",
              "      <td>29.740000</td>\n",
              "      <td>18.340000</td>\n",
              "      <td>0.100000</td>\n",
              "      <td>0.000000</td>\n",
              "      <td>3.500000</td>\n",
              "      <td>0.000000</td>\n",
              "      <td>0.000000</td>\n",
              "      <td>0.000000</td>\n",
              "      <td>0.000000</td>\n",
              "      <td>0.000000</td>\n",
              "    </tr>\n",
              "    <tr>\n",
              "      <th>25%</th>\n",
              "      <td>1.980000e+13</td>\n",
              "      <td>36.190000</td>\n",
              "      <td>26.195000</td>\n",
              "      <td>1.400000</td>\n",
              "      <td>5.000000</td>\n",
              "      <td>3.600000</td>\n",
              "      <td>0.000000</td>\n",
              "      <td>0.000000</td>\n",
              "      <td>4.100000</td>\n",
              "      <td>0.000000</td>\n",
              "      <td>0.000000</td>\n",
              "    </tr>\n",
              "    <tr>\n",
              "      <th>50%</th>\n",
              "      <td>2.000000e+13</td>\n",
              "      <td>38.200000</td>\n",
              "      <td>28.350000</td>\n",
              "      <td>2.300000</td>\n",
              "      <td>10.000000</td>\n",
              "      <td>3.900000</td>\n",
              "      <td>0.000000</td>\n",
              "      <td>3.500000</td>\n",
              "      <td>4.700000</td>\n",
              "      <td>0.000000</td>\n",
              "      <td>0.000000</td>\n",
              "    </tr>\n",
              "    <tr>\n",
              "      <th>75%</th>\n",
              "      <td>2.010000e+13</td>\n",
              "      <td>39.360000</td>\n",
              "      <td>33.855000</td>\n",
              "      <td>3.600000</td>\n",
              "      <td>22.400000</td>\n",
              "      <td>4.400000</td>\n",
              "      <td>3.800000</td>\n",
              "      <td>4.000000</td>\n",
              "      <td>5.000000</td>\n",
              "      <td>0.000000</td>\n",
              "      <td>4.100000</td>\n",
              "    </tr>\n",
              "    <tr>\n",
              "      <th>max</th>\n",
              "      <td>2.020000e+13</td>\n",
              "      <td>46.350000</td>\n",
              "      <td>48.000000</td>\n",
              "      <td>95.400000</td>\n",
              "      <td>225.000000</td>\n",
              "      <td>7.900000</td>\n",
              "      <td>7.400000</td>\n",
              "      <td>7.200000</td>\n",
              "      <td>7.700000</td>\n",
              "      <td>7.900000</td>\n",
              "      <td>7.100000</td>\n",
              "    </tr>\n",
              "  </tbody>\n",
              "</table>\n",
              "</div>\n",
              "      <button class=\"colab-df-convert\" onclick=\"convertToInteractive('df-d674906e-5122-4122-92c3-5db13a52fd74')\"\n",
              "              title=\"Convert this dataframe to an interactive table.\"\n",
              "              style=\"display:none;\">\n",
              "        \n",
              "  <svg xmlns=\"http://www.w3.org/2000/svg\" height=\"24px\"viewBox=\"0 0 24 24\"\n",
              "       width=\"24px\">\n",
              "    <path d=\"M0 0h24v24H0V0z\" fill=\"none\"/>\n",
              "    <path d=\"M18.56 5.44l.94 2.06.94-2.06 2.06-.94-2.06-.94-.94-2.06-.94 2.06-2.06.94zm-11 1L8.5 8.5l.94-2.06 2.06-.94-2.06-.94L8.5 2.5l-.94 2.06-2.06.94zm10 10l.94 2.06.94-2.06 2.06-.94-2.06-.94-.94-2.06-.94 2.06-2.06.94z\"/><path d=\"M17.41 7.96l-1.37-1.37c-.4-.4-.92-.59-1.43-.59-.52 0-1.04.2-1.43.59L10.3 9.45l-7.72 7.72c-.78.78-.78 2.05 0 2.83L4 21.41c.39.39.9.59 1.41.59.51 0 1.02-.2 1.41-.59l7.78-7.78 2.81-2.81c.8-.78.8-2.07 0-2.86zM5.41 20L4 18.59l7.72-7.72 1.47 1.35L5.41 20z\"/>\n",
              "  </svg>\n",
              "      </button>\n",
              "      \n",
              "  <style>\n",
              "    .colab-df-container {\n",
              "      display:flex;\n",
              "      flex-wrap:wrap;\n",
              "      gap: 12px;\n",
              "    }\n",
              "\n",
              "    .colab-df-convert {\n",
              "      background-color: #E8F0FE;\n",
              "      border: none;\n",
              "      border-radius: 50%;\n",
              "      cursor: pointer;\n",
              "      display: none;\n",
              "      fill: #1967D2;\n",
              "      height: 32px;\n",
              "      padding: 0 0 0 0;\n",
              "      width: 32px;\n",
              "    }\n",
              "\n",
              "    .colab-df-convert:hover {\n",
              "      background-color: #E2EBFA;\n",
              "      box-shadow: 0px 1px 2px rgba(60, 64, 67, 0.3), 0px 1px 3px 1px rgba(60, 64, 67, 0.15);\n",
              "      fill: #174EA6;\n",
              "    }\n",
              "\n",
              "    [theme=dark] .colab-df-convert {\n",
              "      background-color: #3B4455;\n",
              "      fill: #D2E3FC;\n",
              "    }\n",
              "\n",
              "    [theme=dark] .colab-df-convert:hover {\n",
              "      background-color: #434B5C;\n",
              "      box-shadow: 0px 1px 3px 1px rgba(0, 0, 0, 0.15);\n",
              "      filter: drop-shadow(0px 1px 2px rgba(0, 0, 0, 0.3));\n",
              "      fill: #FFFFFF;\n",
              "    }\n",
              "  </style>\n",
              "\n",
              "      <script>\n",
              "        const buttonEl =\n",
              "          document.querySelector('#df-d674906e-5122-4122-92c3-5db13a52fd74 button.colab-df-convert');\n",
              "        buttonEl.style.display =\n",
              "          google.colab.kernel.accessAllowed ? 'block' : 'none';\n",
              "\n",
              "        async function convertToInteractive(key) {\n",
              "          const element = document.querySelector('#df-d674906e-5122-4122-92c3-5db13a52fd74');\n",
              "          const dataTable =\n",
              "            await google.colab.kernel.invokeFunction('convertToInteractive',\n",
              "                                                     [key], {});\n",
              "          if (!dataTable) return;\n",
              "\n",
              "          const docLinkHtml = 'Like what you see? Visit the ' +\n",
              "            '<a target=\"_blank\" href=https://colab.research.google.com/notebooks/data_table.ipynb>data table notebook</a>'\n",
              "            + ' to learn more about interactive tables.';\n",
              "          element.innerHTML = '';\n",
              "          dataTable['output_type'] = 'display_data';\n",
              "          await google.colab.output.renderOutput(dataTable, element);\n",
              "          const docLink = document.createElement('div');\n",
              "          docLink.innerHTML = docLinkHtml;\n",
              "          element.appendChild(docLink);\n",
              "        }\n",
              "      </script>\n",
              "    </div>\n",
              "  </div>\n",
              "  "
            ]
          },
          "metadata": {},
          "execution_count": 152
        }
      ]
    },
    {
      "cell_type": "code",
      "source": [
        "veri=veri[['md','mb','xm']]    #index 1 is our prediction earthquake\n",
        "data=veri.head(10)  \n",
        "print(data)"
      ],
      "metadata": {
        "id": "2rnWVpV6fOTV",
        "colab": {
          "base_uri": "https://localhost:8080/"
        },
        "outputId": "11c737d2-e5a5-4376-9109-6a9c08d303bd"
      },
      "execution_count": null,
      "outputs": [
        {
          "output_type": "stream",
          "name": "stdout",
          "text": [
            "    md   mb   xm\n",
            "0  4.1  0.0  4.1\n",
            "1  3.8  0.0  4.0\n",
            "2  0.0  3.7  3.7\n",
            "3  3.5  0.0  3.5\n",
            "4  4.3  0.0  4.3\n",
            "5  3.5  0.0  3.5\n",
            "6  0.0  0.0  4.5\n",
            "7  3.8  0.0  3.8\n",
            "8  3.8  0.0  3.8\n",
            "9  0.0  4.3  4.3\n"
          ]
        }
      ]
    },
    {
      "cell_type": "code",
      "source": [
        "y=np.array(veri['xm'])"
      ],
      "metadata": {
        "id": "2EtqjqkWfuKu"
      },
      "execution_count": null,
      "outputs": []
    },
    {
      "cell_type": "code",
      "source": [
        "X=np.array(veri.drop('xm',axis=1))"
      ],
      "metadata": {
        "id": "-GaE6XfZfuM5"
      },
      "execution_count": null,
      "outputs": []
    },
    {
      "cell_type": "code",
      "source": [
        "X_train,X_test,y_train,y_test=train_test_split(X,y,test_size=0.2,random_state=2)"
      ],
      "metadata": {
        "id": "0yYYrVZIfuO4"
      },
      "execution_count": null,
      "outputs": []
    },
    {
      "cell_type": "code",
      "source": [
        "linear=LinearRegression()\n",
        "linear.fit(X_train,y_train)"
      ],
      "metadata": {
        "id": "xUiTzNzBfuRU",
        "colab": {
          "base_uri": "https://localhost:8080/"
        },
        "outputId": "e33ff929-6b45-43ad-adbc-6b4e836db7da"
      },
      "execution_count": null,
      "outputs": [
        {
          "output_type": "execute_result",
          "data": {
            "text/plain": [
              "LinearRegression()"
            ]
          },
          "metadata": {},
          "execution_count": 157
        }
      ]
    },
    {
      "cell_type": "code",
      "source": [
        "data=linear.score(X_test,y_test)  # score of test datas\n",
        "print(data)"
      ],
      "metadata": {
        "id": "SJaNsaDgfuTR",
        "colab": {
          "base_uri": "https://localhost:8080/"
        },
        "outputId": "bfe783b0-0e44-4914-849a-d77da197deb3"
      },
      "execution_count": null,
      "outputs": [
        {
          "output_type": "stream",
          "name": "stdout",
          "text": [
            "0.47361351773114924\n"
          ]
        }
      ]
    },
    {
      "cell_type": "code",
      "source": [
        "data=linear.score(X_train,y_train) #score of training datas\n",
        "print(data)"
      ],
      "metadata": {
        "id": "2vVD_PTPfuVI",
        "colab": {
          "base_uri": "https://localhost:8080/"
        },
        "outputId": "d32a7db7-4937-4287-cbc6-972cde4487cb"
      },
      "execution_count": null,
      "outputs": [
        {
          "output_type": "stream",
          "name": "stdout",
          "text": [
            "0.45695064970434807\n"
          ]
        }
      ]
    },
    {
      "cell_type": "code",
      "source": [
        "print('coefficients: \\n',linear.coef_) \n",
        "print('intercepts: \\n',linear.intercept_)"
      ],
      "metadata": {
        "id": "P1c0Wg0qfuuO",
        "colab": {
          "base_uri": "https://localhost:8080/"
        },
        "outputId": "6cf3daf6-9b21-4d86-959b-caeae052846a"
      },
      "execution_count": null,
      "outputs": [
        {
          "output_type": "stream",
          "name": "stdout",
          "text": [
            "coefficients: \n",
            " [0.07211589 0.16844211]\n",
            "intercepts: \n",
            " 3.6333801034053885\n"
          ]
        }
      ]
    },
    {
      "cell_type": "code",
      "source": [
        "ans = linear.predict(X_test)\n",
        "print(ans)"
      ],
      "metadata": {
        "id": "l8H5BB1mfuv_",
        "colab": {
          "base_uri": "https://localhost:8080/"
        },
        "outputId": "e82ead2f-0356-4326-e5be-9e86c506ddb3"
      },
      "execution_count": null,
      "outputs": [
        {
          "output_type": "stream",
          "name": "stdout",
          "text": [
            "[4.80490269 3.8929973  4.32399274 ... 3.8929973  3.90020889 3.8929973 ]\n"
          ]
        }
      ]
    },
    {
      "cell_type": "code",
      "source": [
        "plt.plot(y_test, ans, 'o')\n",
        "m, b = np.polyfit(y_test,ans, 1)\n",
        "plt.plot(y_test, m*y_test + b)\n",
        "plt.xlabel(\"Actual Magnitude\")\n",
        "plt.ylabel(\"Predicted Magnitude\")"
      ],
      "metadata": {
        "id": "cwqHwEhkfuyL",
        "colab": {
          "base_uri": "https://localhost:8080/",
          "height": 297
        },
        "outputId": "23051eeb-db37-4065-8a98-66a66821437b"
      },
      "execution_count": null,
      "outputs": [
        {
          "output_type": "execute_result",
          "data": {
            "text/plain": [
              "Text(0, 0.5, 'Predicted Magnitude')"
            ]
          },
          "metadata": {},
          "execution_count": 162
        },
        {
          "output_type": "display_data",
          "data": {
            "text/plain": [
              "<Figure size 432x288 with 1 Axes>"
            ],
            "image/png": "[encoded data removed]"
          },
          "metadata": {
            "needs_background": "light"
          }
        }
      ]
    },
    {
      "cell_type": "code",
      "source": [
        "f,ax = plt.subplots(figsize=(10, 10))\n",
        "sn.heatmap(veri.corr(), annot=True, linewidths=.9, fmt= '.2f',ax=ax)\n",
        "plt.show()"
      ],
      "metadata": {
        "id": "A3grPSGRnrgC",
        "colab": {
          "base_uri": "https://localhost:8080/",
          "height": 596
        },
        "outputId": "bd358234-b2fc-42ee-9c5a-5e9f47d63da1"
      },
      "execution_count": null,
      "outputs": [
        {
          "output_type": "display_data",
          "data": {
            "text/plain": [
              "<Figure size 720x720 with 2 Axes>"
            ],
            "image/png": "[encoded data removed]"
          },
          "metadata": {
            "needs_background": "light"
          }
        }
      ]
    },
    {
      "cell_type": "code",
      "source": [
        "veri.md.plot(kind=\"line\",grid=True,label=\"magnitude(time)\",linestyle=\"-\",color=\"r\")\n",
        "veri.mb.plot(kind=\"line\",grid=True,label=\"body wave\",linestyle=\"--\",color=\"g\")\n",
        "veri.xm.plot(kind=\"line\",grid=True,label=\"magnitude\",linestyle=\"--\",color=\"b\")\n",
        "plt.legend(loc=\"best\")  \n",
        "plt.title(\"depth-lat-mag\")\n",
        "plt.show()"
      ],
      "metadata": {
        "id": "93gqMLNvnrpM",
        "colab": {
          "base_uri": "https://localhost:8080/",
          "height": 281
        },
        "outputId": "8b953f0a-82b1-4118-e904-8e8dd85d8172"
      },
      "execution_count": null,
      "outputs": [
        {
          "output_type": "display_data",
          "data": {
            "text/plain": [
              "<Figure size 432x288 with 1 Axes>"
            ],
            "image/png": "[encoded data removed]"
          },
          "metadata": {
            "needs_background": "light"
          }
        }
      ]
    }
  ]
}